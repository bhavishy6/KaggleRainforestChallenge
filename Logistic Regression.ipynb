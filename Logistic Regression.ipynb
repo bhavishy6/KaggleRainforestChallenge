{
 "cells": [
  {
   "cell_type": "code",
   "execution_count": 1,
   "metadata": {},
   "outputs": [
    {
     "name": "stderr",
     "output_type": "stream",
     "text": [
      "c:\\users\\bhavi\\appdata\\local\\programs\\python\\python37\\lib\\site-packages\\torchaudio\\extension\\extension.py:14: UserWarning: torchaudio C++ extension is not available.\n",
      "  warnings.warn('torchaudio C++ extension is not available.')\n",
      "c:\\users\\bhavi\\appdata\\local\\programs\\python\\python37\\lib\\site-packages\\torchaudio\\backend\\utils.py:64: UserWarning: The interface of \"soundfile\" backend is planned to change in 0.8.0 to match that of \"sox_io\" backend and the current interface will be removed in 0.9.0. To use the new interface, do `torchaudio.USE_SOUNDFILE_LEGACY_INTERFACE = False` before setting the backend to \"soundfile\". Please refer to https://github.com/pytorch/audio/issues/903 for the detail.\n",
      "  'The interface of \"soundfile\" backend is planned to change in 0.8.0 to '\n"
     ]
    }
   ],
   "source": [
    "import torch\n",
    "import torchaudio\n",
    "import matplotlib.pyplot as plt\n",
    "import pandas as pd\n",
    "import numpy as np\n",
    "from tqdm.notebook import tqdm\n",
    "import glob\n",
    "import librosa\n",
    "import librosa.display\n",
    "from sklearn.linear_model import LogisticRegression\n",
    "from scipy.interpolate import interp1d\n",
    "from sklearn.model_selection import train_test_split\n",
    "import glob\n",
    "import soundfile as sf\n",
    "import pickle\n",
    "import sys"
   ]
  },
  {
   "cell_type": "code",
   "execution_count": 2,
   "metadata": {},
   "outputs": [
    {
     "name": "stderr",
     "output_type": "stream",
     "text": [
      "c:\\users\\bhavi\\appdata\\local\\programs\\python\\python37\\lib\\site-packages\\tqdm\\std.py:699: FutureWarning: The Panel class is removed from pandas. Accessing it from the top-level namespace will also be removed in the next version\n",
      "  from pandas import Panel\n"
     ]
    }
   ],
   "source": [
    "tqdm.pandas(desc=\"!\")\n",
    "np.set_printoptions(threshold=sys.maxsize)"
   ]
  },
  {
   "cell_type": "code",
   "execution_count": 39,
   "metadata": {},
   "outputs": [],
   "source": [
    "train_classified = pd.read_pickle(\"train_classified\")\n",
    "train_classified[\"length\"] = 0"
   ]
  },
  {
   "cell_type": "code",
   "execution_count": 40,
   "metadata": {},
   "outputs": [
    {
     "data": {
      "text/html": [
       "<div>\n",
       "<style scoped>\n",
       "    .dataframe tbody tr th:only-of-type {\n",
       "        vertical-align: middle;\n",
       "    }\n",
       "\n",
       "    .dataframe tbody tr th {\n",
       "        vertical-align: top;\n",
       "    }\n",
       "\n",
       "    .dataframe thead th {\n",
       "        text-align: right;\n",
       "    }\n",
       "</style>\n",
       "<table border=\"1\" class=\"dataframe\">\n",
       "  <thead>\n",
       "    <tr style=\"text-align: right;\">\n",
       "      <th></th>\n",
       "      <th>sample_rate</th>\n",
       "      <th>species_id</th>\n",
       "      <th>waveform</th>\n",
       "      <th>length</th>\n",
       "    </tr>\n",
       "  </thead>\n",
       "  <tbody>\n",
       "    <tr>\n",
       "      <th>0</th>\n",
       "      <td>48000.0</td>\n",
       "      <td>14.0</td>\n",
       "      <td>[0.001678466796875, 0.0067138671875, -0.002929...</td>\n",
       "      <td>0</td>\n",
       "    </tr>\n",
       "    <tr>\n",
       "      <th>1</th>\n",
       "      <td>48000.0</td>\n",
       "      <td>23.0</td>\n",
       "      <td>[0.021209716796875, 0.018310546875, 0.01879882...</td>\n",
       "      <td>0</td>\n",
       "    </tr>\n",
       "    <tr>\n",
       "      <th>2</th>\n",
       "      <td>48000.0</td>\n",
       "      <td>12.0</td>\n",
       "      <td>[-0.011444091796875, -0.000396728515625, 0.015...</td>\n",
       "      <td>0</td>\n",
       "    </tr>\n",
       "    <tr>\n",
       "      <th>3</th>\n",
       "      <td>48000.0</td>\n",
       "      <td>17.0</td>\n",
       "      <td>[0.0008544921875, 0.001953125, 0.0043334960937...</td>\n",
       "      <td>0</td>\n",
       "    </tr>\n",
       "    <tr>\n",
       "      <th>4</th>\n",
       "      <td>48000.0</td>\n",
       "      <td>10.0</td>\n",
       "      <td>[0.0009765625, 0.002899169921875, 0.0007934570...</td>\n",
       "      <td>0</td>\n",
       "    </tr>\n",
       "    <tr>\n",
       "      <th>...</th>\n",
       "      <td>...</td>\n",
       "      <td>...</td>\n",
       "      <td>...</td>\n",
       "      <td>...</td>\n",
       "    </tr>\n",
       "    <tr>\n",
       "      <th>1211</th>\n",
       "      <td>48000.0</td>\n",
       "      <td>13.0</td>\n",
       "      <td>[0.015350341796875, 0.032379150390625, 0.02734...</td>\n",
       "      <td>0</td>\n",
       "    </tr>\n",
       "    <tr>\n",
       "      <th>1212</th>\n",
       "      <td>48000.0</td>\n",
       "      <td>4.0</td>\n",
       "      <td>[-0.03717041015625, -0.024932861328125, -0.008...</td>\n",
       "      <td>0</td>\n",
       "    </tr>\n",
       "    <tr>\n",
       "      <th>1213</th>\n",
       "      <td>48000.0</td>\n",
       "      <td>0.0</td>\n",
       "      <td>[0.019012451171875, 0.015106201171875, 0.00924...</td>\n",
       "      <td>0</td>\n",
       "    </tr>\n",
       "    <tr>\n",
       "      <th>1214</th>\n",
       "      <td>48000.0</td>\n",
       "      <td>5.0</td>\n",
       "      <td>[-0.014678955078125, -0.009765625, -0.01284790...</td>\n",
       "      <td>0</td>\n",
       "    </tr>\n",
       "    <tr>\n",
       "      <th>1215</th>\n",
       "      <td>48000.0</td>\n",
       "      <td>18.0</td>\n",
       "      <td>[0.005279541015625, 0.0018310546875, 0.0023498...</td>\n",
       "      <td>0</td>\n",
       "    </tr>\n",
       "  </tbody>\n",
       "</table>\n",
       "<p>1216 rows × 4 columns</p>\n",
       "</div>"
      ],
      "text/plain": [
       "      sample_rate  species_id  \\\n",
       "0         48000.0        14.0   \n",
       "1         48000.0        23.0   \n",
       "2         48000.0        12.0   \n",
       "3         48000.0        17.0   \n",
       "4         48000.0        10.0   \n",
       "...           ...         ...   \n",
       "1211      48000.0        13.0   \n",
       "1212      48000.0         4.0   \n",
       "1213      48000.0         0.0   \n",
       "1214      48000.0         5.0   \n",
       "1215      48000.0        18.0   \n",
       "\n",
       "                                               waveform  length  \n",
       "0     [0.001678466796875, 0.0067138671875, -0.002929...       0  \n",
       "1     [0.021209716796875, 0.018310546875, 0.01879882...       0  \n",
       "2     [-0.011444091796875, -0.000396728515625, 0.015...       0  \n",
       "3     [0.0008544921875, 0.001953125, 0.0043334960937...       0  \n",
       "4     [0.0009765625, 0.002899169921875, 0.0007934570...       0  \n",
       "...                                                 ...     ...  \n",
       "1211  [0.015350341796875, 0.032379150390625, 0.02734...       0  \n",
       "1212  [-0.03717041015625, -0.024932861328125, -0.008...       0  \n",
       "1213  [0.019012451171875, 0.015106201171875, 0.00924...       0  \n",
       "1214  [-0.014678955078125, -0.009765625, -0.01284790...       0  \n",
       "1215  [0.005279541015625, 0.0018310546875, 0.0023498...       0  \n",
       "\n",
       "[1216 rows x 4 columns]"
      ]
     },
     "execution_count": 40,
     "metadata": {},
     "output_type": "execute_result"
    }
   ],
   "source": [
    "train_classified"
   ]
  },
  {
   "cell_type": "code",
   "execution_count": 41,
   "metadata": {},
   "outputs": [],
   "source": [
    "\n",
    "for i in range(len(train_classified)):\n",
    "    train_classified.iloc[i, train_classified.columns.get_loc(\"length\")] = len(train_classified.iloc[i][\"waveform\"])"
   ]
  },
  {
   "cell_type": "code",
   "execution_count": 42,
   "metadata": {},
   "outputs": [
    {
     "data": {
      "text/plain": [
       "array(['14', '23', '12', '17', '10', '8', '0', '18', '15', '1', '6', '7',\n",
       "       '11', '13', '16', '19', '3', '2', '4', '22', '9', '21', '20', '5'],\n",
       "      dtype='<U11')"
      ]
     },
     "execution_count": 42,
     "metadata": {},
     "output_type": "execute_result"
    }
   ],
   "source": [
    "train_classified.species_id.unique().astype(int).astype(str)"
   ]
  },
  {
   "cell_type": "code",
   "execution_count": 43,
   "metadata": {},
   "outputs": [
    {
     "data": {
      "text/html": [
       "<div>\n",
       "<style scoped>\n",
       "    .dataframe tbody tr th:only-of-type {\n",
       "        vertical-align: middle;\n",
       "    }\n",
       "\n",
       "    .dataframe tbody tr th {\n",
       "        vertical-align: top;\n",
       "    }\n",
       "\n",
       "    .dataframe thead th {\n",
       "        text-align: right;\n",
       "    }\n",
       "</style>\n",
       "<table border=\"1\" class=\"dataframe\">\n",
       "  <thead>\n",
       "    <tr style=\"text-align: right;\">\n",
       "      <th></th>\n",
       "      <th>sample_rate</th>\n",
       "      <th>species_id</th>\n",
       "      <th>waveform</th>\n",
       "      <th>length</th>\n",
       "    </tr>\n",
       "  </thead>\n",
       "  <tbody>\n",
       "    <tr>\n",
       "      <th>0</th>\n",
       "      <td>48000.0</td>\n",
       "      <td>14.0</td>\n",
       "      <td>[0.001678466796875, 0.0067138671875, -0.002929...</td>\n",
       "      <td>28161</td>\n",
       "    </tr>\n",
       "    <tr>\n",
       "      <th>1</th>\n",
       "      <td>48000.0</td>\n",
       "      <td>23.0</td>\n",
       "      <td>[0.021209716796875, 0.018310546875, 0.01879882...</td>\n",
       "      <td>292017</td>\n",
       "    </tr>\n",
       "    <tr>\n",
       "      <th>2</th>\n",
       "      <td>48000.0</td>\n",
       "      <td>12.0</td>\n",
       "      <td>[-0.011444091796875, -0.000396728515625, 0.015...</td>\n",
       "      <td>150529</td>\n",
       "    </tr>\n",
       "    <tr>\n",
       "      <th>3</th>\n",
       "      <td>48000.0</td>\n",
       "      <td>17.0</td>\n",
       "      <td>[0.0008544921875, 0.001953125, 0.0043334960937...</td>\n",
       "      <td>181392</td>\n",
       "    </tr>\n",
       "    <tr>\n",
       "      <th>4</th>\n",
       "      <td>48000.0</td>\n",
       "      <td>10.0</td>\n",
       "      <td>[0.0009765625, 0.002899169921875, 0.0007934570...</td>\n",
       "      <td>117307</td>\n",
       "    </tr>\n",
       "  </tbody>\n",
       "</table>\n",
       "</div>"
      ],
      "text/plain": [
       "   sample_rate  species_id                                           waveform  \\\n",
       "0      48000.0        14.0  [0.001678466796875, 0.0067138671875, -0.002929...   \n",
       "1      48000.0        23.0  [0.021209716796875, 0.018310546875, 0.01879882...   \n",
       "2      48000.0        12.0  [-0.011444091796875, -0.000396728515625, 0.015...   \n",
       "3      48000.0        17.0  [0.0008544921875, 0.001953125, 0.0043334960937...   \n",
       "4      48000.0        10.0  [0.0009765625, 0.002899169921875, 0.0007934570...   \n",
       "\n",
       "   length  \n",
       "0   28161  \n",
       "1  292017  \n",
       "2  150529  \n",
       "3  181392  \n",
       "4  117307  "
      ]
     },
     "execution_count": 43,
     "metadata": {},
     "output_type": "execute_result"
    }
   ],
   "source": [
    "\n",
    "len(train_classified.iloc[2]['waveform'])\n",
    "train_classified.head()"
   ]
  },
  {
   "cell_type": "code",
   "execution_count": 44,
   "metadata": {},
   "outputs": [
    {
     "data": {
      "text/plain": [
       "121781.69243421052"
      ]
     },
     "execution_count": 44,
     "metadata": {},
     "output_type": "execute_result"
    }
   ],
   "source": [
    "train_classified['length'].mean()"
   ]
  },
  {
   "cell_type": "code",
   "execution_count": 13,
   "metadata": {},
   "outputs": [],
   "source": [
    "# cut off at 44.1k sample rate /. 2. \n",
    "# mapping from time domain into frequency domain\n",
    "# https://www.nti-audio.com/en/support/know-how/fast-fourier-transform-fft\n",
    "\n",
    "# y = f(x)\n",
    "\n",
    "def extract_features( row ):\n",
    "    samplerate = 48000\n",
    "    data = row['waveform']\n",
    "    varfft = np.abs( np.fft.fft(a=data)[:(len(data)//2)] )\n",
    "    x = np.linspace(0, len(varfft), num=len(varfft), endpoint=True)\n",
    "    f1 = interp1d(x, varfft, kind='cubic')\n",
    "    x = np.linspace(0, len(varfft), num=1000, endpoint=True)\n",
    "    varfft = f1(x)\n",
    "    \n",
    "    return varfft"
   ]
  },
  {
   "cell_type": "code",
   "execution_count": 46,
   "metadata": {},
   "outputs": [
    {
     "data": {
      "application/vnd.jupyter.widget-view+json": {
       "model_id": "0963b58911b54ddc92eb09b416dbb14b",
       "version_major": 2,
       "version_minor": 0
      },
      "text/plain": [
       "HBox(children=(HTML(value='!'), FloatProgress(value=0.0, max=1216.0), HTML(value='')))"
      ]
     },
     "metadata": {},
     "output_type": "display_data"
    },
    {
     "name": "stdout",
     "output_type": "stream",
     "text": [
      "\n"
     ]
    }
   ],
   "source": [
    "train_classified['fft_1d'] = train_classified.progress_apply(extract_features, axis=1)"
   ]
  },
  {
   "cell_type": "code",
   "execution_count": 15,
   "metadata": {},
   "outputs": [],
   "source": [
    "TRAIN = []\n",
    "TARGET = []\n",
    "for i in range(len(train_classified)):\n",
    "    entry = train_classified[\"fft_1d\"].iloc[i]\n",
    "    t = train_classified[\"species_id\"].iloc[i]\n",
    "    TRAIN.append(entry)\n",
    "    TARGET.append(t)"
   ]
  },
  {
   "cell_type": "code",
   "execution_count": 11,
   "metadata": {},
   "outputs": [],
   "source": [
    "# Basic Log Reg\n",
    "X = train_classified.loc[:, train_classified.columns == \"fft_1d\"]\n",
    "y = train_classified.loc[:, train_classified.columns == \"species_id\"]"
   ]
  },
  {
   "cell_type": "code",
   "execution_count": 12,
   "metadata": {},
   "outputs": [],
   "source": [
    "\n",
    "X_train, X_test, y_train, y_test = train_test_split(TRAIN, TARGET)\n"
   ]
  },
  {
   "cell_type": "code",
   "execution_count": 13,
   "metadata": {},
   "outputs": [
    {
     "data": {
      "text/plain": [
       "LogisticRegression(max_iter=5000)"
      ]
     },
     "execution_count": 13,
     "metadata": {},
     "output_type": "execute_result"
    }
   ],
   "source": [
    "logreg = LogisticRegression( max_iter=5000 )\n",
    "logreg.fit(TRAIN, TARGET)"
   ]
  },
  {
   "cell_type": "code",
   "execution_count": 43,
   "metadata": {},
   "outputs": [
    {
     "data": {
      "text/plain": [
       "1.0"
      ]
     },
     "execution_count": 43,
     "metadata": {},
     "output_type": "execute_result"
    }
   ],
   "source": [
    "logreg.score(X_test, y_test)"
   ]
  },
  {
   "cell_type": "code",
   "execution_count": 41,
   "metadata": {},
   "outputs": [],
   "source": [
    "logreg_pickle = open(\"logreg.pkl\", 'wb')\n",
    "pickle.dump(logreg, logreg_pickle)\n",
    "# Close the pickle instances\n",
    "logreg_pickle.close()"
   ]
  },
  {
   "cell_type": "code",
   "execution_count": 26,
   "metadata": {},
   "outputs": [],
   "source": [
    "logreg_pickle = open(\"logreg.pkl\", 'rb')\n",
    "logreg = pickle.load(logreg_pickle)"
   ]
  },
  {
   "cell_type": "code",
   "execution_count": 3,
   "metadata": {},
   "outputs": [],
   "source": [
    "testfiles = glob.glob( 'data/test/*.flac' )"
   ]
  },
  {
   "cell_type": "code",
   "execution_count": 8,
   "metadata": {},
   "outputs": [
    {
     "data": {
      "text/plain": [
       "'data/test\\\\000316da7.flac'"
      ]
     },
     "execution_count": 8,
     "metadata": {},
     "output_type": "execute_result"
    }
   ],
   "source": [
    "testfiles[0]"
   ]
  },
  {
   "cell_type": "code",
   "execution_count": 17,
   "metadata": {},
   "outputs": [
    {
     "data": {
      "text/plain": [
       "'003bc2cb2'"
      ]
     },
     "execution_count": 17,
     "metadata": {},
     "output_type": "execute_result"
    }
   ],
   "source": [
    "testfiles[1][10:19]"
   ]
  },
  {
   "cell_type": "code",
   "execution_count": 49,
   "metadata": {
    "scrolled": true
   },
   "outputs": [
    {
     "name": "stderr",
     "output_type": "stream",
     "text": [
      "c:\\users\\bhavi\\appdata\\local\\programs\\python\\python37\\lib\\site-packages\\pandas\\core\\generic.py:2449: PerformanceWarning: \n",
      "your performance may suffer as PyTables will pickle object types that it cannot\n",
      "map directly to c-types [inferred_type->mixed,key->block2_values] [items->Index(['waveform', 'fft_1d'], dtype='object')]\n",
      "\n",
      "  encoding=encoding,\n"
     ]
    }
   ],
   "source": [
    "train_classified.to_hdf(r'train_classified_logreg.h5', key='stage', mode='w')"
   ]
  },
  {
   "cell_type": "code",
   "execution_count": 6,
   "metadata": {
    "scrolled": true
   },
   "outputs": [],
   "source": [
    "train_classified = pd.read_hdf(\"train_classified_logreg.h5\", key='stage')"
   ]
  },
  {
   "cell_type": "code",
   "execution_count": 7,
   "metadata": {},
   "outputs": [
    {
     "data": {
      "text/html": [
       "<div>\n",
       "<style scoped>\n",
       "    .dataframe tbody tr th:only-of-type {\n",
       "        vertical-align: middle;\n",
       "    }\n",
       "\n",
       "    .dataframe tbody tr th {\n",
       "        vertical-align: top;\n",
       "    }\n",
       "\n",
       "    .dataframe thead th {\n",
       "        text-align: right;\n",
       "    }\n",
       "</style>\n",
       "<table border=\"1\" class=\"dataframe\">\n",
       "  <thead>\n",
       "    <tr style=\"text-align: right;\">\n",
       "      <th></th>\n",
       "      <th>sample_rate</th>\n",
       "      <th>species_id</th>\n",
       "      <th>waveform</th>\n",
       "      <th>length</th>\n",
       "      <th>fft_1d</th>\n",
       "    </tr>\n",
       "  </thead>\n",
       "  <tbody>\n",
       "    <tr>\n",
       "      <th>0</th>\n",
       "      <td>48000.0</td>\n",
       "      <td>14.0</td>\n",
       "      <td>[0.001678466796875, 0.0067138671875, -0.002929...</td>\n",
       "      <td>28161</td>\n",
       "      <td>[1.55487060546875, 2.152843965490996, 1.108953...</td>\n",
       "    </tr>\n",
       "    <tr>\n",
       "      <th>1</th>\n",
       "      <td>48000.0</td>\n",
       "      <td>23.0</td>\n",
       "      <td>[0.021209716796875, 0.018310546875, 0.01879882...</td>\n",
       "      <td>292017</td>\n",
       "      <td>[3.5285034179687558, 65.4764965268222, 39.9461...</td>\n",
       "    </tr>\n",
       "    <tr>\n",
       "      <th>2</th>\n",
       "      <td>48000.0</td>\n",
       "      <td>12.0</td>\n",
       "      <td>[-0.011444091796875, -0.000396728515625, 0.015...</td>\n",
       "      <td>150529</td>\n",
       "      <td>[3.7118530273437456, 21.142677414976653, 37.19...</td>\n",
       "    </tr>\n",
       "    <tr>\n",
       "      <th>3</th>\n",
       "      <td>48000.0</td>\n",
       "      <td>17.0</td>\n",
       "      <td>[0.0008544921875, 0.001953125, 0.0043334960937...</td>\n",
       "      <td>181392</td>\n",
       "      <td>[0.3219299316406248, 4.884913960046954, 9.0780...</td>\n",
       "    </tr>\n",
       "    <tr>\n",
       "      <th>4</th>\n",
       "      <td>48000.0</td>\n",
       "      <td>10.0</td>\n",
       "      <td>[0.0009765625, 0.002899169921875, 0.0007934570...</td>\n",
       "      <td>117307</td>\n",
       "      <td>[0.9687805175781222, 9.730580973532323, 8.2289...</td>\n",
       "    </tr>\n",
       "    <tr>\n",
       "      <th>...</th>\n",
       "      <td>...</td>\n",
       "      <td>...</td>\n",
       "      <td>...</td>\n",
       "      <td>...</td>\n",
       "      <td>...</td>\n",
       "    </tr>\n",
       "    <tr>\n",
       "      <th>1211</th>\n",
       "      <td>48000.0</td>\n",
       "      <td>13.0</td>\n",
       "      <td>[0.015350341796875, 0.032379150390625, 0.02734...</td>\n",
       "      <td>29952</td>\n",
       "      <td>[0.5283203125, 1.256245900253151, 1.4916762053...</td>\n",
       "    </tr>\n",
       "    <tr>\n",
       "      <th>1212</th>\n",
       "      <td>48000.0</td>\n",
       "      <td>4.0</td>\n",
       "      <td>[-0.03717041015625, -0.024932861328125, -0.008...</td>\n",
       "      <td>104957</td>\n",
       "      <td>[4.819915771484377, 3.0524111841585384, 2.7690...</td>\n",
       "    </tr>\n",
       "    <tr>\n",
       "      <th>1213</th>\n",
       "      <td>48000.0</td>\n",
       "      <td>0.0</td>\n",
       "      <td>[0.019012451171875, 0.015106201171875, 0.00924...</td>\n",
       "      <td>38141</td>\n",
       "      <td>[2.2714538574218763, 2.480650746062264, 5.2153...</td>\n",
       "    </tr>\n",
       "    <tr>\n",
       "      <th>1214</th>\n",
       "      <td>48000.0</td>\n",
       "      <td>5.0</td>\n",
       "      <td>[-0.014678955078125, -0.009765625, -0.01284790...</td>\n",
       "      <td>112896</td>\n",
       "      <td>[0.880950927734375, 38.33358261644435, 16.2084...</td>\n",
       "    </tr>\n",
       "    <tr>\n",
       "      <th>1215</th>\n",
       "      <td>48000.0</td>\n",
       "      <td>18.0</td>\n",
       "      <td>[0.005279541015625, 0.0018310546875, 0.0023498...</td>\n",
       "      <td>33278</td>\n",
       "      <td>[4.404235839843748, 6.193924229560324, 0.88251...</td>\n",
       "    </tr>\n",
       "  </tbody>\n",
       "</table>\n",
       "<p>1216 rows × 5 columns</p>\n",
       "</div>"
      ],
      "text/plain": [
       "      sample_rate  species_id  \\\n",
       "0         48000.0        14.0   \n",
       "1         48000.0        23.0   \n",
       "2         48000.0        12.0   \n",
       "3         48000.0        17.0   \n",
       "4         48000.0        10.0   \n",
       "...           ...         ...   \n",
       "1211      48000.0        13.0   \n",
       "1212      48000.0         4.0   \n",
       "1213      48000.0         0.0   \n",
       "1214      48000.0         5.0   \n",
       "1215      48000.0        18.0   \n",
       "\n",
       "                                               waveform  length  \\\n",
       "0     [0.001678466796875, 0.0067138671875, -0.002929...   28161   \n",
       "1     [0.021209716796875, 0.018310546875, 0.01879882...  292017   \n",
       "2     [-0.011444091796875, -0.000396728515625, 0.015...  150529   \n",
       "3     [0.0008544921875, 0.001953125, 0.0043334960937...  181392   \n",
       "4     [0.0009765625, 0.002899169921875, 0.0007934570...  117307   \n",
       "...                                                 ...     ...   \n",
       "1211  [0.015350341796875, 0.032379150390625, 0.02734...   29952   \n",
       "1212  [-0.03717041015625, -0.024932861328125, -0.008...  104957   \n",
       "1213  [0.019012451171875, 0.015106201171875, 0.00924...   38141   \n",
       "1214  [-0.014678955078125, -0.009765625, -0.01284790...  112896   \n",
       "1215  [0.005279541015625, 0.0018310546875, 0.0023498...   33278   \n",
       "\n",
       "                                                 fft_1d  \n",
       "0     [1.55487060546875, 2.152843965490996, 1.108953...  \n",
       "1     [3.5285034179687558, 65.4764965268222, 39.9461...  \n",
       "2     [3.7118530273437456, 21.142677414976653, 37.19...  \n",
       "3     [0.3219299316406248, 4.884913960046954, 9.0780...  \n",
       "4     [0.9687805175781222, 9.730580973532323, 8.2289...  \n",
       "...                                                 ...  \n",
       "1211  [0.5283203125, 1.256245900253151, 1.4916762053...  \n",
       "1212  [4.819915771484377, 3.0524111841585384, 2.7690...  \n",
       "1213  [2.2714538574218763, 2.480650746062264, 5.2153...  \n",
       "1214  [0.880950927734375, 38.33358261644435, 16.2084...  \n",
       "1215  [4.404235839843748, 6.193924229560324, 0.88251...  \n",
       "\n",
       "[1216 rows x 5 columns]"
      ]
     },
     "execution_count": 7,
     "metadata": {},
     "output_type": "execute_result"
    }
   ],
   "source": [
    "train_classified"
   ]
  },
  {
   "cell_type": "code",
   "execution_count": 4,
   "metadata": {},
   "outputs": [],
   "source": [
    "test_df = pd.DataFrame()"
   ]
  },
  {
   "cell_type": "code",
   "execution_count": 5,
   "metadata": {},
   "outputs": [
    {
     "data": {
      "application/vnd.jupyter.widget-view+json": {
       "model_id": "4b013f63985f4b45aa324548b7932ea0",
       "version_major": 2,
       "version_minor": 0
      },
      "text/plain": [
       "HBox(children=(HTML(value=''), FloatProgress(value=0.0, max=1992.0), HTML(value='')))"
      ]
     },
     "metadata": {},
     "output_type": "display_data"
    },
    {
     "name": "stdout",
     "output_type": "stream",
     "text": [
      "\n"
     ]
    }
   ],
   "source": [
    "for i in tqdm(range(len(testfiles))):\n",
    "    waveform, sample_rate = sf.read(testfiles[i])\n",
    "    test_df=test_df.append({\"waveform\" : waveform, \"recording_id\" : testfiles[i][10:19]}, ignore_index=True)\n",
    "    "
   ]
  },
  {
   "cell_type": "code",
   "execution_count": 14,
   "metadata": {},
   "outputs": [],
   "source": [
    "testfiles = None"
   ]
  },
  {
   "cell_type": "code",
   "execution_count": 25,
   "metadata": {},
   "outputs": [],
   "source": [
    "test_df['length'] = test_df.apply( lambda row: len(row['waveform']), axis=1)"
   ]
  },
  {
   "cell_type": "code",
   "execution_count": 6,
   "metadata": {},
   "outputs": [
    {
     "name": "stderr",
     "output_type": "stream",
     "text": [
      "c:\\users\\bhavi\\appdata\\local\\programs\\python\\python37\\lib\\site-packages\\pandas\\core\\generic.py:2449: PerformanceWarning: \n",
      "your performance may suffer as PyTables will pickle object types that it cannot\n",
      "map directly to c-types [inferred_type->mixed,key->block0_values] [items->Index(['recording_id', 'waveform'], dtype='object')]\n",
      "\n",
      "  encoding=encoding,\n"
     ]
    },
    {
     "ename": "MemoryError",
     "evalue": "",
     "output_type": "error",
     "traceback": [
      "\u001b[1;31m---------------------------------------------------------------------------\u001b[0m",
      "\u001b[1;31mMemoryError\u001b[0m                               Traceback (most recent call last)",
      "\u001b[1;32m<ipython-input-6-84dae4cf9175>\u001b[0m in \u001b[0;36m<module>\u001b[1;34m\u001b[0m\n\u001b[1;32m----> 1\u001b[1;33m \u001b[0mtest_df\u001b[0m\u001b[1;33m.\u001b[0m\u001b[0mto_hdf\u001b[0m\u001b[1;33m(\u001b[0m\u001b[1;34m\"testfiles_df.hd5\"\u001b[0m\u001b[1;33m,\u001b[0m \u001b[0mkey\u001b[0m\u001b[1;33m=\u001b[0m\u001b[1;34m'stage'\u001b[0m\u001b[1;33m,\u001b[0m \u001b[0mmode\u001b[0m\u001b[1;33m=\u001b[0m\u001b[1;34m'w'\u001b[0m\u001b[1;33m)\u001b[0m\u001b[1;33m\u001b[0m\u001b[1;33m\u001b[0m\u001b[0m\n\u001b[0m",
      "\u001b[1;32mc:\\users\\bhavi\\appdata\\local\\programs\\python\\python37\\lib\\site-packages\\pandas\\core\\generic.py\u001b[0m in \u001b[0;36mto_hdf\u001b[1;34m(self, path_or_buf, key, mode, complevel, complib, append, format, index, min_itemsize, nan_rep, dropna, data_columns, errors, encoding)\u001b[0m\n\u001b[0;32m   2447\u001b[0m             \u001b[0mdata_columns\u001b[0m\u001b[1;33m=\u001b[0m\u001b[0mdata_columns\u001b[0m\u001b[1;33m,\u001b[0m\u001b[1;33m\u001b[0m\u001b[1;33m\u001b[0m\u001b[0m\n\u001b[0;32m   2448\u001b[0m             \u001b[0merrors\u001b[0m\u001b[1;33m=\u001b[0m\u001b[0merrors\u001b[0m\u001b[1;33m,\u001b[0m\u001b[1;33m\u001b[0m\u001b[1;33m\u001b[0m\u001b[0m\n\u001b[1;32m-> 2449\u001b[1;33m             \u001b[0mencoding\u001b[0m\u001b[1;33m=\u001b[0m\u001b[0mencoding\u001b[0m\u001b[1;33m,\u001b[0m\u001b[1;33m\u001b[0m\u001b[1;33m\u001b[0m\u001b[0m\n\u001b[0m\u001b[0;32m   2450\u001b[0m         )\n\u001b[0;32m   2451\u001b[0m \u001b[1;33m\u001b[0m\u001b[0m\n",
      "\u001b[1;32mc:\\users\\bhavi\\appdata\\local\\programs\\python\\python37\\lib\\site-packages\\pandas\\io\\pytables.py\u001b[0m in \u001b[0;36mto_hdf\u001b[1;34m(path_or_buf, key, value, mode, complevel, complib, append, format, index, min_itemsize, nan_rep, dropna, data_columns, errors, encoding)\u001b[0m\n\u001b[0;32m    268\u001b[0m             \u001b[0mpath_or_buf\u001b[0m\u001b[1;33m,\u001b[0m \u001b[0mmode\u001b[0m\u001b[1;33m=\u001b[0m\u001b[0mmode\u001b[0m\u001b[1;33m,\u001b[0m \u001b[0mcomplevel\u001b[0m\u001b[1;33m=\u001b[0m\u001b[0mcomplevel\u001b[0m\u001b[1;33m,\u001b[0m \u001b[0mcomplib\u001b[0m\u001b[1;33m=\u001b[0m\u001b[0mcomplib\u001b[0m\u001b[1;33m\u001b[0m\u001b[1;33m\u001b[0m\u001b[0m\n\u001b[0;32m    269\u001b[0m         ) as store:\n\u001b[1;32m--> 270\u001b[1;33m             \u001b[0mf\u001b[0m\u001b[1;33m(\u001b[0m\u001b[0mstore\u001b[0m\u001b[1;33m)\u001b[0m\u001b[1;33m\u001b[0m\u001b[1;33m\u001b[0m\u001b[0m\n\u001b[0m\u001b[0;32m    271\u001b[0m     \u001b[1;32melse\u001b[0m\u001b[1;33m:\u001b[0m\u001b[1;33m\u001b[0m\u001b[1;33m\u001b[0m\u001b[0m\n\u001b[0;32m    272\u001b[0m         \u001b[0mf\u001b[0m\u001b[1;33m(\u001b[0m\u001b[0mpath_or_buf\u001b[0m\u001b[1;33m)\u001b[0m\u001b[1;33m\u001b[0m\u001b[1;33m\u001b[0m\u001b[0m\n",
      "\u001b[1;32mc:\\users\\bhavi\\appdata\\local\\programs\\python\\python37\\lib\\site-packages\\pandas\\io\\pytables.py\u001b[0m in \u001b[0;36m<lambda>\u001b[1;34m(store)\u001b[0m\n\u001b[0;32m    260\u001b[0m             \u001b[0mdata_columns\u001b[0m\u001b[1;33m=\u001b[0m\u001b[0mdata_columns\u001b[0m\u001b[1;33m,\u001b[0m\u001b[1;33m\u001b[0m\u001b[1;33m\u001b[0m\u001b[0m\n\u001b[0;32m    261\u001b[0m             \u001b[0merrors\u001b[0m\u001b[1;33m=\u001b[0m\u001b[0merrors\u001b[0m\u001b[1;33m,\u001b[0m\u001b[1;33m\u001b[0m\u001b[1;33m\u001b[0m\u001b[0m\n\u001b[1;32m--> 262\u001b[1;33m             \u001b[0mencoding\u001b[0m\u001b[1;33m=\u001b[0m\u001b[0mencoding\u001b[0m\u001b[1;33m,\u001b[0m\u001b[1;33m\u001b[0m\u001b[1;33m\u001b[0m\u001b[0m\n\u001b[0m\u001b[0;32m    263\u001b[0m         )\n\u001b[0;32m    264\u001b[0m \u001b[1;33m\u001b[0m\u001b[0m\n",
      "\u001b[1;32mc:\\users\\bhavi\\appdata\\local\\programs\\python\\python37\\lib\\site-packages\\pandas\\io\\pytables.py\u001b[0m in \u001b[0;36mput\u001b[1;34m(self, key, value, format, index, append, complib, complevel, min_itemsize, nan_rep, data_columns, encoding, errors, track_times)\u001b[0m\n\u001b[0;32m   1127\u001b[0m             \u001b[0mencoding\u001b[0m\u001b[1;33m=\u001b[0m\u001b[0mencoding\u001b[0m\u001b[1;33m,\u001b[0m\u001b[1;33m\u001b[0m\u001b[1;33m\u001b[0m\u001b[0m\n\u001b[0;32m   1128\u001b[0m             \u001b[0merrors\u001b[0m\u001b[1;33m=\u001b[0m\u001b[0merrors\u001b[0m\u001b[1;33m,\u001b[0m\u001b[1;33m\u001b[0m\u001b[1;33m\u001b[0m\u001b[0m\n\u001b[1;32m-> 1129\u001b[1;33m             \u001b[0mtrack_times\u001b[0m\u001b[1;33m=\u001b[0m\u001b[0mtrack_times\u001b[0m\u001b[1;33m,\u001b[0m\u001b[1;33m\u001b[0m\u001b[1;33m\u001b[0m\u001b[0m\n\u001b[0m\u001b[0;32m   1130\u001b[0m         )\n\u001b[0;32m   1131\u001b[0m \u001b[1;33m\u001b[0m\u001b[0m\n",
      "\u001b[1;32mc:\\users\\bhavi\\appdata\\local\\programs\\python\\python37\\lib\\site-packages\\pandas\\io\\pytables.py\u001b[0m in \u001b[0;36m_write_to_group\u001b[1;34m(self, key, value, format, axes, index, append, complib, complevel, fletcher32, min_itemsize, chunksize, expectedrows, dropna, nan_rep, data_columns, encoding, errors, track_times)\u001b[0m\n\u001b[0;32m   1799\u001b[0m             \u001b[0mnan_rep\u001b[0m\u001b[1;33m=\u001b[0m\u001b[0mnan_rep\u001b[0m\u001b[1;33m,\u001b[0m\u001b[1;33m\u001b[0m\u001b[1;33m\u001b[0m\u001b[0m\n\u001b[0;32m   1800\u001b[0m             \u001b[0mdata_columns\u001b[0m\u001b[1;33m=\u001b[0m\u001b[0mdata_columns\u001b[0m\u001b[1;33m,\u001b[0m\u001b[1;33m\u001b[0m\u001b[1;33m\u001b[0m\u001b[0m\n\u001b[1;32m-> 1801\u001b[1;33m             \u001b[0mtrack_times\u001b[0m\u001b[1;33m=\u001b[0m\u001b[0mtrack_times\u001b[0m\u001b[1;33m,\u001b[0m\u001b[1;33m\u001b[0m\u001b[1;33m\u001b[0m\u001b[0m\n\u001b[0m\u001b[0;32m   1802\u001b[0m         )\n\u001b[0;32m   1803\u001b[0m \u001b[1;33m\u001b[0m\u001b[0m\n",
      "\u001b[1;32mc:\\users\\bhavi\\appdata\\local\\programs\\python\\python37\\lib\\site-packages\\pandas\\io\\pytables.py\u001b[0m in \u001b[0;36mwrite\u001b[1;34m(self, obj, **kwargs)\u001b[0m\n\u001b[0;32m   3189\u001b[0m             \u001b[1;31m# I have no idea why, but writing values before items fixed #2299\u001b[0m\u001b[1;33m\u001b[0m\u001b[1;33m\u001b[0m\u001b[1;33m\u001b[0m\u001b[0m\n\u001b[0;32m   3190\u001b[0m             \u001b[0mblk_items\u001b[0m \u001b[1;33m=\u001b[0m \u001b[0mdata\u001b[0m\u001b[1;33m.\u001b[0m\u001b[0mitems\u001b[0m\u001b[1;33m.\u001b[0m\u001b[0mtake\u001b[0m\u001b[1;33m(\u001b[0m\u001b[0mblk\u001b[0m\u001b[1;33m.\u001b[0m\u001b[0mmgr_locs\u001b[0m\u001b[1;33m)\u001b[0m\u001b[1;33m\u001b[0m\u001b[1;33m\u001b[0m\u001b[0m\n\u001b[1;32m-> 3191\u001b[1;33m             \u001b[0mself\u001b[0m\u001b[1;33m.\u001b[0m\u001b[0mwrite_array\u001b[0m\u001b[1;33m(\u001b[0m\u001b[1;34mf\"block{i}_values\"\u001b[0m\u001b[1;33m,\u001b[0m \u001b[0mblk\u001b[0m\u001b[1;33m.\u001b[0m\u001b[0mvalues\u001b[0m\u001b[1;33m,\u001b[0m \u001b[0mitems\u001b[0m\u001b[1;33m=\u001b[0m\u001b[0mblk_items\u001b[0m\u001b[1;33m)\u001b[0m\u001b[1;33m\u001b[0m\u001b[1;33m\u001b[0m\u001b[0m\n\u001b[0m\u001b[0;32m   3192\u001b[0m             \u001b[0mself\u001b[0m\u001b[1;33m.\u001b[0m\u001b[0mwrite_index\u001b[0m\u001b[1;33m(\u001b[0m\u001b[1;34mf\"block{i}_items\"\u001b[0m\u001b[1;33m,\u001b[0m \u001b[0mblk_items\u001b[0m\u001b[1;33m)\u001b[0m\u001b[1;33m\u001b[0m\u001b[1;33m\u001b[0m\u001b[0m\n\u001b[0;32m   3193\u001b[0m \u001b[1;33m\u001b[0m\u001b[0m\n",
      "\u001b[1;32mc:\\users\\bhavi\\appdata\\local\\programs\\python\\python37\\lib\\site-packages\\pandas\\io\\pytables.py\u001b[0m in \u001b[0;36mwrite_array\u001b[1;34m(self, key, value, items)\u001b[0m\n\u001b[0;32m   3047\u001b[0m \u001b[1;33m\u001b[0m\u001b[0m\n\u001b[0;32m   3048\u001b[0m             \u001b[0mvlarr\u001b[0m \u001b[1;33m=\u001b[0m \u001b[0mself\u001b[0m\u001b[1;33m.\u001b[0m\u001b[0m_handle\u001b[0m\u001b[1;33m.\u001b[0m\u001b[0mcreate_vlarray\u001b[0m\u001b[1;33m(\u001b[0m\u001b[0mself\u001b[0m\u001b[1;33m.\u001b[0m\u001b[0mgroup\u001b[0m\u001b[1;33m,\u001b[0m \u001b[0mkey\u001b[0m\u001b[1;33m,\u001b[0m \u001b[0m_tables\u001b[0m\u001b[1;33m(\u001b[0m\u001b[1;33m)\u001b[0m\u001b[1;33m.\u001b[0m\u001b[0mObjectAtom\u001b[0m\u001b[1;33m(\u001b[0m\u001b[1;33m)\u001b[0m\u001b[1;33m)\u001b[0m\u001b[1;33m\u001b[0m\u001b[1;33m\u001b[0m\u001b[0m\n\u001b[1;32m-> 3049\u001b[1;33m             \u001b[0mvlarr\u001b[0m\u001b[1;33m.\u001b[0m\u001b[0mappend\u001b[0m\u001b[1;33m(\u001b[0m\u001b[0mvalue\u001b[0m\u001b[1;33m)\u001b[0m\u001b[1;33m\u001b[0m\u001b[1;33m\u001b[0m\u001b[0m\n\u001b[0m\u001b[0;32m   3050\u001b[0m \u001b[1;33m\u001b[0m\u001b[0m\n\u001b[0;32m   3051\u001b[0m         \u001b[1;32melif\u001b[0m \u001b[0mempty_array\u001b[0m\u001b[1;33m:\u001b[0m\u001b[1;33m\u001b[0m\u001b[1;33m\u001b[0m\u001b[0m\n",
      "\u001b[1;32mc:\\users\\bhavi\\appdata\\local\\programs\\python\\python37\\lib\\site-packages\\tables\\vlarray.py\u001b[0m in \u001b[0;36mappend\u001b[1;34m(self, sequence)\u001b[0m\n\u001b[0;32m    523\u001b[0m         \u001b[0matom\u001b[0m \u001b[1;33m=\u001b[0m \u001b[0mself\u001b[0m\u001b[1;33m.\u001b[0m\u001b[0matom\u001b[0m\u001b[1;33m\u001b[0m\u001b[1;33m\u001b[0m\u001b[0m\n\u001b[0;32m    524\u001b[0m         \u001b[1;32mif\u001b[0m \u001b[1;32mnot\u001b[0m \u001b[0mhasattr\u001b[0m\u001b[1;33m(\u001b[0m\u001b[0matom\u001b[0m\u001b[1;33m,\u001b[0m \u001b[1;34m'size'\u001b[0m\u001b[1;33m)\u001b[0m\u001b[1;33m:\u001b[0m  \u001b[1;31m# it is a pseudo-atom\u001b[0m\u001b[1;33m\u001b[0m\u001b[1;33m\u001b[0m\u001b[0m\n\u001b[1;32m--> 525\u001b[1;33m             \u001b[0msequence\u001b[0m \u001b[1;33m=\u001b[0m \u001b[0matom\u001b[0m\u001b[1;33m.\u001b[0m\u001b[0mtoarray\u001b[0m\u001b[1;33m(\u001b[0m\u001b[0msequence\u001b[0m\u001b[1;33m)\u001b[0m\u001b[1;33m\u001b[0m\u001b[1;33m\u001b[0m\u001b[0m\n\u001b[0m\u001b[0;32m    526\u001b[0m             \u001b[0mstatom\u001b[0m \u001b[1;33m=\u001b[0m \u001b[0matom\u001b[0m\u001b[1;33m.\u001b[0m\u001b[0mbase\u001b[0m\u001b[1;33m\u001b[0m\u001b[1;33m\u001b[0m\u001b[0m\n\u001b[0;32m    527\u001b[0m         \u001b[1;32melse\u001b[0m\u001b[1;33m:\u001b[0m\u001b[1;33m\u001b[0m\u001b[1;33m\u001b[0m\u001b[0m\n",
      "\u001b[1;32mc:\\users\\bhavi\\appdata\\local\\programs\\python\\python37\\lib\\site-packages\\tables\\atom.py\u001b[0m in \u001b[0;36mtoarray\u001b[1;34m(self, object_)\u001b[0m\n\u001b[0;32m   1081\u001b[0m \u001b[1;33m\u001b[0m\u001b[0m\n\u001b[0;32m   1082\u001b[0m     \u001b[1;32mdef\u001b[0m \u001b[0mtoarray\u001b[0m\u001b[1;33m(\u001b[0m\u001b[0mself\u001b[0m\u001b[1;33m,\u001b[0m \u001b[0mobject_\u001b[0m\u001b[1;33m)\u001b[0m\u001b[1;33m:\u001b[0m\u001b[1;33m\u001b[0m\u001b[1;33m\u001b[0m\u001b[0m\n\u001b[1;32m-> 1083\u001b[1;33m         \u001b[0mbuffer_\u001b[0m \u001b[1;33m=\u001b[0m \u001b[0mself\u001b[0m\u001b[1;33m.\u001b[0m\u001b[0m_tobuffer\u001b[0m\u001b[1;33m(\u001b[0m\u001b[0mobject_\u001b[0m\u001b[1;33m)\u001b[0m\u001b[1;33m\u001b[0m\u001b[1;33m\u001b[0m\u001b[0m\n\u001b[0m\u001b[0;32m   1084\u001b[0m         array = numpy.ndarray(buffer=buffer_, dtype=self.base.dtype,\n\u001b[0;32m   1085\u001b[0m                               shape=len(buffer_))\n",
      "\u001b[1;32mc:\\users\\bhavi\\appdata\\local\\programs\\python\\python37\\lib\\site-packages\\tables\\atom.py\u001b[0m in \u001b[0;36m_tobuffer\u001b[1;34m(self, object_)\u001b[0m\n\u001b[0;32m   1214\u001b[0m \u001b[1;33m\u001b[0m\u001b[0m\n\u001b[0;32m   1215\u001b[0m     \u001b[1;32mdef\u001b[0m \u001b[0m_tobuffer\u001b[0m\u001b[1;33m(\u001b[0m\u001b[0mself\u001b[0m\u001b[1;33m,\u001b[0m \u001b[0mobject_\u001b[0m\u001b[1;33m)\u001b[0m\u001b[1;33m:\u001b[0m\u001b[1;33m\u001b[0m\u001b[1;33m\u001b[0m\u001b[0m\n\u001b[1;32m-> 1216\u001b[1;33m         \u001b[1;32mreturn\u001b[0m \u001b[0mpickle\u001b[0m\u001b[1;33m.\u001b[0m\u001b[0mdumps\u001b[0m\u001b[1;33m(\u001b[0m\u001b[0mobject_\u001b[0m\u001b[1;33m,\u001b[0m \u001b[0mpickle\u001b[0m\u001b[1;33m.\u001b[0m\u001b[0mHIGHEST_PROTOCOL\u001b[0m\u001b[1;33m)\u001b[0m\u001b[1;33m\u001b[0m\u001b[1;33m\u001b[0m\u001b[0m\n\u001b[0m\u001b[0;32m   1217\u001b[0m \u001b[1;33m\u001b[0m\u001b[0m\n\u001b[0;32m   1218\u001b[0m     \u001b[1;32mdef\u001b[0m \u001b[0mfromarray\u001b[0m\u001b[1;33m(\u001b[0m\u001b[0mself\u001b[0m\u001b[1;33m,\u001b[0m \u001b[0marray\u001b[0m\u001b[1;33m)\u001b[0m\u001b[1;33m:\u001b[0m\u001b[1;33m\u001b[0m\u001b[1;33m\u001b[0m\u001b[0m\n",
      "\u001b[1;31mMemoryError\u001b[0m: "
     ]
    }
   ],
   "source": [
    "test_df.to_hdf(\"testfiles_df.hd5\", key='stage', mode='w')"
   ]
  },
  {
   "cell_type": "code",
   "execution_count": 23,
   "metadata": {},
   "outputs": [],
   "source": [
    "test_df = pd.read_hdf(\"testfiles_df.hd5\", key='stage')"
   ]
  },
  {
   "cell_type": "code",
   "execution_count": 7,
   "metadata": {},
   "outputs": [
    {
     "data": {
      "text/html": [
       "<div>\n",
       "<style scoped>\n",
       "    .dataframe tbody tr th:only-of-type {\n",
       "        vertical-align: middle;\n",
       "    }\n",
       "\n",
       "    .dataframe tbody tr th {\n",
       "        vertical-align: top;\n",
       "    }\n",
       "\n",
       "    .dataframe thead th {\n",
       "        text-align: right;\n",
       "    }\n",
       "</style>\n",
       "<table border=\"1\" class=\"dataframe\">\n",
       "  <thead>\n",
       "    <tr style=\"text-align: right;\">\n",
       "      <th></th>\n",
       "      <th>recording_id</th>\n",
       "      <th>waveform</th>\n",
       "    </tr>\n",
       "  </thead>\n",
       "  <tbody>\n",
       "    <tr>\n",
       "      <th>0</th>\n",
       "      <td>000316da7</td>\n",
       "      <td>[-0.002532958984375, 0.00115966796875, -0.0045...</td>\n",
       "    </tr>\n",
       "    <tr>\n",
       "      <th>1</th>\n",
       "      <td>003bc2cb2</td>\n",
       "      <td>[0.062347412109375, -0.02972412109375, 0.00027...</td>\n",
       "    </tr>\n",
       "    <tr>\n",
       "      <th>2</th>\n",
       "      <td>0061c037e</td>\n",
       "      <td>[-0.005126953125, -0.004608154296875, -0.00811...</td>\n",
       "    </tr>\n",
       "    <tr>\n",
       "      <th>3</th>\n",
       "      <td>010eb14d3</td>\n",
       "      <td>[-0.02447509765625, 0.011688232421875, 0.03973...</td>\n",
       "    </tr>\n",
       "    <tr>\n",
       "      <th>4</th>\n",
       "      <td>011318064</td>\n",
       "      <td>[0.00128173828125, -0.002227783203125, 0.00207...</td>\n",
       "    </tr>\n",
       "    <tr>\n",
       "      <th>...</th>\n",
       "      <td>...</td>\n",
       "      <td>...</td>\n",
       "    </tr>\n",
       "    <tr>\n",
       "      <th>1987</th>\n",
       "      <td>ff68f3ac3</td>\n",
       "      <td>[0.014617919921875, 0.0115966796875, -0.003601...</td>\n",
       "    </tr>\n",
       "    <tr>\n",
       "      <th>1988</th>\n",
       "      <td>ff973e852</td>\n",
       "      <td>[0.0135498046875, -0.003509521484375, -0.00485...</td>\n",
       "    </tr>\n",
       "    <tr>\n",
       "      <th>1989</th>\n",
       "      <td>ffa5cf6d6</td>\n",
       "      <td>[0.001373291015625, -0.003265380859375, 0.0014...</td>\n",
       "    </tr>\n",
       "    <tr>\n",
       "      <th>1990</th>\n",
       "      <td>ffa88cbb8</td>\n",
       "      <td>[-0.005706787109375, 0.003143310546875, 3.0517...</td>\n",
       "    </tr>\n",
       "    <tr>\n",
       "      <th>1991</th>\n",
       "      <td>ffda5d7b3</td>\n",
       "      <td>[-0.01153564453125, -0.004058837890625, -0.003...</td>\n",
       "    </tr>\n",
       "  </tbody>\n",
       "</table>\n",
       "<p>1992 rows × 2 columns</p>\n",
       "</div>"
      ],
      "text/plain": [
       "     recording_id                                           waveform\n",
       "0       000316da7  [-0.002532958984375, 0.00115966796875, -0.0045...\n",
       "1       003bc2cb2  [0.062347412109375, -0.02972412109375, 0.00027...\n",
       "2       0061c037e  [-0.005126953125, -0.004608154296875, -0.00811...\n",
       "3       010eb14d3  [-0.02447509765625, 0.011688232421875, 0.03973...\n",
       "4       011318064  [0.00128173828125, -0.002227783203125, 0.00207...\n",
       "...           ...                                                ...\n",
       "1987    ff68f3ac3  [0.014617919921875, 0.0115966796875, -0.003601...\n",
       "1988    ff973e852  [0.0135498046875, -0.003509521484375, -0.00485...\n",
       "1989    ffa5cf6d6  [0.001373291015625, -0.003265380859375, 0.0014...\n",
       "1990    ffa88cbb8  [-0.005706787109375, 0.003143310546875, 3.0517...\n",
       "1991    ffda5d7b3  [-0.01153564453125, -0.004058837890625, -0.003...\n",
       "\n",
       "[1992 rows x 2 columns]"
      ]
     },
     "execution_count": 7,
     "metadata": {},
     "output_type": "execute_result"
    }
   ],
   "source": [
    "test_df"
   ]
  },
  {
   "cell_type": "code",
   "execution_count": 8,
   "metadata": {},
   "outputs": [],
   "source": [
    "\n",
    "test_slice_df = pd.DataFrame()"
   ]
  },
  {
   "cell_type": "code",
   "execution_count": 9,
   "metadata": {},
   "outputs": [
    {
     "data": {
      "application/vnd.jupyter.widget-view+json": {
       "model_id": "713bdbfaea284fada14f01dba8ffa008",
       "version_major": 2,
       "version_minor": 0
      },
      "text/plain": [
       "HBox(children=(HTML(value=''), FloatProgress(value=0.0, max=1992.0), HTML(value='')))"
      ]
     },
     "metadata": {},
     "output_type": "display_data"
    },
    {
     "name": "stdout",
     "output_type": "stream",
     "text": [
      "\n"
     ]
    }
   ],
   "source": [
    "# x + 121781\n",
    "# x = [0 -> length- 121781]\n",
    "\n",
    "\n",
    "for i in tqdm(range(len(test_df))):\n",
    "    entry = test_df.iloc[i]\n",
    "    waveform = entry[\"waveform\"]\n",
    "    x = 0\n",
    "    c_length = 0\n",
    "    while len(entry['waveform']) - x - c_length > 0:\n",
    "#         print(\"true\")\n",
    "        c_length = (len(entry['waveform']) - x) if (len(entry['waveform']) - x) < 121781 else 121781\n",
    "        test_slice_df = test_slice_df.append({\"waveform\": waveform[x : x+c_length], \"recording_id\" : entry['recording_id']}, ignore_index=True)\n",
    "        \n",
    "        x = x+ c_length"
   ]
  },
  {
   "cell_type": "code",
   "execution_count": 10,
   "metadata": {},
   "outputs": [
    {
     "ename": "MemoryError",
     "evalue": "",
     "output_type": "error",
     "traceback": [
      "\u001b[1;31m---------------------------------------------------------------------------\u001b[0m",
      "\u001b[1;31mMemoryError\u001b[0m                               Traceback (most recent call last)",
      "\u001b[1;32m<ipython-input-10-476517d1e9dd>\u001b[0m in \u001b[0;36m<module>\u001b[1;34m\u001b[0m\n\u001b[1;32m----> 1\u001b[1;33m \u001b[0mtest_slice_df\u001b[0m\u001b[1;33m.\u001b[0m\u001b[0mto_pickle\u001b[0m\u001b[1;33m(\u001b[0m\u001b[1;34m\"sliced_testfiles.pkl\"\u001b[0m\u001b[1;33m)\u001b[0m\u001b[1;33m\u001b[0m\u001b[1;33m\u001b[0m\u001b[0m\n\u001b[0m",
      "\u001b[1;32mc:\\users\\bhavi\\appdata\\local\\programs\\python\\python37\\lib\\site-packages\\pandas\\core\\generic.py\u001b[0m in \u001b[0;36mto_pickle\u001b[1;34m(self, path, compression, protocol)\u001b[0m\n\u001b[0;32m   2674\u001b[0m         \u001b[1;32mfrom\u001b[0m \u001b[0mpandas\u001b[0m\u001b[1;33m.\u001b[0m\u001b[0mio\u001b[0m\u001b[1;33m.\u001b[0m\u001b[0mpickle\u001b[0m \u001b[1;32mimport\u001b[0m \u001b[0mto_pickle\u001b[0m\u001b[1;33m\u001b[0m\u001b[1;33m\u001b[0m\u001b[0m\n\u001b[0;32m   2675\u001b[0m \u001b[1;33m\u001b[0m\u001b[0m\n\u001b[1;32m-> 2676\u001b[1;33m         \u001b[0mto_pickle\u001b[0m\u001b[1;33m(\u001b[0m\u001b[0mself\u001b[0m\u001b[1;33m,\u001b[0m \u001b[0mpath\u001b[0m\u001b[1;33m,\u001b[0m \u001b[0mcompression\u001b[0m\u001b[1;33m=\u001b[0m\u001b[0mcompression\u001b[0m\u001b[1;33m,\u001b[0m \u001b[0mprotocol\u001b[0m\u001b[1;33m=\u001b[0m\u001b[0mprotocol\u001b[0m\u001b[1;33m)\u001b[0m\u001b[1;33m\u001b[0m\u001b[1;33m\u001b[0m\u001b[0m\n\u001b[0m\u001b[0;32m   2677\u001b[0m \u001b[1;33m\u001b[0m\u001b[0m\n\u001b[0;32m   2678\u001b[0m     def to_clipboard(\n",
      "\u001b[1;32mc:\\users\\bhavi\\appdata\\local\\programs\\python\\python37\\lib\\site-packages\\pandas\\io\\pickle.py\u001b[0m in \u001b[0;36mto_pickle\u001b[1;34m(obj, filepath_or_buffer, compression, protocol)\u001b[0m\n\u001b[0;32m     85\u001b[0m         \u001b[0mprotocol\u001b[0m \u001b[1;33m=\u001b[0m \u001b[0mpickle\u001b[0m\u001b[1;33m.\u001b[0m\u001b[0mHIGHEST_PROTOCOL\u001b[0m\u001b[1;33m\u001b[0m\u001b[1;33m\u001b[0m\u001b[0m\n\u001b[0;32m     86\u001b[0m     \u001b[1;32mtry\u001b[0m\u001b[1;33m:\u001b[0m\u001b[1;33m\u001b[0m\u001b[1;33m\u001b[0m\u001b[0m\n\u001b[1;32m---> 87\u001b[1;33m         \u001b[0mf\u001b[0m\u001b[1;33m.\u001b[0m\u001b[0mwrite\u001b[0m\u001b[1;33m(\u001b[0m\u001b[0mpickle\u001b[0m\u001b[1;33m.\u001b[0m\u001b[0mdumps\u001b[0m\u001b[1;33m(\u001b[0m\u001b[0mobj\u001b[0m\u001b[1;33m,\u001b[0m \u001b[0mprotocol\u001b[0m\u001b[1;33m=\u001b[0m\u001b[0mprotocol\u001b[0m\u001b[1;33m)\u001b[0m\u001b[1;33m)\u001b[0m\u001b[1;33m\u001b[0m\u001b[1;33m\u001b[0m\u001b[0m\n\u001b[0m\u001b[0;32m     88\u001b[0m     \u001b[1;32mfinally\u001b[0m\u001b[1;33m:\u001b[0m\u001b[1;33m\u001b[0m\u001b[1;33m\u001b[0m\u001b[0m\n\u001b[0;32m     89\u001b[0m         \u001b[0mf\u001b[0m\u001b[1;33m.\u001b[0m\u001b[0mclose\u001b[0m\u001b[1;33m(\u001b[0m\u001b[1;33m)\u001b[0m\u001b[1;33m\u001b[0m\u001b[1;33m\u001b[0m\u001b[0m\n",
      "\u001b[1;31mMemoryError\u001b[0m: "
     ]
    }
   ],
   "source": [
    "test_slice_df.to_pickle(\"sliced_testfiles.pkl\")"
   ]
  },
  {
   "cell_type": "code",
   "execution_count": 11,
   "metadata": {},
   "outputs": [
    {
     "data": {
      "text/plain": [
       "numpy.ndarray"
      ]
     },
     "execution_count": 11,
     "metadata": {},
     "output_type": "execute_result"
    }
   ],
   "source": [
    "type(test_df.iloc[0].waveform)"
   ]
  },
  {
   "cell_type": "code",
   "execution_count": 15,
   "metadata": {},
   "outputs": [],
   "source": [
    "def my_reset(*varnames):\n",
    "    \"\"\"\n",
    "    varnames are what you want to keep\n",
    "    \"\"\"\n",
    "    globals_ = globals()\n",
    "    to_save = {v: globals_[v] for v in varnames}\n",
    "    to_save['my_reset'] = my_reset  # lets keep this function by default\n",
    "    del globals_\n",
    "    get_ipython().magic(\"reset\")\n",
    "    globals().update(to_save)"
   ]
  },
  {
   "cell_type": "code",
   "execution_count": 25,
   "metadata": {},
   "outputs": [
    {
     "ename": "TypeError",
     "evalue": "unhashable type: 'list'",
     "output_type": "error",
     "traceback": [
      "\u001b[1;31m---------------------------------------------------------------------------\u001b[0m",
      "\u001b[1;31mTypeError\u001b[0m                                 Traceback (most recent call last)",
      "\u001b[1;32m<ipython-input-25-ec5bf4f733da>\u001b[0m in \u001b[0;36m<module>\u001b[1;34m\u001b[0m\n\u001b[1;32m----> 1\u001b[1;33m \u001b[0mmy_reset\u001b[0m\u001b[1;33m(\u001b[0m\u001b[0mTEST\u001b[0m\u001b[1;33m,\u001b[0m \u001b[0mids\u001b[0m\u001b[1;33m)\u001b[0m\u001b[1;33m\u001b[0m\u001b[1;33m\u001b[0m\u001b[0m\n\u001b[0m",
      "\u001b[1;32m<ipython-input-15-d88479b004e7>\u001b[0m in \u001b[0;36mmy_reset\u001b[1;34m(*varnames)\u001b[0m\n\u001b[0;32m      4\u001b[0m     \"\"\"\n\u001b[0;32m      5\u001b[0m     \u001b[0mglobals_\u001b[0m \u001b[1;33m=\u001b[0m \u001b[0mglobals\u001b[0m\u001b[1;33m(\u001b[0m\u001b[1;33m)\u001b[0m\u001b[1;33m\u001b[0m\u001b[1;33m\u001b[0m\u001b[0m\n\u001b[1;32m----> 6\u001b[1;33m     \u001b[0mto_save\u001b[0m \u001b[1;33m=\u001b[0m \u001b[1;33m{\u001b[0m\u001b[0mv\u001b[0m\u001b[1;33m:\u001b[0m \u001b[0mglobals_\u001b[0m\u001b[1;33m[\u001b[0m\u001b[0mv\u001b[0m\u001b[1;33m]\u001b[0m \u001b[1;32mfor\u001b[0m \u001b[0mv\u001b[0m \u001b[1;32min\u001b[0m \u001b[0mvarnames\u001b[0m\u001b[1;33m}\u001b[0m\u001b[1;33m\u001b[0m\u001b[1;33m\u001b[0m\u001b[0m\n\u001b[0m\u001b[0;32m      7\u001b[0m     \u001b[0mto_save\u001b[0m\u001b[1;33m[\u001b[0m\u001b[1;34m'my_reset'\u001b[0m\u001b[1;33m]\u001b[0m \u001b[1;33m=\u001b[0m \u001b[0mmy_reset\u001b[0m  \u001b[1;31m# lets keep this function by default\u001b[0m\u001b[1;33m\u001b[0m\u001b[1;33m\u001b[0m\u001b[0m\n\u001b[0;32m      8\u001b[0m     \u001b[1;32mdel\u001b[0m \u001b[0mglobals_\u001b[0m\u001b[1;33m\u001b[0m\u001b[1;33m\u001b[0m\u001b[0m\n",
      "\u001b[1;32m<ipython-input-15-d88479b004e7>\u001b[0m in \u001b[0;36m<dictcomp>\u001b[1;34m(.0)\u001b[0m\n\u001b[0;32m      4\u001b[0m     \"\"\"\n\u001b[0;32m      5\u001b[0m     \u001b[0mglobals_\u001b[0m \u001b[1;33m=\u001b[0m \u001b[0mglobals\u001b[0m\u001b[1;33m(\u001b[0m\u001b[1;33m)\u001b[0m\u001b[1;33m\u001b[0m\u001b[1;33m\u001b[0m\u001b[0m\n\u001b[1;32m----> 6\u001b[1;33m     \u001b[0mto_save\u001b[0m \u001b[1;33m=\u001b[0m \u001b[1;33m{\u001b[0m\u001b[0mv\u001b[0m\u001b[1;33m:\u001b[0m \u001b[0mglobals_\u001b[0m\u001b[1;33m[\u001b[0m\u001b[0mv\u001b[0m\u001b[1;33m]\u001b[0m \u001b[1;32mfor\u001b[0m \u001b[0mv\u001b[0m \u001b[1;32min\u001b[0m \u001b[0mvarnames\u001b[0m\u001b[1;33m}\u001b[0m\u001b[1;33m\u001b[0m\u001b[1;33m\u001b[0m\u001b[0m\n\u001b[0m\u001b[0;32m      7\u001b[0m     \u001b[0mto_save\u001b[0m\u001b[1;33m[\u001b[0m\u001b[1;34m'my_reset'\u001b[0m\u001b[1;33m]\u001b[0m \u001b[1;33m=\u001b[0m \u001b[0mmy_reset\u001b[0m  \u001b[1;31m# lets keep this function by default\u001b[0m\u001b[1;33m\u001b[0m\u001b[1;33m\u001b[0m\u001b[0m\n\u001b[0;32m      8\u001b[0m     \u001b[1;32mdel\u001b[0m \u001b[0mglobals_\u001b[0m\u001b[1;33m\u001b[0m\u001b[1;33m\u001b[0m\u001b[0m\n",
      "\u001b[1;31mTypeError\u001b[0m: unhashable type: 'list'"
     ]
    }
   ],
   "source": [
    "my_reset(TEST, ids)"
   ]
  },
  {
   "cell_type": "code",
   "execution_count": 14,
   "metadata": {
    "scrolled": true
   },
   "outputs": [
    {
     "data": {
      "application/vnd.jupyter.widget-view+json": {
       "model_id": "049f5f0521d24f40acb30d4f5ed33dac",
       "version_major": 2,
       "version_minor": 0
      },
      "text/plain": [
       "HBox(children=(HTML(value='!'), FloatProgress(value=0.0, max=45816.0), HTML(value='')))"
      ]
     },
     "metadata": {},
     "output_type": "display_data"
    },
    {
     "name": "stdout",
     "output_type": "stream",
     "text": [
      "\n"
     ]
    }
   ],
   "source": [
    "test_slice_df['fft_1d'] = test_slice_df.progress_apply(extract_features, axis=1)"
   ]
  },
  {
   "cell_type": "code",
   "execution_count": 21,
   "metadata": {},
   "outputs": [
    {
     "ename": "MemoryError",
     "evalue": "",
     "output_type": "error",
     "traceback": [
      "\u001b[1;31m---------------------------------------------------------------------------\u001b[0m",
      "\u001b[1;31mMemoryError\u001b[0m                               Traceback (most recent call last)",
      "\u001b[1;32m<ipython-input-21-70bb4b5b3b3f>\u001b[0m in \u001b[0;36m<module>\u001b[1;34m\u001b[0m\n\u001b[1;32m----> 1\u001b[1;33m \u001b[0mtest_slice_df\u001b[0m\u001b[1;33m.\u001b[0m\u001b[0mto_hdf\u001b[0m\u001b[1;33m(\u001b[0m\u001b[1;34m\"D:/test_slice.hd5\"\u001b[0m\u001b[1;33m,\u001b[0m \u001b[0mkey\u001b[0m\u001b[1;33m=\u001b[0m\u001b[1;34m'stage'\u001b[0m\u001b[1;33m,\u001b[0m \u001b[0mmode\u001b[0m\u001b[1;33m=\u001b[0m\u001b[1;34m'w'\u001b[0m\u001b[1;33m)\u001b[0m\u001b[1;33m\u001b[0m\u001b[1;33m\u001b[0m\u001b[0m\n\u001b[0m",
      "\u001b[1;32mc:\\users\\bhavi\\appdata\\local\\programs\\python\\python37\\lib\\site-packages\\pandas\\core\\generic.py\u001b[0m in \u001b[0;36mto_hdf\u001b[1;34m(self, path_or_buf, key, mode, complevel, complib, append, format, index, min_itemsize, nan_rep, dropna, data_columns, errors, encoding)\u001b[0m\n\u001b[0;32m   2447\u001b[0m             \u001b[0mdata_columns\u001b[0m\u001b[1;33m=\u001b[0m\u001b[0mdata_columns\u001b[0m\u001b[1;33m,\u001b[0m\u001b[1;33m\u001b[0m\u001b[1;33m\u001b[0m\u001b[0m\n\u001b[0;32m   2448\u001b[0m             \u001b[0merrors\u001b[0m\u001b[1;33m=\u001b[0m\u001b[0merrors\u001b[0m\u001b[1;33m,\u001b[0m\u001b[1;33m\u001b[0m\u001b[1;33m\u001b[0m\u001b[0m\n\u001b[1;32m-> 2449\u001b[1;33m             \u001b[0mencoding\u001b[0m\u001b[1;33m=\u001b[0m\u001b[0mencoding\u001b[0m\u001b[1;33m,\u001b[0m\u001b[1;33m\u001b[0m\u001b[1;33m\u001b[0m\u001b[0m\n\u001b[0m\u001b[0;32m   2450\u001b[0m         )\n\u001b[0;32m   2451\u001b[0m \u001b[1;33m\u001b[0m\u001b[0m\n",
      "\u001b[1;32mc:\\users\\bhavi\\appdata\\local\\programs\\python\\python37\\lib\\site-packages\\pandas\\io\\pytables.py\u001b[0m in \u001b[0;36mto_hdf\u001b[1;34m(path_or_buf, key, value, mode, complevel, complib, append, format, index, min_itemsize, nan_rep, dropna, data_columns, errors, encoding)\u001b[0m\n\u001b[0;32m    268\u001b[0m             \u001b[0mpath_or_buf\u001b[0m\u001b[1;33m,\u001b[0m \u001b[0mmode\u001b[0m\u001b[1;33m=\u001b[0m\u001b[0mmode\u001b[0m\u001b[1;33m,\u001b[0m \u001b[0mcomplevel\u001b[0m\u001b[1;33m=\u001b[0m\u001b[0mcomplevel\u001b[0m\u001b[1;33m,\u001b[0m \u001b[0mcomplib\u001b[0m\u001b[1;33m=\u001b[0m\u001b[0mcomplib\u001b[0m\u001b[1;33m\u001b[0m\u001b[1;33m\u001b[0m\u001b[0m\n\u001b[0;32m    269\u001b[0m         ) as store:\n\u001b[1;32m--> 270\u001b[1;33m             \u001b[0mf\u001b[0m\u001b[1;33m(\u001b[0m\u001b[0mstore\u001b[0m\u001b[1;33m)\u001b[0m\u001b[1;33m\u001b[0m\u001b[1;33m\u001b[0m\u001b[0m\n\u001b[0m\u001b[0;32m    271\u001b[0m     \u001b[1;32melse\u001b[0m\u001b[1;33m:\u001b[0m\u001b[1;33m\u001b[0m\u001b[1;33m\u001b[0m\u001b[0m\n\u001b[0;32m    272\u001b[0m         \u001b[0mf\u001b[0m\u001b[1;33m(\u001b[0m\u001b[0mpath_or_buf\u001b[0m\u001b[1;33m)\u001b[0m\u001b[1;33m\u001b[0m\u001b[1;33m\u001b[0m\u001b[0m\n",
      "\u001b[1;32mc:\\users\\bhavi\\appdata\\local\\programs\\python\\python37\\lib\\site-packages\\pandas\\io\\pytables.py\u001b[0m in \u001b[0;36m<lambda>\u001b[1;34m(store)\u001b[0m\n\u001b[0;32m    260\u001b[0m             \u001b[0mdata_columns\u001b[0m\u001b[1;33m=\u001b[0m\u001b[0mdata_columns\u001b[0m\u001b[1;33m,\u001b[0m\u001b[1;33m\u001b[0m\u001b[1;33m\u001b[0m\u001b[0m\n\u001b[0;32m    261\u001b[0m             \u001b[0merrors\u001b[0m\u001b[1;33m=\u001b[0m\u001b[0merrors\u001b[0m\u001b[1;33m,\u001b[0m\u001b[1;33m\u001b[0m\u001b[1;33m\u001b[0m\u001b[0m\n\u001b[1;32m--> 262\u001b[1;33m             \u001b[0mencoding\u001b[0m\u001b[1;33m=\u001b[0m\u001b[0mencoding\u001b[0m\u001b[1;33m,\u001b[0m\u001b[1;33m\u001b[0m\u001b[1;33m\u001b[0m\u001b[0m\n\u001b[0m\u001b[0;32m    263\u001b[0m         )\n\u001b[0;32m    264\u001b[0m \u001b[1;33m\u001b[0m\u001b[0m\n",
      "\u001b[1;32mc:\\users\\bhavi\\appdata\\local\\programs\\python\\python37\\lib\\site-packages\\pandas\\io\\pytables.py\u001b[0m in \u001b[0;36mput\u001b[1;34m(self, key, value, format, index, append, complib, complevel, min_itemsize, nan_rep, data_columns, encoding, errors, track_times)\u001b[0m\n\u001b[0;32m   1127\u001b[0m             \u001b[0mencoding\u001b[0m\u001b[1;33m=\u001b[0m\u001b[0mencoding\u001b[0m\u001b[1;33m,\u001b[0m\u001b[1;33m\u001b[0m\u001b[1;33m\u001b[0m\u001b[0m\n\u001b[0;32m   1128\u001b[0m             \u001b[0merrors\u001b[0m\u001b[1;33m=\u001b[0m\u001b[0merrors\u001b[0m\u001b[1;33m,\u001b[0m\u001b[1;33m\u001b[0m\u001b[1;33m\u001b[0m\u001b[0m\n\u001b[1;32m-> 1129\u001b[1;33m             \u001b[0mtrack_times\u001b[0m\u001b[1;33m=\u001b[0m\u001b[0mtrack_times\u001b[0m\u001b[1;33m,\u001b[0m\u001b[1;33m\u001b[0m\u001b[1;33m\u001b[0m\u001b[0m\n\u001b[0m\u001b[0;32m   1130\u001b[0m         )\n\u001b[0;32m   1131\u001b[0m \u001b[1;33m\u001b[0m\u001b[0m\n",
      "\u001b[1;32mc:\\users\\bhavi\\appdata\\local\\programs\\python\\python37\\lib\\site-packages\\pandas\\io\\pytables.py\u001b[0m in \u001b[0;36m_write_to_group\u001b[1;34m(self, key, value, format, axes, index, append, complib, complevel, fletcher32, min_itemsize, chunksize, expectedrows, dropna, nan_rep, data_columns, encoding, errors, track_times)\u001b[0m\n\u001b[0;32m   1799\u001b[0m             \u001b[0mnan_rep\u001b[0m\u001b[1;33m=\u001b[0m\u001b[0mnan_rep\u001b[0m\u001b[1;33m,\u001b[0m\u001b[1;33m\u001b[0m\u001b[1;33m\u001b[0m\u001b[0m\n\u001b[0;32m   1800\u001b[0m             \u001b[0mdata_columns\u001b[0m\u001b[1;33m=\u001b[0m\u001b[0mdata_columns\u001b[0m\u001b[1;33m,\u001b[0m\u001b[1;33m\u001b[0m\u001b[1;33m\u001b[0m\u001b[0m\n\u001b[1;32m-> 1801\u001b[1;33m             \u001b[0mtrack_times\u001b[0m\u001b[1;33m=\u001b[0m\u001b[0mtrack_times\u001b[0m\u001b[1;33m,\u001b[0m\u001b[1;33m\u001b[0m\u001b[1;33m\u001b[0m\u001b[0m\n\u001b[0m\u001b[0;32m   1802\u001b[0m         )\n\u001b[0;32m   1803\u001b[0m \u001b[1;33m\u001b[0m\u001b[0m\n",
      "\u001b[1;32mc:\\users\\bhavi\\appdata\\local\\programs\\python\\python37\\lib\\site-packages\\pandas\\io\\pytables.py\u001b[0m in \u001b[0;36mwrite\u001b[1;34m(self, obj, **kwargs)\u001b[0m\n\u001b[0;32m   3189\u001b[0m             \u001b[1;31m# I have no idea why, but writing values before items fixed #2299\u001b[0m\u001b[1;33m\u001b[0m\u001b[1;33m\u001b[0m\u001b[1;33m\u001b[0m\u001b[0m\n\u001b[0;32m   3190\u001b[0m             \u001b[0mblk_items\u001b[0m \u001b[1;33m=\u001b[0m \u001b[0mdata\u001b[0m\u001b[1;33m.\u001b[0m\u001b[0mitems\u001b[0m\u001b[1;33m.\u001b[0m\u001b[0mtake\u001b[0m\u001b[1;33m(\u001b[0m\u001b[0mblk\u001b[0m\u001b[1;33m.\u001b[0m\u001b[0mmgr_locs\u001b[0m\u001b[1;33m)\u001b[0m\u001b[1;33m\u001b[0m\u001b[1;33m\u001b[0m\u001b[0m\n\u001b[1;32m-> 3191\u001b[1;33m             \u001b[0mself\u001b[0m\u001b[1;33m.\u001b[0m\u001b[0mwrite_array\u001b[0m\u001b[1;33m(\u001b[0m\u001b[1;34mf\"block{i}_values\"\u001b[0m\u001b[1;33m,\u001b[0m \u001b[0mblk\u001b[0m\u001b[1;33m.\u001b[0m\u001b[0mvalues\u001b[0m\u001b[1;33m,\u001b[0m \u001b[0mitems\u001b[0m\u001b[1;33m=\u001b[0m\u001b[0mblk_items\u001b[0m\u001b[1;33m)\u001b[0m\u001b[1;33m\u001b[0m\u001b[1;33m\u001b[0m\u001b[0m\n\u001b[0m\u001b[0;32m   3192\u001b[0m             \u001b[0mself\u001b[0m\u001b[1;33m.\u001b[0m\u001b[0mwrite_index\u001b[0m\u001b[1;33m(\u001b[0m\u001b[1;34mf\"block{i}_items\"\u001b[0m\u001b[1;33m,\u001b[0m \u001b[0mblk_items\u001b[0m\u001b[1;33m)\u001b[0m\u001b[1;33m\u001b[0m\u001b[1;33m\u001b[0m\u001b[0m\n\u001b[0;32m   3193\u001b[0m \u001b[1;33m\u001b[0m\u001b[0m\n",
      "\u001b[1;32mc:\\users\\bhavi\\appdata\\local\\programs\\python\\python37\\lib\\site-packages\\pandas\\io\\pytables.py\u001b[0m in \u001b[0;36mwrite_array\u001b[1;34m(self, key, value, items)\u001b[0m\n\u001b[0;32m   3047\u001b[0m \u001b[1;33m\u001b[0m\u001b[0m\n\u001b[0;32m   3048\u001b[0m             \u001b[0mvlarr\u001b[0m \u001b[1;33m=\u001b[0m \u001b[0mself\u001b[0m\u001b[1;33m.\u001b[0m\u001b[0m_handle\u001b[0m\u001b[1;33m.\u001b[0m\u001b[0mcreate_vlarray\u001b[0m\u001b[1;33m(\u001b[0m\u001b[0mself\u001b[0m\u001b[1;33m.\u001b[0m\u001b[0mgroup\u001b[0m\u001b[1;33m,\u001b[0m \u001b[0mkey\u001b[0m\u001b[1;33m,\u001b[0m \u001b[0m_tables\u001b[0m\u001b[1;33m(\u001b[0m\u001b[1;33m)\u001b[0m\u001b[1;33m.\u001b[0m\u001b[0mObjectAtom\u001b[0m\u001b[1;33m(\u001b[0m\u001b[1;33m)\u001b[0m\u001b[1;33m)\u001b[0m\u001b[1;33m\u001b[0m\u001b[1;33m\u001b[0m\u001b[0m\n\u001b[1;32m-> 3049\u001b[1;33m             \u001b[0mvlarr\u001b[0m\u001b[1;33m.\u001b[0m\u001b[0mappend\u001b[0m\u001b[1;33m(\u001b[0m\u001b[0mvalue\u001b[0m\u001b[1;33m)\u001b[0m\u001b[1;33m\u001b[0m\u001b[1;33m\u001b[0m\u001b[0m\n\u001b[0m\u001b[0;32m   3050\u001b[0m \u001b[1;33m\u001b[0m\u001b[0m\n\u001b[0;32m   3051\u001b[0m         \u001b[1;32melif\u001b[0m \u001b[0mempty_array\u001b[0m\u001b[1;33m:\u001b[0m\u001b[1;33m\u001b[0m\u001b[1;33m\u001b[0m\u001b[0m\n",
      "\u001b[1;32mc:\\users\\bhavi\\appdata\\local\\programs\\python\\python37\\lib\\site-packages\\tables\\vlarray.py\u001b[0m in \u001b[0;36mappend\u001b[1;34m(self, sequence)\u001b[0m\n\u001b[0;32m    523\u001b[0m         \u001b[0matom\u001b[0m \u001b[1;33m=\u001b[0m \u001b[0mself\u001b[0m\u001b[1;33m.\u001b[0m\u001b[0matom\u001b[0m\u001b[1;33m\u001b[0m\u001b[1;33m\u001b[0m\u001b[0m\n\u001b[0;32m    524\u001b[0m         \u001b[1;32mif\u001b[0m \u001b[1;32mnot\u001b[0m \u001b[0mhasattr\u001b[0m\u001b[1;33m(\u001b[0m\u001b[0matom\u001b[0m\u001b[1;33m,\u001b[0m \u001b[1;34m'size'\u001b[0m\u001b[1;33m)\u001b[0m\u001b[1;33m:\u001b[0m  \u001b[1;31m# it is a pseudo-atom\u001b[0m\u001b[1;33m\u001b[0m\u001b[1;33m\u001b[0m\u001b[0m\n\u001b[1;32m--> 525\u001b[1;33m             \u001b[0msequence\u001b[0m \u001b[1;33m=\u001b[0m \u001b[0matom\u001b[0m\u001b[1;33m.\u001b[0m\u001b[0mtoarray\u001b[0m\u001b[1;33m(\u001b[0m\u001b[0msequence\u001b[0m\u001b[1;33m)\u001b[0m\u001b[1;33m\u001b[0m\u001b[1;33m\u001b[0m\u001b[0m\n\u001b[0m\u001b[0;32m    526\u001b[0m             \u001b[0mstatom\u001b[0m \u001b[1;33m=\u001b[0m \u001b[0matom\u001b[0m\u001b[1;33m.\u001b[0m\u001b[0mbase\u001b[0m\u001b[1;33m\u001b[0m\u001b[1;33m\u001b[0m\u001b[0m\n\u001b[0;32m    527\u001b[0m         \u001b[1;32melse\u001b[0m\u001b[1;33m:\u001b[0m\u001b[1;33m\u001b[0m\u001b[1;33m\u001b[0m\u001b[0m\n",
      "\u001b[1;32mc:\\users\\bhavi\\appdata\\local\\programs\\python\\python37\\lib\\site-packages\\tables\\atom.py\u001b[0m in \u001b[0;36mtoarray\u001b[1;34m(self, object_)\u001b[0m\n\u001b[0;32m   1081\u001b[0m \u001b[1;33m\u001b[0m\u001b[0m\n\u001b[0;32m   1082\u001b[0m     \u001b[1;32mdef\u001b[0m \u001b[0mtoarray\u001b[0m\u001b[1;33m(\u001b[0m\u001b[0mself\u001b[0m\u001b[1;33m,\u001b[0m \u001b[0mobject_\u001b[0m\u001b[1;33m)\u001b[0m\u001b[1;33m:\u001b[0m\u001b[1;33m\u001b[0m\u001b[1;33m\u001b[0m\u001b[0m\n\u001b[1;32m-> 1083\u001b[1;33m         \u001b[0mbuffer_\u001b[0m \u001b[1;33m=\u001b[0m \u001b[0mself\u001b[0m\u001b[1;33m.\u001b[0m\u001b[0m_tobuffer\u001b[0m\u001b[1;33m(\u001b[0m\u001b[0mobject_\u001b[0m\u001b[1;33m)\u001b[0m\u001b[1;33m\u001b[0m\u001b[1;33m\u001b[0m\u001b[0m\n\u001b[0m\u001b[0;32m   1084\u001b[0m         array = numpy.ndarray(buffer=buffer_, dtype=self.base.dtype,\n\u001b[0;32m   1085\u001b[0m                               shape=len(buffer_))\n",
      "\u001b[1;32mc:\\users\\bhavi\\appdata\\local\\programs\\python\\python37\\lib\\site-packages\\tables\\atom.py\u001b[0m in \u001b[0;36m_tobuffer\u001b[1;34m(self, object_)\u001b[0m\n\u001b[0;32m   1214\u001b[0m \u001b[1;33m\u001b[0m\u001b[0m\n\u001b[0;32m   1215\u001b[0m     \u001b[1;32mdef\u001b[0m \u001b[0m_tobuffer\u001b[0m\u001b[1;33m(\u001b[0m\u001b[0mself\u001b[0m\u001b[1;33m,\u001b[0m \u001b[0mobject_\u001b[0m\u001b[1;33m)\u001b[0m\u001b[1;33m:\u001b[0m\u001b[1;33m\u001b[0m\u001b[1;33m\u001b[0m\u001b[0m\n\u001b[1;32m-> 1216\u001b[1;33m         \u001b[1;32mreturn\u001b[0m \u001b[0mpickle\u001b[0m\u001b[1;33m.\u001b[0m\u001b[0mdumps\u001b[0m\u001b[1;33m(\u001b[0m\u001b[0mobject_\u001b[0m\u001b[1;33m,\u001b[0m \u001b[0mpickle\u001b[0m\u001b[1;33m.\u001b[0m\u001b[0mHIGHEST_PROTOCOL\u001b[0m\u001b[1;33m)\u001b[0m\u001b[1;33m\u001b[0m\u001b[1;33m\u001b[0m\u001b[0m\n\u001b[0m\u001b[0;32m   1217\u001b[0m \u001b[1;33m\u001b[0m\u001b[0m\n\u001b[0;32m   1218\u001b[0m     \u001b[1;32mdef\u001b[0m \u001b[0mfromarray\u001b[0m\u001b[1;33m(\u001b[0m\u001b[0mself\u001b[0m\u001b[1;33m,\u001b[0m \u001b[0marray\u001b[0m\u001b[1;33m)\u001b[0m\u001b[1;33m:\u001b[0m\u001b[1;33m\u001b[0m\u001b[1;33m\u001b[0m\u001b[0m\n",
      "\u001b[1;31mMemoryError\u001b[0m: "
     ]
    }
   ],
   "source": [
    "test_slice_df.to_hdf(\"D:/test_slice.hd5\", key='stage', mode='w')"
   ]
  },
  {
   "cell_type": "code",
   "execution_count": 22,
   "metadata": {},
   "outputs": [],
   "source": [
    "TEST = []\n",
    "ids = []\n",
    "for i in range(len(test_slice_df)):\n",
    "    entry = test_slice_df[\"fft_1d\"].iloc[i]\n",
    "    entry2 = test_slice_df[\"recording_id\"].iloc[i]\n",
    "    ids.append(entry2)\n",
    "    TEST.append(entry)\n"
   ]
  },
  {
   "cell_type": "code",
   "execution_count": 23,
   "metadata": {},
   "outputs": [
    {
     "data": {
      "text/plain": [
       "45816"
      ]
     },
     "execution_count": 23,
     "metadata": {},
     "output_type": "execute_result"
    }
   ],
   "source": [
    "len(ids)"
   ]
  },
  {
   "cell_type": "code",
   "execution_count": null,
   "metadata": {},
   "outputs": [],
   "source": []
  },
  {
   "cell_type": "code",
   "execution_count": 27,
   "metadata": {},
   "outputs": [
    {
     "data": {
      "text/html": [
       "<div>\n",
       "<style scoped>\n",
       "    .dataframe tbody tr th:only-of-type {\n",
       "        vertical-align: middle;\n",
       "    }\n",
       "\n",
       "    .dataframe tbody tr th {\n",
       "        vertical-align: top;\n",
       "    }\n",
       "\n",
       "    .dataframe thead th {\n",
       "        text-align: right;\n",
       "    }\n",
       "</style>\n",
       "<table border=\"1\" class=\"dataframe\">\n",
       "  <thead>\n",
       "    <tr style=\"text-align: right;\">\n",
       "      <th></th>\n",
       "      <th>s14</th>\n",
       "      <th>s23</th>\n",
       "      <th>s12</th>\n",
       "      <th>s17</th>\n",
       "      <th>s10</th>\n",
       "      <th>s8</th>\n",
       "      <th>s0</th>\n",
       "      <th>s18</th>\n",
       "      <th>s15</th>\n",
       "      <th>s1</th>\n",
       "      <th>...</th>\n",
       "      <th>s19</th>\n",
       "      <th>s3</th>\n",
       "      <th>s2</th>\n",
       "      <th>s4</th>\n",
       "      <th>s22</th>\n",
       "      <th>s9</th>\n",
       "      <th>s21</th>\n",
       "      <th>s20</th>\n",
       "      <th>s5</th>\n",
       "      <th>recording_id</th>\n",
       "    </tr>\n",
       "  </thead>\n",
       "  <tbody>\n",
       "    <tr>\n",
       "      <th>45811</th>\n",
       "      <td>0.000150</td>\n",
       "      <td>0.002069</td>\n",
       "      <td>0.539520</td>\n",
       "      <td>0.000384</td>\n",
       "      <td>0.003178</td>\n",
       "      <td>0.110665</td>\n",
       "      <td>0.000450</td>\n",
       "      <td>0.030998</td>\n",
       "      <td>0.000948</td>\n",
       "      <td>0.015237</td>\n",
       "      <td>...</td>\n",
       "      <td>0.001841</td>\n",
       "      <td>0.014402</td>\n",
       "      <td>0.003899</td>\n",
       "      <td>0.000086</td>\n",
       "      <td>0.003334</td>\n",
       "      <td>0.001575</td>\n",
       "      <td>0.000124</td>\n",
       "      <td>0.080442</td>\n",
       "      <td>0.001357</td>\n",
       "      <td>ffda5d7b3</td>\n",
       "    </tr>\n",
       "    <tr>\n",
       "      <th>45812</th>\n",
       "      <td>0.000726</td>\n",
       "      <td>0.000512</td>\n",
       "      <td>0.059974</td>\n",
       "      <td>0.000028</td>\n",
       "      <td>0.002408</td>\n",
       "      <td>0.002370</td>\n",
       "      <td>0.002753</td>\n",
       "      <td>0.000426</td>\n",
       "      <td>0.000110</td>\n",
       "      <td>0.002329</td>\n",
       "      <td>...</td>\n",
       "      <td>0.000474</td>\n",
       "      <td>0.006718</td>\n",
       "      <td>0.020542</td>\n",
       "      <td>0.000012</td>\n",
       "      <td>0.017479</td>\n",
       "      <td>0.000247</td>\n",
       "      <td>0.000129</td>\n",
       "      <td>0.486626</td>\n",
       "      <td>0.000067</td>\n",
       "      <td>ffda5d7b3</td>\n",
       "    </tr>\n",
       "    <tr>\n",
       "      <th>45813</th>\n",
       "      <td>0.000113</td>\n",
       "      <td>0.004178</td>\n",
       "      <td>0.021621</td>\n",
       "      <td>0.000015</td>\n",
       "      <td>0.012075</td>\n",
       "      <td>0.005216</td>\n",
       "      <td>0.000778</td>\n",
       "      <td>0.002895</td>\n",
       "      <td>0.000097</td>\n",
       "      <td>0.063635</td>\n",
       "      <td>...</td>\n",
       "      <td>0.047720</td>\n",
       "      <td>0.013224</td>\n",
       "      <td>0.125311</td>\n",
       "      <td>0.000069</td>\n",
       "      <td>0.016064</td>\n",
       "      <td>0.001106</td>\n",
       "      <td>0.000564</td>\n",
       "      <td>0.292765</td>\n",
       "      <td>0.000071</td>\n",
       "      <td>ffda5d7b3</td>\n",
       "    </tr>\n",
       "    <tr>\n",
       "      <th>45814</th>\n",
       "      <td>0.000058</td>\n",
       "      <td>0.001644</td>\n",
       "      <td>0.005724</td>\n",
       "      <td>0.000108</td>\n",
       "      <td>0.004375</td>\n",
       "      <td>0.000801</td>\n",
       "      <td>0.003874</td>\n",
       "      <td>0.008024</td>\n",
       "      <td>0.000079</td>\n",
       "      <td>0.002926</td>\n",
       "      <td>...</td>\n",
       "      <td>0.001363</td>\n",
       "      <td>0.024770</td>\n",
       "      <td>0.022506</td>\n",
       "      <td>0.000047</td>\n",
       "      <td>0.379647</td>\n",
       "      <td>0.007637</td>\n",
       "      <td>0.000113</td>\n",
       "      <td>0.015567</td>\n",
       "      <td>0.000092</td>\n",
       "      <td>ffda5d7b3</td>\n",
       "    </tr>\n",
       "    <tr>\n",
       "      <th>45815</th>\n",
       "      <td>0.000004</td>\n",
       "      <td>0.000043</td>\n",
       "      <td>0.000370</td>\n",
       "      <td>0.000003</td>\n",
       "      <td>0.001326</td>\n",
       "      <td>0.000065</td>\n",
       "      <td>0.000058</td>\n",
       "      <td>0.000189</td>\n",
       "      <td>0.000021</td>\n",
       "      <td>0.001461</td>\n",
       "      <td>...</td>\n",
       "      <td>0.002166</td>\n",
       "      <td>0.046410</td>\n",
       "      <td>0.006107</td>\n",
       "      <td>0.000002</td>\n",
       "      <td>0.001179</td>\n",
       "      <td>0.000151</td>\n",
       "      <td>0.000015</td>\n",
       "      <td>0.000182</td>\n",
       "      <td>0.000008</td>\n",
       "      <td>ffda5d7b3</td>\n",
       "    </tr>\n",
       "  </tbody>\n",
       "</table>\n",
       "<p>5 rows × 25 columns</p>\n",
       "</div>"
      ],
      "text/plain": [
       "            s14       s23       s12       s17       s10        s8        s0  \\\n",
       "45811  0.000150  0.002069  0.539520  0.000384  0.003178  0.110665  0.000450   \n",
       "45812  0.000726  0.000512  0.059974  0.000028  0.002408  0.002370  0.002753   \n",
       "45813  0.000113  0.004178  0.021621  0.000015  0.012075  0.005216  0.000778   \n",
       "45814  0.000058  0.001644  0.005724  0.000108  0.004375  0.000801  0.003874   \n",
       "45815  0.000004  0.000043  0.000370  0.000003  0.001326  0.000065  0.000058   \n",
       "\n",
       "            s18       s15        s1  ...       s19        s3        s2  \\\n",
       "45811  0.030998  0.000948  0.015237  ...  0.001841  0.014402  0.003899   \n",
       "45812  0.000426  0.000110  0.002329  ...  0.000474  0.006718  0.020542   \n",
       "45813  0.002895  0.000097  0.063635  ...  0.047720  0.013224  0.125311   \n",
       "45814  0.008024  0.000079  0.002926  ...  0.001363  0.024770  0.022506   \n",
       "45815  0.000189  0.000021  0.001461  ...  0.002166  0.046410  0.006107   \n",
       "\n",
       "             s4       s22        s9       s21       s20        s5  \\\n",
       "45811  0.000086  0.003334  0.001575  0.000124  0.080442  0.001357   \n",
       "45812  0.000012  0.017479  0.000247  0.000129  0.486626  0.000067   \n",
       "45813  0.000069  0.016064  0.001106  0.000564  0.292765  0.000071   \n",
       "45814  0.000047  0.379647  0.007637  0.000113  0.015567  0.000092   \n",
       "45815  0.000002  0.001179  0.000151  0.000015  0.000182  0.000008   \n",
       "\n",
       "       recording_id  \n",
       "45811     ffda5d7b3  \n",
       "45812     ffda5d7b3  \n",
       "45813     ffda5d7b3  \n",
       "45814     ffda5d7b3  \n",
       "45815     ffda5d7b3  \n",
       "\n",
       "[5 rows x 25 columns]"
      ]
     },
     "execution_count": 27,
     "metadata": {},
     "output_type": "execute_result"
    }
   ],
   "source": [
    "Y_pp = pd.DataFrame(logreg.predict_proba(TEST), \n",
    "             columns=['s14', 's23', 's12', 's17', 's10', 's8', 's0', 's18', 's15', 's1', 's6', 's7',\n",
    "       's11', 's13', 's16', 's19', 's3', 's2', 's4', 's22', 's9', 's21', 's20', 's5'])\n",
    "Y_pp['recording_id'] = ids\n",
    "Y_pp.tail()"
   ]
  },
  {
   "cell_type": "code",
   "execution_count": 28,
   "metadata": {},
   "outputs": [],
   "source": [
    "Y_pp.to_hdf(\"probs.hd5\", key =\"stage\", mode=\"w\")"
   ]
  },
  {
   "cell_type": "code",
   "execution_count": 29,
   "metadata": {},
   "outputs": [
    {
     "data": {
      "text/html": [
       "<div>\n",
       "<style scoped>\n",
       "    .dataframe tbody tr th:only-of-type {\n",
       "        vertical-align: middle;\n",
       "    }\n",
       "\n",
       "    .dataframe tbody tr th {\n",
       "        vertical-align: top;\n",
       "    }\n",
       "\n",
       "    .dataframe thead th {\n",
       "        text-align: right;\n",
       "    }\n",
       "</style>\n",
       "<table border=\"1\" class=\"dataframe\">\n",
       "  <thead>\n",
       "    <tr style=\"text-align: right;\">\n",
       "      <th></th>\n",
       "      <th>s14</th>\n",
       "      <th>s23</th>\n",
       "      <th>s12</th>\n",
       "      <th>s17</th>\n",
       "      <th>s10</th>\n",
       "      <th>s8</th>\n",
       "      <th>s0</th>\n",
       "      <th>s18</th>\n",
       "      <th>s15</th>\n",
       "      <th>s1</th>\n",
       "      <th>...</th>\n",
       "      <th>s19</th>\n",
       "      <th>s3</th>\n",
       "      <th>s2</th>\n",
       "      <th>s4</th>\n",
       "      <th>s22</th>\n",
       "      <th>s9</th>\n",
       "      <th>s21</th>\n",
       "      <th>s20</th>\n",
       "      <th>s5</th>\n",
       "      <th>recording_id</th>\n",
       "    </tr>\n",
       "  </thead>\n",
       "  <tbody>\n",
       "    <tr>\n",
       "      <th>0</th>\n",
       "      <td>2.696585e-06</td>\n",
       "      <td>9.606434e-06</td>\n",
       "      <td>2.099302e-01</td>\n",
       "      <td>7.508733e-10</td>\n",
       "      <td>0.000154</td>\n",
       "      <td>3.994243e-01</td>\n",
       "      <td>0.016123</td>\n",
       "      <td>2.640657e-03</td>\n",
       "      <td>3.733729e-05</td>\n",
       "      <td>3.473008e-01</td>\n",
       "      <td>...</td>\n",
       "      <td>3.373990e-03</td>\n",
       "      <td>2.960197e-05</td>\n",
       "      <td>4.010835e-03</td>\n",
       "      <td>2.223056e-07</td>\n",
       "      <td>4.181526e-04</td>\n",
       "      <td>1.345791e-04</td>\n",
       "      <td>1.988589e-06</td>\n",
       "      <td>9.590037e-05</td>\n",
       "      <td>3.227087e-05</td>\n",
       "      <td>000316da7</td>\n",
       "    </tr>\n",
       "    <tr>\n",
       "      <th>1</th>\n",
       "      <td>4.912548e-05</td>\n",
       "      <td>6.421613e-08</td>\n",
       "      <td>3.408230e-04</td>\n",
       "      <td>4.946905e-09</td>\n",
       "      <td>0.085651</td>\n",
       "      <td>6.145341e-02</td>\n",
       "      <td>0.675009</td>\n",
       "      <td>5.904013e-05</td>\n",
       "      <td>1.869274e-03</td>\n",
       "      <td>7.423019e-03</td>\n",
       "      <td>...</td>\n",
       "      <td>1.309623e-02</td>\n",
       "      <td>1.152142e-08</td>\n",
       "      <td>3.575960e-05</td>\n",
       "      <td>2.502622e-06</td>\n",
       "      <td>1.198872e-09</td>\n",
       "      <td>1.165217e-12</td>\n",
       "      <td>7.321308e-03</td>\n",
       "      <td>6.388191e-07</td>\n",
       "      <td>1.762114e-06</td>\n",
       "      <td>000316da7</td>\n",
       "    </tr>\n",
       "    <tr>\n",
       "      <th>2</th>\n",
       "      <td>3.100416e-06</td>\n",
       "      <td>9.000835e-06</td>\n",
       "      <td>1.475923e-01</td>\n",
       "      <td>1.861877e-06</td>\n",
       "      <td>0.001495</td>\n",
       "      <td>2.593281e-01</td>\n",
       "      <td>0.136891</td>\n",
       "      <td>1.300409e-01</td>\n",
       "      <td>1.752284e-04</td>\n",
       "      <td>2.698334e-01</td>\n",
       "      <td>...</td>\n",
       "      <td>3.045747e-02</td>\n",
       "      <td>8.623361e-04</td>\n",
       "      <td>1.545470e-03</td>\n",
       "      <td>8.103187e-08</td>\n",
       "      <td>6.969422e-04</td>\n",
       "      <td>1.113279e-03</td>\n",
       "      <td>2.353779e-04</td>\n",
       "      <td>1.463367e-03</td>\n",
       "      <td>2.363503e-05</td>\n",
       "      <td>000316da7</td>\n",
       "    </tr>\n",
       "    <tr>\n",
       "      <th>3</th>\n",
       "      <td>2.135434e-08</td>\n",
       "      <td>1.375040e-14</td>\n",
       "      <td>2.220291e-12</td>\n",
       "      <td>2.570992e-15</td>\n",
       "      <td>0.000214</td>\n",
       "      <td>3.839769e-09</td>\n",
       "      <td>0.999751</td>\n",
       "      <td>1.552093e-09</td>\n",
       "      <td>3.644253e-07</td>\n",
       "      <td>3.224120e-07</td>\n",
       "      <td>...</td>\n",
       "      <td>4.864768e-09</td>\n",
       "      <td>7.906672e-15</td>\n",
       "      <td>9.102649e-15</td>\n",
       "      <td>1.029907e-11</td>\n",
       "      <td>3.112845e-16</td>\n",
       "      <td>2.520704e-18</td>\n",
       "      <td>4.402937e-06</td>\n",
       "      <td>1.541666e-13</td>\n",
       "      <td>2.371294e-09</td>\n",
       "      <td>000316da7</td>\n",
       "    </tr>\n",
       "    <tr>\n",
       "      <th>4</th>\n",
       "      <td>4.725426e-06</td>\n",
       "      <td>7.935605e-09</td>\n",
       "      <td>9.525863e-04</td>\n",
       "      <td>6.500104e-15</td>\n",
       "      <td>0.000038</td>\n",
       "      <td>1.439879e-03</td>\n",
       "      <td>0.996567</td>\n",
       "      <td>3.319492e-06</td>\n",
       "      <td>1.456934e-04</td>\n",
       "      <td>4.874330e-04</td>\n",
       "      <td>...</td>\n",
       "      <td>1.826172e-07</td>\n",
       "      <td>6.343393e-09</td>\n",
       "      <td>4.469797e-05</td>\n",
       "      <td>3.271188e-06</td>\n",
       "      <td>1.082072e-05</td>\n",
       "      <td>1.778421e-12</td>\n",
       "      <td>3.923372e-08</td>\n",
       "      <td>4.391162e-08</td>\n",
       "      <td>1.780008e-07</td>\n",
       "      <td>000316da7</td>\n",
       "    </tr>\n",
       "    <tr>\n",
       "      <th>...</th>\n",
       "      <td>...</td>\n",
       "      <td>...</td>\n",
       "      <td>...</td>\n",
       "      <td>...</td>\n",
       "      <td>...</td>\n",
       "      <td>...</td>\n",
       "      <td>...</td>\n",
       "      <td>...</td>\n",
       "      <td>...</td>\n",
       "      <td>...</td>\n",
       "      <td>...</td>\n",
       "      <td>...</td>\n",
       "      <td>...</td>\n",
       "      <td>...</td>\n",
       "      <td>...</td>\n",
       "      <td>...</td>\n",
       "      <td>...</td>\n",
       "      <td>...</td>\n",
       "      <td>...</td>\n",
       "      <td>...</td>\n",
       "      <td>...</td>\n",
       "    </tr>\n",
       "    <tr>\n",
       "      <th>45811</th>\n",
       "      <td>1.501330e-04</td>\n",
       "      <td>2.068931e-03</td>\n",
       "      <td>5.395197e-01</td>\n",
       "      <td>3.840627e-04</td>\n",
       "      <td>0.003178</td>\n",
       "      <td>1.106653e-01</td>\n",
       "      <td>0.000450</td>\n",
       "      <td>3.099753e-02</td>\n",
       "      <td>9.476007e-04</td>\n",
       "      <td>1.523682e-02</td>\n",
       "      <td>...</td>\n",
       "      <td>1.840526e-03</td>\n",
       "      <td>1.440158e-02</td>\n",
       "      <td>3.899313e-03</td>\n",
       "      <td>8.639609e-05</td>\n",
       "      <td>3.334151e-03</td>\n",
       "      <td>1.575393e-03</td>\n",
       "      <td>1.244992e-04</td>\n",
       "      <td>8.044198e-02</td>\n",
       "      <td>1.356940e-03</td>\n",
       "      <td>ffda5d7b3</td>\n",
       "    </tr>\n",
       "    <tr>\n",
       "      <th>45812</th>\n",
       "      <td>7.262438e-04</td>\n",
       "      <td>5.124223e-04</td>\n",
       "      <td>5.997392e-02</td>\n",
       "      <td>2.771871e-05</td>\n",
       "      <td>0.002408</td>\n",
       "      <td>2.370453e-03</td>\n",
       "      <td>0.002753</td>\n",
       "      <td>4.264678e-04</td>\n",
       "      <td>1.099829e-04</td>\n",
       "      <td>2.328544e-03</td>\n",
       "      <td>...</td>\n",
       "      <td>4.744631e-04</td>\n",
       "      <td>6.717636e-03</td>\n",
       "      <td>2.054184e-02</td>\n",
       "      <td>1.183047e-05</td>\n",
       "      <td>1.747929e-02</td>\n",
       "      <td>2.470205e-04</td>\n",
       "      <td>1.291725e-04</td>\n",
       "      <td>4.866264e-01</td>\n",
       "      <td>6.654796e-05</td>\n",
       "      <td>ffda5d7b3</td>\n",
       "    </tr>\n",
       "    <tr>\n",
       "      <th>45813</th>\n",
       "      <td>1.128003e-04</td>\n",
       "      <td>4.177626e-03</td>\n",
       "      <td>2.162111e-02</td>\n",
       "      <td>1.538027e-05</td>\n",
       "      <td>0.012075</td>\n",
       "      <td>5.216006e-03</td>\n",
       "      <td>0.000778</td>\n",
       "      <td>2.895419e-03</td>\n",
       "      <td>9.665929e-05</td>\n",
       "      <td>6.363519e-02</td>\n",
       "      <td>...</td>\n",
       "      <td>4.772010e-02</td>\n",
       "      <td>1.322351e-02</td>\n",
       "      <td>1.253112e-01</td>\n",
       "      <td>6.873276e-05</td>\n",
       "      <td>1.606430e-02</td>\n",
       "      <td>1.105656e-03</td>\n",
       "      <td>5.644207e-04</td>\n",
       "      <td>2.927647e-01</td>\n",
       "      <td>7.107662e-05</td>\n",
       "      <td>ffda5d7b3</td>\n",
       "    </tr>\n",
       "    <tr>\n",
       "      <th>45814</th>\n",
       "      <td>5.821679e-05</td>\n",
       "      <td>1.643948e-03</td>\n",
       "      <td>5.723688e-03</td>\n",
       "      <td>1.076741e-04</td>\n",
       "      <td>0.004375</td>\n",
       "      <td>8.009150e-04</td>\n",
       "      <td>0.003874</td>\n",
       "      <td>8.024393e-03</td>\n",
       "      <td>7.901919e-05</td>\n",
       "      <td>2.925859e-03</td>\n",
       "      <td>...</td>\n",
       "      <td>1.363212e-03</td>\n",
       "      <td>2.477005e-02</td>\n",
       "      <td>2.250575e-02</td>\n",
       "      <td>4.663243e-05</td>\n",
       "      <td>3.796471e-01</td>\n",
       "      <td>7.637086e-03</td>\n",
       "      <td>1.127604e-04</td>\n",
       "      <td>1.556741e-02</td>\n",
       "      <td>9.156995e-05</td>\n",
       "      <td>ffda5d7b3</td>\n",
       "    </tr>\n",
       "    <tr>\n",
       "      <th>45815</th>\n",
       "      <td>3.919211e-06</td>\n",
       "      <td>4.252374e-05</td>\n",
       "      <td>3.696603e-04</td>\n",
       "      <td>2.874164e-06</td>\n",
       "      <td>0.001326</td>\n",
       "      <td>6.482631e-05</td>\n",
       "      <td>0.000058</td>\n",
       "      <td>1.890373e-04</td>\n",
       "      <td>2.142673e-05</td>\n",
       "      <td>1.460564e-03</td>\n",
       "      <td>...</td>\n",
       "      <td>2.165592e-03</td>\n",
       "      <td>4.640993e-02</td>\n",
       "      <td>6.107043e-03</td>\n",
       "      <td>2.005307e-06</td>\n",
       "      <td>1.178749e-03</td>\n",
       "      <td>1.513890e-04</td>\n",
       "      <td>1.525519e-05</td>\n",
       "      <td>1.822970e-04</td>\n",
       "      <td>8.320603e-06</td>\n",
       "      <td>ffda5d7b3</td>\n",
       "    </tr>\n",
       "  </tbody>\n",
       "</table>\n",
       "<p>45816 rows × 25 columns</p>\n",
       "</div>"
      ],
      "text/plain": [
       "                s14           s23           s12           s17       s10  \\\n",
       "0      2.696585e-06  9.606434e-06  2.099302e-01  7.508733e-10  0.000154   \n",
       "1      4.912548e-05  6.421613e-08  3.408230e-04  4.946905e-09  0.085651   \n",
       "2      3.100416e-06  9.000835e-06  1.475923e-01  1.861877e-06  0.001495   \n",
       "3      2.135434e-08  1.375040e-14  2.220291e-12  2.570992e-15  0.000214   \n",
       "4      4.725426e-06  7.935605e-09  9.525863e-04  6.500104e-15  0.000038   \n",
       "...             ...           ...           ...           ...       ...   \n",
       "45811  1.501330e-04  2.068931e-03  5.395197e-01  3.840627e-04  0.003178   \n",
       "45812  7.262438e-04  5.124223e-04  5.997392e-02  2.771871e-05  0.002408   \n",
       "45813  1.128003e-04  4.177626e-03  2.162111e-02  1.538027e-05  0.012075   \n",
       "45814  5.821679e-05  1.643948e-03  5.723688e-03  1.076741e-04  0.004375   \n",
       "45815  3.919211e-06  4.252374e-05  3.696603e-04  2.874164e-06  0.001326   \n",
       "\n",
       "                 s8        s0           s18           s15            s1  ...  \\\n",
       "0      3.994243e-01  0.016123  2.640657e-03  3.733729e-05  3.473008e-01  ...   \n",
       "1      6.145341e-02  0.675009  5.904013e-05  1.869274e-03  7.423019e-03  ...   \n",
       "2      2.593281e-01  0.136891  1.300409e-01  1.752284e-04  2.698334e-01  ...   \n",
       "3      3.839769e-09  0.999751  1.552093e-09  3.644253e-07  3.224120e-07  ...   \n",
       "4      1.439879e-03  0.996567  3.319492e-06  1.456934e-04  4.874330e-04  ...   \n",
       "...             ...       ...           ...           ...           ...  ...   \n",
       "45811  1.106653e-01  0.000450  3.099753e-02  9.476007e-04  1.523682e-02  ...   \n",
       "45812  2.370453e-03  0.002753  4.264678e-04  1.099829e-04  2.328544e-03  ...   \n",
       "45813  5.216006e-03  0.000778  2.895419e-03  9.665929e-05  6.363519e-02  ...   \n",
       "45814  8.009150e-04  0.003874  8.024393e-03  7.901919e-05  2.925859e-03  ...   \n",
       "45815  6.482631e-05  0.000058  1.890373e-04  2.142673e-05  1.460564e-03  ...   \n",
       "\n",
       "                s19            s3            s2            s4           s22  \\\n",
       "0      3.373990e-03  2.960197e-05  4.010835e-03  2.223056e-07  4.181526e-04   \n",
       "1      1.309623e-02  1.152142e-08  3.575960e-05  2.502622e-06  1.198872e-09   \n",
       "2      3.045747e-02  8.623361e-04  1.545470e-03  8.103187e-08  6.969422e-04   \n",
       "3      4.864768e-09  7.906672e-15  9.102649e-15  1.029907e-11  3.112845e-16   \n",
       "4      1.826172e-07  6.343393e-09  4.469797e-05  3.271188e-06  1.082072e-05   \n",
       "...             ...           ...           ...           ...           ...   \n",
       "45811  1.840526e-03  1.440158e-02  3.899313e-03  8.639609e-05  3.334151e-03   \n",
       "45812  4.744631e-04  6.717636e-03  2.054184e-02  1.183047e-05  1.747929e-02   \n",
       "45813  4.772010e-02  1.322351e-02  1.253112e-01  6.873276e-05  1.606430e-02   \n",
       "45814  1.363212e-03  2.477005e-02  2.250575e-02  4.663243e-05  3.796471e-01   \n",
       "45815  2.165592e-03  4.640993e-02  6.107043e-03  2.005307e-06  1.178749e-03   \n",
       "\n",
       "                 s9           s21           s20            s5  recording_id  \n",
       "0      1.345791e-04  1.988589e-06  9.590037e-05  3.227087e-05     000316da7  \n",
       "1      1.165217e-12  7.321308e-03  6.388191e-07  1.762114e-06     000316da7  \n",
       "2      1.113279e-03  2.353779e-04  1.463367e-03  2.363503e-05     000316da7  \n",
       "3      2.520704e-18  4.402937e-06  1.541666e-13  2.371294e-09     000316da7  \n",
       "4      1.778421e-12  3.923372e-08  4.391162e-08  1.780008e-07     000316da7  \n",
       "...             ...           ...           ...           ...           ...  \n",
       "45811  1.575393e-03  1.244992e-04  8.044198e-02  1.356940e-03     ffda5d7b3  \n",
       "45812  2.470205e-04  1.291725e-04  4.866264e-01  6.654796e-05     ffda5d7b3  \n",
       "45813  1.105656e-03  5.644207e-04  2.927647e-01  7.107662e-05     ffda5d7b3  \n",
       "45814  7.637086e-03  1.127604e-04  1.556741e-02  9.156995e-05     ffda5d7b3  \n",
       "45815  1.513890e-04  1.525519e-05  1.822970e-04  8.320603e-06     ffda5d7b3  \n",
       "\n",
       "[45816 rows x 25 columns]"
      ]
     },
     "execution_count": 29,
     "metadata": {},
     "output_type": "execute_result"
    }
   ],
   "source": [
    "Y_pp"
   ]
  },
  {
   "cell_type": "code",
   "execution_count": 30,
   "metadata": {},
   "outputs": [
    {
     "ename": "TypeError",
     "evalue": "reduction operation 'argmax' not allowed for this dtype",
     "output_type": "error",
     "traceback": [
      "\u001b[1;31m---------------------------------------------------------------------------\u001b[0m",
      "\u001b[1;31mTypeError\u001b[0m                                 Traceback (most recent call last)",
      "\u001b[1;32m<ipython-input-30-ee364f7293b4>\u001b[0m in \u001b[0;36m<module>\u001b[1;34m\u001b[0m\n\u001b[1;32m----> 1\u001b[1;33m \u001b[0msoftmax\u001b[0m \u001b[1;33m=\u001b[0m \u001b[0mY_pp\u001b[0m\u001b[1;33m.\u001b[0m\u001b[0midxmax\u001b[0m\u001b[1;33m(\u001b[0m\u001b[0maxis\u001b[0m\u001b[1;33m=\u001b[0m\u001b[1;36m1\u001b[0m\u001b[1;33m)\u001b[0m\u001b[1;33m\u001b[0m\u001b[1;33m\u001b[0m\u001b[0m\n\u001b[0m",
      "\u001b[1;32mc:\\users\\bhavi\\appdata\\local\\programs\\python\\python37\\lib\\site-packages\\pandas\\core\\frame.py\u001b[0m in \u001b[0;36midxmax\u001b[1;34m(self, axis, skipna)\u001b[0m\n\u001b[0;32m   8870\u001b[0m         \"\"\"\n\u001b[0;32m   8871\u001b[0m         \u001b[0maxis\u001b[0m \u001b[1;33m=\u001b[0m \u001b[0mself\u001b[0m\u001b[1;33m.\u001b[0m\u001b[0m_get_axis_number\u001b[0m\u001b[1;33m(\u001b[0m\u001b[0maxis\u001b[0m\u001b[1;33m)\u001b[0m\u001b[1;33m\u001b[0m\u001b[1;33m\u001b[0m\u001b[0m\n\u001b[1;32m-> 8872\u001b[1;33m         \u001b[0mindices\u001b[0m \u001b[1;33m=\u001b[0m \u001b[0mnanops\u001b[0m\u001b[1;33m.\u001b[0m\u001b[0mnanargmax\u001b[0m\u001b[1;33m(\u001b[0m\u001b[0mself\u001b[0m\u001b[1;33m.\u001b[0m\u001b[0mvalues\u001b[0m\u001b[1;33m,\u001b[0m \u001b[0maxis\u001b[0m\u001b[1;33m=\u001b[0m\u001b[0maxis\u001b[0m\u001b[1;33m,\u001b[0m \u001b[0mskipna\u001b[0m\u001b[1;33m=\u001b[0m\u001b[0mskipna\u001b[0m\u001b[1;33m)\u001b[0m\u001b[1;33m\u001b[0m\u001b[1;33m\u001b[0m\u001b[0m\n\u001b[0m\u001b[0;32m   8873\u001b[0m \u001b[1;33m\u001b[0m\u001b[0m\n\u001b[0;32m   8874\u001b[0m         \u001b[1;31m# indices will always be np.ndarray since axis is not None and\u001b[0m\u001b[1;33m\u001b[0m\u001b[1;33m\u001b[0m\u001b[1;33m\u001b[0m\u001b[0m\n",
      "\u001b[1;32mc:\\users\\bhavi\\appdata\\local\\programs\\python\\python37\\lib\\site-packages\\pandas\\core\\nanops.py\u001b[0m in \u001b[0;36m_f\u001b[1;34m(*args, **kwargs)\u001b[0m\n\u001b[0;32m     65\u001b[0m                 \u001b[0mf_name\u001b[0m \u001b[1;33m=\u001b[0m \u001b[0mf\u001b[0m\u001b[1;33m.\u001b[0m\u001b[0m__name__\u001b[0m\u001b[1;33m.\u001b[0m\u001b[0mreplace\u001b[0m\u001b[1;33m(\u001b[0m\u001b[1;34m\"nan\"\u001b[0m\u001b[1;33m,\u001b[0m \u001b[1;34m\"\"\u001b[0m\u001b[1;33m)\u001b[0m\u001b[1;33m\u001b[0m\u001b[1;33m\u001b[0m\u001b[0m\n\u001b[0;32m     66\u001b[0m                 raise TypeError(\n\u001b[1;32m---> 67\u001b[1;33m                     \u001b[1;34mf\"reduction operation '{f_name}' not allowed for this dtype\"\u001b[0m\u001b[1;33m\u001b[0m\u001b[1;33m\u001b[0m\u001b[0m\n\u001b[0m\u001b[0;32m     68\u001b[0m                 )\n\u001b[0;32m     69\u001b[0m             \u001b[1;32mtry\u001b[0m\u001b[1;33m:\u001b[0m\u001b[1;33m\u001b[0m\u001b[1;33m\u001b[0m\u001b[0m\n",
      "\u001b[1;31mTypeError\u001b[0m: reduction operation 'argmax' not allowed for this dtype"
     ]
    }
   ],
   "source": [
    "softmax = Y_pp.idxmax(axis=1)"
   ]
  },
  {
   "cell_type": "code",
   "execution_count": 32,
   "metadata": {},
   "outputs": [
    {
     "data": {
      "text/plain": [
       "0        s8\n",
       "1        s8\n",
       "2        s8\n",
       "3       s16\n",
       "4        s8\n",
       "       ... \n",
       "7631     s8\n",
       "7632     s8\n",
       "7633     s8\n",
       "7634    s16\n",
       "7635     s8\n",
       "Length: 7636, dtype: object"
      ]
     },
     "execution_count": 32,
     "metadata": {},
     "output_type": "execute_result"
    }
   ],
   "source": [
    "softmax"
   ]
  },
  {
   "cell_type": "code",
   "execution_count": null,
   "metadata": {},
   "outputs": [],
   "source": []
  }
 ],
 "metadata": {
  "kernelspec": {
   "display_name": "Python 3",
   "language": "python",
   "name": "python3"
  },
  "language_info": {
   "codemirror_mode": {
    "name": "ipython",
    "version": 3
   },
   "file_extension": ".py",
   "mimetype": "text/x-python",
   "name": "python",
   "nbconvert_exporter": "python",
   "pygments_lexer": "ipython3",
   "version": "3.7.3"
  }
 },
 "nbformat": 4,
 "nbformat_minor": 4
}
