{
 "cells": [
  {
   "cell_type": "code",
   "execution_count": 2,
   "metadata": {},
   "outputs": [
    {
     "name": "stderr",
     "output_type": "stream",
     "text": [
      "c:\\users\\bhavi\\appdata\\local\\programs\\python\\python37\\lib\\site-packages\\torchaudio\\extension\\extension.py:14: UserWarning: torchaudio C++ extension is not available.\n",
      "  warnings.warn('torchaudio C++ extension is not available.')\n",
      "c:\\users\\bhavi\\appdata\\local\\programs\\python\\python37\\lib\\site-packages\\torchaudio\\backend\\utils.py:64: UserWarning: The interface of \"soundfile\" backend is planned to change in 0.8.0 to match that of \"sox_io\" backend and the current interface will be removed in 0.9.0. To use the new interface, do `torchaudio.USE_SOUNDFILE_LEGACY_INTERFACE = False` before setting the backend to \"soundfile\". Please refer to https://github.com/pytorch/audio/issues/903 for the detail.\n",
      "  'The interface of \"soundfile\" backend is planned to change in 0.8.0 to '\n"
     ]
    }
   ],
   "source": [
    "import torch\n",
    "import torchaudio\n",
    "import matplotlib.pyplot as plt\n",
    "import pandas as pd\n",
    "import numpy as np\n",
    "from tqdm.notebook import tqdm\n",
    "import glob\n",
    "import librosa\n",
    "import librosa.display\n",
    "from sklearn.linear_model import LogisticRegression\n",
    "from scipy.interpolate import interp1d\n",
    "from sklearn.model_selection import train_test_split\n",
    "import glob\n",
    "import soundfile as sf\n",
    "import pickle\n",
    "import sys"
   ]
  },
  {
   "cell_type": "code",
   "execution_count": 3,
   "metadata": {},
   "outputs": [
    {
     "name": "stderr",
     "output_type": "stream",
     "text": [
      "c:\\users\\bhavi\\appdata\\local\\programs\\python\\python37\\lib\\site-packages\\tqdm\\std.py:699: FutureWarning: The Panel class is removed from pandas. Accessing it from the top-level namespace will also be removed in the next version\n",
      "  from pandas import Panel\n"
     ]
    }
   ],
   "source": [
    "tqdm.pandas(desc=\"!\")\n",
    "np.set_printoptions(threshold=sys.maxsize)"
   ]
  },
  {
   "cell_type": "code",
   "execution_count": 39,
   "metadata": {},
   "outputs": [],
   "source": [
    "train_classified = pd.read_pickle(\"train_classified\")\n",
    "train_classified[\"length\"] = 0"
   ]
  },
  {
   "cell_type": "code",
   "execution_count": 40,
   "metadata": {},
   "outputs": [
    {
     "data": {
      "text/html": [
       "<div>\n",
       "<style scoped>\n",
       "    .dataframe tbody tr th:only-of-type {\n",
       "        vertical-align: middle;\n",
       "    }\n",
       "\n",
       "    .dataframe tbody tr th {\n",
       "        vertical-align: top;\n",
       "    }\n",
       "\n",
       "    .dataframe thead th {\n",
       "        text-align: right;\n",
       "    }\n",
       "</style>\n",
       "<table border=\"1\" class=\"dataframe\">\n",
       "  <thead>\n",
       "    <tr style=\"text-align: right;\">\n",
       "      <th></th>\n",
       "      <th>sample_rate</th>\n",
       "      <th>species_id</th>\n",
       "      <th>waveform</th>\n",
       "      <th>length</th>\n",
       "    </tr>\n",
       "  </thead>\n",
       "  <tbody>\n",
       "    <tr>\n",
       "      <th>0</th>\n",
       "      <td>48000.0</td>\n",
       "      <td>14.0</td>\n",
       "      <td>[0.001678466796875, 0.0067138671875, -0.002929...</td>\n",
       "      <td>0</td>\n",
       "    </tr>\n",
       "    <tr>\n",
       "      <th>1</th>\n",
       "      <td>48000.0</td>\n",
       "      <td>23.0</td>\n",
       "      <td>[0.021209716796875, 0.018310546875, 0.01879882...</td>\n",
       "      <td>0</td>\n",
       "    </tr>\n",
       "    <tr>\n",
       "      <th>2</th>\n",
       "      <td>48000.0</td>\n",
       "      <td>12.0</td>\n",
       "      <td>[-0.011444091796875, -0.000396728515625, 0.015...</td>\n",
       "      <td>0</td>\n",
       "    </tr>\n",
       "    <tr>\n",
       "      <th>3</th>\n",
       "      <td>48000.0</td>\n",
       "      <td>17.0</td>\n",
       "      <td>[0.0008544921875, 0.001953125, 0.0043334960937...</td>\n",
       "      <td>0</td>\n",
       "    </tr>\n",
       "    <tr>\n",
       "      <th>4</th>\n",
       "      <td>48000.0</td>\n",
       "      <td>10.0</td>\n",
       "      <td>[0.0009765625, 0.002899169921875, 0.0007934570...</td>\n",
       "      <td>0</td>\n",
       "    </tr>\n",
       "    <tr>\n",
       "      <th>...</th>\n",
       "      <td>...</td>\n",
       "      <td>...</td>\n",
       "      <td>...</td>\n",
       "      <td>...</td>\n",
       "    </tr>\n",
       "    <tr>\n",
       "      <th>1211</th>\n",
       "      <td>48000.0</td>\n",
       "      <td>13.0</td>\n",
       "      <td>[0.015350341796875, 0.032379150390625, 0.02734...</td>\n",
       "      <td>0</td>\n",
       "    </tr>\n",
       "    <tr>\n",
       "      <th>1212</th>\n",
       "      <td>48000.0</td>\n",
       "      <td>4.0</td>\n",
       "      <td>[-0.03717041015625, -0.024932861328125, -0.008...</td>\n",
       "      <td>0</td>\n",
       "    </tr>\n",
       "    <tr>\n",
       "      <th>1213</th>\n",
       "      <td>48000.0</td>\n",
       "      <td>0.0</td>\n",
       "      <td>[0.019012451171875, 0.015106201171875, 0.00924...</td>\n",
       "      <td>0</td>\n",
       "    </tr>\n",
       "    <tr>\n",
       "      <th>1214</th>\n",
       "      <td>48000.0</td>\n",
       "      <td>5.0</td>\n",
       "      <td>[-0.014678955078125, -0.009765625, -0.01284790...</td>\n",
       "      <td>0</td>\n",
       "    </tr>\n",
       "    <tr>\n",
       "      <th>1215</th>\n",
       "      <td>48000.0</td>\n",
       "      <td>18.0</td>\n",
       "      <td>[0.005279541015625, 0.0018310546875, 0.0023498...</td>\n",
       "      <td>0</td>\n",
       "    </tr>\n",
       "  </tbody>\n",
       "</table>\n",
       "<p>1216 rows × 4 columns</p>\n",
       "</div>"
      ],
      "text/plain": [
       "      sample_rate  species_id  \\\n",
       "0         48000.0        14.0   \n",
       "1         48000.0        23.0   \n",
       "2         48000.0        12.0   \n",
       "3         48000.0        17.0   \n",
       "4         48000.0        10.0   \n",
       "...           ...         ...   \n",
       "1211      48000.0        13.0   \n",
       "1212      48000.0         4.0   \n",
       "1213      48000.0         0.0   \n",
       "1214      48000.0         5.0   \n",
       "1215      48000.0        18.0   \n",
       "\n",
       "                                               waveform  length  \n",
       "0     [0.001678466796875, 0.0067138671875, -0.002929...       0  \n",
       "1     [0.021209716796875, 0.018310546875, 0.01879882...       0  \n",
       "2     [-0.011444091796875, -0.000396728515625, 0.015...       0  \n",
       "3     [0.0008544921875, 0.001953125, 0.0043334960937...       0  \n",
       "4     [0.0009765625, 0.002899169921875, 0.0007934570...       0  \n",
       "...                                                 ...     ...  \n",
       "1211  [0.015350341796875, 0.032379150390625, 0.02734...       0  \n",
       "1212  [-0.03717041015625, -0.024932861328125, -0.008...       0  \n",
       "1213  [0.019012451171875, 0.015106201171875, 0.00924...       0  \n",
       "1214  [-0.014678955078125, -0.009765625, -0.01284790...       0  \n",
       "1215  [0.005279541015625, 0.0018310546875, 0.0023498...       0  \n",
       "\n",
       "[1216 rows x 4 columns]"
      ]
     },
     "execution_count": 40,
     "metadata": {},
     "output_type": "execute_result"
    }
   ],
   "source": [
    "train_classified"
   ]
  },
  {
   "cell_type": "code",
   "execution_count": 41,
   "metadata": {},
   "outputs": [],
   "source": [
    "\n",
    "for i in range(len(train_classified)):\n",
    "    train_classified.iloc[i, train_classified.columns.get_loc(\"length\")] = len(train_classified.iloc[i][\"waveform\"])"
   ]
  },
  {
   "cell_type": "code",
   "execution_count": 42,
   "metadata": {},
   "outputs": [
    {
     "data": {
      "text/plain": [
       "array(['14', '23', '12', '17', '10', '8', '0', '18', '15', '1', '6', '7',\n",
       "       '11', '13', '16', '19', '3', '2', '4', '22', '9', '21', '20', '5'],\n",
       "      dtype='<U11')"
      ]
     },
     "execution_count": 42,
     "metadata": {},
     "output_type": "execute_result"
    }
   ],
   "source": [
    "train_classified.species_id.unique().astype(int).astype(str)"
   ]
  },
  {
   "cell_type": "code",
   "execution_count": 43,
   "metadata": {},
   "outputs": [
    {
     "data": {
      "text/html": [
       "<div>\n",
       "<style scoped>\n",
       "    .dataframe tbody tr th:only-of-type {\n",
       "        vertical-align: middle;\n",
       "    }\n",
       "\n",
       "    .dataframe tbody tr th {\n",
       "        vertical-align: top;\n",
       "    }\n",
       "\n",
       "    .dataframe thead th {\n",
       "        text-align: right;\n",
       "    }\n",
       "</style>\n",
       "<table border=\"1\" class=\"dataframe\">\n",
       "  <thead>\n",
       "    <tr style=\"text-align: right;\">\n",
       "      <th></th>\n",
       "      <th>sample_rate</th>\n",
       "      <th>species_id</th>\n",
       "      <th>waveform</th>\n",
       "      <th>length</th>\n",
       "    </tr>\n",
       "  </thead>\n",
       "  <tbody>\n",
       "    <tr>\n",
       "      <th>0</th>\n",
       "      <td>48000.0</td>\n",
       "      <td>14.0</td>\n",
       "      <td>[0.001678466796875, 0.0067138671875, -0.002929...</td>\n",
       "      <td>28161</td>\n",
       "    </tr>\n",
       "    <tr>\n",
       "      <th>1</th>\n",
       "      <td>48000.0</td>\n",
       "      <td>23.0</td>\n",
       "      <td>[0.021209716796875, 0.018310546875, 0.01879882...</td>\n",
       "      <td>292017</td>\n",
       "    </tr>\n",
       "    <tr>\n",
       "      <th>2</th>\n",
       "      <td>48000.0</td>\n",
       "      <td>12.0</td>\n",
       "      <td>[-0.011444091796875, -0.000396728515625, 0.015...</td>\n",
       "      <td>150529</td>\n",
       "    </tr>\n",
       "    <tr>\n",
       "      <th>3</th>\n",
       "      <td>48000.0</td>\n",
       "      <td>17.0</td>\n",
       "      <td>[0.0008544921875, 0.001953125, 0.0043334960937...</td>\n",
       "      <td>181392</td>\n",
       "    </tr>\n",
       "    <tr>\n",
       "      <th>4</th>\n",
       "      <td>48000.0</td>\n",
       "      <td>10.0</td>\n",
       "      <td>[0.0009765625, 0.002899169921875, 0.0007934570...</td>\n",
       "      <td>117307</td>\n",
       "    </tr>\n",
       "  </tbody>\n",
       "</table>\n",
       "</div>"
      ],
      "text/plain": [
       "   sample_rate  species_id                                           waveform  \\\n",
       "0      48000.0        14.0  [0.001678466796875, 0.0067138671875, -0.002929...   \n",
       "1      48000.0        23.0  [0.021209716796875, 0.018310546875, 0.01879882...   \n",
       "2      48000.0        12.0  [-0.011444091796875, -0.000396728515625, 0.015...   \n",
       "3      48000.0        17.0  [0.0008544921875, 0.001953125, 0.0043334960937...   \n",
       "4      48000.0        10.0  [0.0009765625, 0.002899169921875, 0.0007934570...   \n",
       "\n",
       "   length  \n",
       "0   28161  \n",
       "1  292017  \n",
       "2  150529  \n",
       "3  181392  \n",
       "4  117307  "
      ]
     },
     "execution_count": 43,
     "metadata": {},
     "output_type": "execute_result"
    }
   ],
   "source": [
    "\n",
    "len(train_classified.iloc[2]['waveform'])\n",
    "train_classified.head()"
   ]
  },
  {
   "cell_type": "code",
   "execution_count": 44,
   "metadata": {},
   "outputs": [
    {
     "data": {
      "text/plain": [
       "121781.69243421052"
      ]
     },
     "execution_count": 44,
     "metadata": {},
     "output_type": "execute_result"
    }
   ],
   "source": [
    "train_classified['length'].mean()"
   ]
  },
  {
   "cell_type": "code",
   "execution_count": 13,
   "metadata": {},
   "outputs": [],
   "source": [
    "# cut off at 44.1k sample rate /. 2. \n",
    "# mapping from time domain into frequency domain\n",
    "# https://www.nti-audio.com/en/support/know-how/fast-fourier-transform-fft\n",
    "\n",
    "# y = f(x)\n",
    "\n",
    "def extract_features( row ):\n",
    "    samplerate = 48000\n",
    "    data = row['waveform']\n",
    "    varfft = np.abs( np.fft.fft(a=data)[:(len(data)//2)] )\n",
    "    x = np.linspace(0, len(varfft), num=len(varfft), endpoint=True)\n",
    "    f1 = interp1d(x, varfft, kind='cubic')\n",
    "    x = np.linspace(0, len(varfft), num=1000, endpoint=True)\n",
    "    varfft = f1(x)\n",
    "    \n",
    "    return varfft"
   ]
  },
  {
   "cell_type": "code",
   "execution_count": 46,
   "metadata": {},
   "outputs": [
    {
     "data": {
      "application/vnd.jupyter.widget-view+json": {
       "model_id": "0963b58911b54ddc92eb09b416dbb14b",
       "version_major": 2,
       "version_minor": 0
      },
      "text/plain": [
       "HBox(children=(HTML(value='!'), FloatProgress(value=0.0, max=1216.0), HTML(value='')))"
      ]
     },
     "metadata": {},
     "output_type": "display_data"
    },
    {
     "name": "stdout",
     "output_type": "stream",
     "text": [
      "\n"
     ]
    }
   ],
   "source": [
    "train_classified['fft_1d'] = train_classified.progress_apply(extract_features, axis=1)"
   ]
  },
  {
   "cell_type": "code",
   "execution_count": 15,
   "metadata": {},
   "outputs": [],
   "source": [
    "TRAIN = []\n",
    "TARGET = []\n",
    "for i in range(len(train_classified)):\n",
    "    entry = train_classified[\"fft_1d\"].iloc[i]\n",
    "    t = train_classified[\"species_id\"].iloc[i]\n",
    "    TRAIN.append(entry)\n",
    "    TARGET.append(t)"
   ]
  },
  {
   "cell_type": "code",
   "execution_count": 11,
   "metadata": {},
   "outputs": [],
   "source": [
    "# Basic Log Reg\n",
    "X = train_classified.loc[:, train_classified.columns == \"fft_1d\"]\n",
    "y = train_classified.loc[:, train_classified.columns == \"species_id\"]"
   ]
  },
  {
   "cell_type": "code",
   "execution_count": 12,
   "metadata": {},
   "outputs": [],
   "source": [
    "\n",
    "X_train, X_test, y_train, y_test = train_test_split(TRAIN, TARGET)\n"
   ]
  },
  {
   "cell_type": "code",
   "execution_count": 13,
   "metadata": {},
   "outputs": [
    {
     "data": {
      "text/plain": [
       "LogisticRegression(max_iter=5000)"
      ]
     },
     "execution_count": 13,
     "metadata": {},
     "output_type": "execute_result"
    }
   ],
   "source": [
    "logreg = LogisticRegression( max_iter=5000 )\n",
    "logreg.fit(TRAIN, TARGET)"
   ]
  },
  {
   "cell_type": "code",
   "execution_count": 43,
   "metadata": {},
   "outputs": [
    {
     "data": {
      "text/plain": [
       "1.0"
      ]
     },
     "execution_count": 43,
     "metadata": {},
     "output_type": "execute_result"
    }
   ],
   "source": [
    "logreg.score(X_test, y_test)"
   ]
  },
  {
   "cell_type": "code",
   "execution_count": 41,
   "metadata": {},
   "outputs": [],
   "source": [
    "logreg_pickle = open(\"logreg.pkl\", 'wb')\n",
    "pickle.dump(logreg, logreg_pickle)\n",
    "# Close the pickle instances\n",
    "logreg_pickle.close()"
   ]
  },
  {
   "cell_type": "code",
   "execution_count": 26,
   "metadata": {},
   "outputs": [],
   "source": [
    "logreg_pickle = open(\"logreg.pkl\", 'rb')\n",
    "logreg = pickle.load(logreg_pickle)"
   ]
  },
  {
   "cell_type": "code",
   "execution_count": 3,
   "metadata": {},
   "outputs": [],
   "source": [
    "testfiles = glob.glob( 'data/test/*.flac' )"
   ]
  },
  {
   "cell_type": "code",
   "execution_count": 8,
   "metadata": {},
   "outputs": [
    {
     "data": {
      "text/plain": [
       "'data/test\\\\000316da7.flac'"
      ]
     },
     "execution_count": 8,
     "metadata": {},
     "output_type": "execute_result"
    }
   ],
   "source": [
    "testfiles[0]"
   ]
  },
  {
   "cell_type": "code",
   "execution_count": 17,
   "metadata": {},
   "outputs": [
    {
     "data": {
      "text/plain": [
       "'003bc2cb2'"
      ]
     },
     "execution_count": 17,
     "metadata": {},
     "output_type": "execute_result"
    }
   ],
   "source": [
    "testfiles[1][10:19]"
   ]
  },
  {
   "cell_type": "code",
   "execution_count": 49,
   "metadata": {
    "scrolled": true
   },
   "outputs": [
    {
     "name": "stderr",
     "output_type": "stream",
     "text": [
      "c:\\users\\bhavi\\appdata\\local\\programs\\python\\python37\\lib\\site-packages\\pandas\\core\\generic.py:2449: PerformanceWarning: \n",
      "your performance may suffer as PyTables will pickle object types that it cannot\n",
      "map directly to c-types [inferred_type->mixed,key->block2_values] [items->Index(['waveform', 'fft_1d'], dtype='object')]\n",
      "\n",
      "  encoding=encoding,\n"
     ]
    }
   ],
   "source": [
    "train_classified.to_hdf(r'train_classified_logreg.h5', key='stage', mode='w')"
   ]
  },
  {
   "cell_type": "code",
   "execution_count": 6,
   "metadata": {
    "scrolled": true
   },
   "outputs": [],
   "source": [
    "train_classified = pd.read_hdf(\"train_classified_logreg.h5\", key='stage')"
   ]
  },
  {
   "cell_type": "code",
   "execution_count": 7,
   "metadata": {},
   "outputs": [
    {
     "data": {
      "text/html": [
       "<div>\n",
       "<style scoped>\n",
       "    .dataframe tbody tr th:only-of-type {\n",
       "        vertical-align: middle;\n",
       "    }\n",
       "\n",
       "    .dataframe tbody tr th {\n",
       "        vertical-align: top;\n",
       "    }\n",
       "\n",
       "    .dataframe thead th {\n",
       "        text-align: right;\n",
       "    }\n",
       "</style>\n",
       "<table border=\"1\" class=\"dataframe\">\n",
       "  <thead>\n",
       "    <tr style=\"text-align: right;\">\n",
       "      <th></th>\n",
       "      <th>sample_rate</th>\n",
       "      <th>species_id</th>\n",
       "      <th>waveform</th>\n",
       "      <th>length</th>\n",
       "      <th>fft_1d</th>\n",
       "    </tr>\n",
       "  </thead>\n",
       "  <tbody>\n",
       "    <tr>\n",
       "      <th>0</th>\n",
       "      <td>48000.0</td>\n",
       "      <td>14.0</td>\n",
       "      <td>[0.001678466796875, 0.0067138671875, -0.002929...</td>\n",
       "      <td>28161</td>\n",
       "      <td>[1.55487060546875, 2.152843965490996, 1.108953...</td>\n",
       "    </tr>\n",
       "    <tr>\n",
       "      <th>1</th>\n",
       "      <td>48000.0</td>\n",
       "      <td>23.0</td>\n",
       "      <td>[0.021209716796875, 0.018310546875, 0.01879882...</td>\n",
       "      <td>292017</td>\n",
       "      <td>[3.5285034179687558, 65.4764965268222, 39.9461...</td>\n",
       "    </tr>\n",
       "    <tr>\n",
       "      <th>2</th>\n",
       "      <td>48000.0</td>\n",
       "      <td>12.0</td>\n",
       "      <td>[-0.011444091796875, -0.000396728515625, 0.015...</td>\n",
       "      <td>150529</td>\n",
       "      <td>[3.7118530273437456, 21.142677414976653, 37.19...</td>\n",
       "    </tr>\n",
       "    <tr>\n",
       "      <th>3</th>\n",
       "      <td>48000.0</td>\n",
       "      <td>17.0</td>\n",
       "      <td>[0.0008544921875, 0.001953125, 0.0043334960937...</td>\n",
       "      <td>181392</td>\n",
       "      <td>[0.3219299316406248, 4.884913960046954, 9.0780...</td>\n",
       "    </tr>\n",
       "    <tr>\n",
       "      <th>4</th>\n",
       "      <td>48000.0</td>\n",
       "      <td>10.0</td>\n",
       "      <td>[0.0009765625, 0.002899169921875, 0.0007934570...</td>\n",
       "      <td>117307</td>\n",
       "      <td>[0.9687805175781222, 9.730580973532323, 8.2289...</td>\n",
       "    </tr>\n",
       "    <tr>\n",
       "      <th>...</th>\n",
       "      <td>...</td>\n",
       "      <td>...</td>\n",
       "      <td>...</td>\n",
       "      <td>...</td>\n",
       "      <td>...</td>\n",
       "    </tr>\n",
       "    <tr>\n",
       "      <th>1211</th>\n",
       "      <td>48000.0</td>\n",
       "      <td>13.0</td>\n",
       "      <td>[0.015350341796875, 0.032379150390625, 0.02734...</td>\n",
       "      <td>29952</td>\n",
       "      <td>[0.5283203125, 1.256245900253151, 1.4916762053...</td>\n",
       "    </tr>\n",
       "    <tr>\n",
       "      <th>1212</th>\n",
       "      <td>48000.0</td>\n",
       "      <td>4.0</td>\n",
       "      <td>[-0.03717041015625, -0.024932861328125, -0.008...</td>\n",
       "      <td>104957</td>\n",
       "      <td>[4.819915771484377, 3.0524111841585384, 2.7690...</td>\n",
       "    </tr>\n",
       "    <tr>\n",
       "      <th>1213</th>\n",
       "      <td>48000.0</td>\n",
       "      <td>0.0</td>\n",
       "      <td>[0.019012451171875, 0.015106201171875, 0.00924...</td>\n",
       "      <td>38141</td>\n",
       "      <td>[2.2714538574218763, 2.480650746062264, 5.2153...</td>\n",
       "    </tr>\n",
       "    <tr>\n",
       "      <th>1214</th>\n",
       "      <td>48000.0</td>\n",
       "      <td>5.0</td>\n",
       "      <td>[-0.014678955078125, -0.009765625, -0.01284790...</td>\n",
       "      <td>112896</td>\n",
       "      <td>[0.880950927734375, 38.33358261644435, 16.2084...</td>\n",
       "    </tr>\n",
       "    <tr>\n",
       "      <th>1215</th>\n",
       "      <td>48000.0</td>\n",
       "      <td>18.0</td>\n",
       "      <td>[0.005279541015625, 0.0018310546875, 0.0023498...</td>\n",
       "      <td>33278</td>\n",
       "      <td>[4.404235839843748, 6.193924229560324, 0.88251...</td>\n",
       "    </tr>\n",
       "  </tbody>\n",
       "</table>\n",
       "<p>1216 rows × 5 columns</p>\n",
       "</div>"
      ],
      "text/plain": [
       "      sample_rate  species_id  \\\n",
       "0         48000.0        14.0   \n",
       "1         48000.0        23.0   \n",
       "2         48000.0        12.0   \n",
       "3         48000.0        17.0   \n",
       "4         48000.0        10.0   \n",
       "...           ...         ...   \n",
       "1211      48000.0        13.0   \n",
       "1212      48000.0         4.0   \n",
       "1213      48000.0         0.0   \n",
       "1214      48000.0         5.0   \n",
       "1215      48000.0        18.0   \n",
       "\n",
       "                                               waveform  length  \\\n",
       "0     [0.001678466796875, 0.0067138671875, -0.002929...   28161   \n",
       "1     [0.021209716796875, 0.018310546875, 0.01879882...  292017   \n",
       "2     [-0.011444091796875, -0.000396728515625, 0.015...  150529   \n",
       "3     [0.0008544921875, 0.001953125, 0.0043334960937...  181392   \n",
       "4     [0.0009765625, 0.002899169921875, 0.0007934570...  117307   \n",
       "...                                                 ...     ...   \n",
       "1211  [0.015350341796875, 0.032379150390625, 0.02734...   29952   \n",
       "1212  [-0.03717041015625, -0.024932861328125, -0.008...  104957   \n",
       "1213  [0.019012451171875, 0.015106201171875, 0.00924...   38141   \n",
       "1214  [-0.014678955078125, -0.009765625, -0.01284790...  112896   \n",
       "1215  [0.005279541015625, 0.0018310546875, 0.0023498...   33278   \n",
       "\n",
       "                                                 fft_1d  \n",
       "0     [1.55487060546875, 2.152843965490996, 1.108953...  \n",
       "1     [3.5285034179687558, 65.4764965268222, 39.9461...  \n",
       "2     [3.7118530273437456, 21.142677414976653, 37.19...  \n",
       "3     [0.3219299316406248, 4.884913960046954, 9.0780...  \n",
       "4     [0.9687805175781222, 9.730580973532323, 8.2289...  \n",
       "...                                                 ...  \n",
       "1211  [0.5283203125, 1.256245900253151, 1.4916762053...  \n",
       "1212  [4.819915771484377, 3.0524111841585384, 2.7690...  \n",
       "1213  [2.2714538574218763, 2.480650746062264, 5.2153...  \n",
       "1214  [0.880950927734375, 38.33358261644435, 16.2084...  \n",
       "1215  [4.404235839843748, 6.193924229560324, 0.88251...  \n",
       "\n",
       "[1216 rows x 5 columns]"
      ]
     },
     "execution_count": 7,
     "metadata": {},
     "output_type": "execute_result"
    }
   ],
   "source": [
    "train_classified"
   ]
  },
  {
   "cell_type": "code",
   "execution_count": 4,
   "metadata": {},
   "outputs": [],
   "source": [
    "test_df = pd.DataFrame()"
   ]
  },
  {
   "cell_type": "code",
   "execution_count": 5,
   "metadata": {},
   "outputs": [
    {
     "data": {
      "application/vnd.jupyter.widget-view+json": {
       "model_id": "4b013f63985f4b45aa324548b7932ea0",
       "version_major": 2,
       "version_minor": 0
      },
      "text/plain": [
       "HBox(children=(HTML(value=''), FloatProgress(value=0.0, max=1992.0), HTML(value='')))"
      ]
     },
     "metadata": {},
     "output_type": "display_data"
    },
    {
     "name": "stdout",
     "output_type": "stream",
     "text": [
      "\n"
     ]
    }
   ],
   "source": [
    "for i in tqdm(range(len(testfiles))):\n",
    "    waveform, sample_rate = sf.read(testfiles[i])\n",
    "    test_df=test_df.append({\"waveform\" : waveform, \"recording_id\" : testfiles[i][10:19]}, ignore_index=True)\n",
    "    "
   ]
  },
  {
   "cell_type": "code",
   "execution_count": 25,
   "metadata": {},
   "outputs": [],
   "source": [
    "test_df['length'] = test_df.apply( lambda row: len(row['waveform']), axis=1)"
   ]
  },
  {
   "cell_type": "code",
   "execution_count": 27,
   "metadata": {},
   "outputs": [],
   "source": [
    "test_df.to_hdf(\"testfiles_df.hd5\", key='stage', mode='w')"
   ]
  },
  {
   "cell_type": "code",
   "execution_count": 23,
   "metadata": {},
   "outputs": [],
   "source": [
    "test_df = pd.read_hdf(\"testfiles_df.hd5\", key='stage')"
   ]
  },
  {
   "cell_type": "code",
   "execution_count": 7,
   "metadata": {},
   "outputs": [
    {
     "data": {
      "text/html": [
       "<div>\n",
       "<style scoped>\n",
       "    .dataframe tbody tr th:only-of-type {\n",
       "        vertical-align: middle;\n",
       "    }\n",
       "\n",
       "    .dataframe tbody tr th {\n",
       "        vertical-align: top;\n",
       "    }\n",
       "\n",
       "    .dataframe thead th {\n",
       "        text-align: right;\n",
       "    }\n",
       "</style>\n",
       "<table border=\"1\" class=\"dataframe\">\n",
       "  <thead>\n",
       "    <tr style=\"text-align: right;\">\n",
       "      <th></th>\n",
       "      <th>recording_id</th>\n",
       "      <th>waveform</th>\n",
       "    </tr>\n",
       "  </thead>\n",
       "  <tbody>\n",
       "    <tr>\n",
       "      <th>0</th>\n",
       "      <td>000316da7</td>\n",
       "      <td>[-0.002532958984375, 0.00115966796875, -0.0045...</td>\n",
       "    </tr>\n",
       "    <tr>\n",
       "      <th>1</th>\n",
       "      <td>003bc2cb2</td>\n",
       "      <td>[0.062347412109375, -0.02972412109375, 0.00027...</td>\n",
       "    </tr>\n",
       "    <tr>\n",
       "      <th>2</th>\n",
       "      <td>0061c037e</td>\n",
       "      <td>[-0.005126953125, -0.004608154296875, -0.00811...</td>\n",
       "    </tr>\n",
       "    <tr>\n",
       "      <th>3</th>\n",
       "      <td>010eb14d3</td>\n",
       "      <td>[-0.02447509765625, 0.011688232421875, 0.03973...</td>\n",
       "    </tr>\n",
       "    <tr>\n",
       "      <th>4</th>\n",
       "      <td>011318064</td>\n",
       "      <td>[0.00128173828125, -0.002227783203125, 0.00207...</td>\n",
       "    </tr>\n",
       "    <tr>\n",
       "      <th>...</th>\n",
       "      <td>...</td>\n",
       "      <td>...</td>\n",
       "    </tr>\n",
       "    <tr>\n",
       "      <th>1987</th>\n",
       "      <td>ff68f3ac3</td>\n",
       "      <td>[0.014617919921875, 0.0115966796875, -0.003601...</td>\n",
       "    </tr>\n",
       "    <tr>\n",
       "      <th>1988</th>\n",
       "      <td>ff973e852</td>\n",
       "      <td>[0.0135498046875, -0.003509521484375, -0.00485...</td>\n",
       "    </tr>\n",
       "    <tr>\n",
       "      <th>1989</th>\n",
       "      <td>ffa5cf6d6</td>\n",
       "      <td>[0.001373291015625, -0.003265380859375, 0.0014...</td>\n",
       "    </tr>\n",
       "    <tr>\n",
       "      <th>1990</th>\n",
       "      <td>ffa88cbb8</td>\n",
       "      <td>[-0.005706787109375, 0.003143310546875, 3.0517...</td>\n",
       "    </tr>\n",
       "    <tr>\n",
       "      <th>1991</th>\n",
       "      <td>ffda5d7b3</td>\n",
       "      <td>[-0.01153564453125, -0.004058837890625, -0.003...</td>\n",
       "    </tr>\n",
       "  </tbody>\n",
       "</table>\n",
       "<p>1992 rows × 2 columns</p>\n",
       "</div>"
      ],
      "text/plain": [
       "     recording_id                                           waveform\n",
       "0       000316da7  [-0.002532958984375, 0.00115966796875, -0.0045...\n",
       "1       003bc2cb2  [0.062347412109375, -0.02972412109375, 0.00027...\n",
       "2       0061c037e  [-0.005126953125, -0.004608154296875, -0.00811...\n",
       "3       010eb14d3  [-0.02447509765625, 0.011688232421875, 0.03973...\n",
       "4       011318064  [0.00128173828125, -0.002227783203125, 0.00207...\n",
       "...           ...                                                ...\n",
       "1987    ff68f3ac3  [0.014617919921875, 0.0115966796875, -0.003601...\n",
       "1988    ff973e852  [0.0135498046875, -0.003509521484375, -0.00485...\n",
       "1989    ffa5cf6d6  [0.001373291015625, -0.003265380859375, 0.0014...\n",
       "1990    ffa88cbb8  [-0.005706787109375, 0.003143310546875, 3.0517...\n",
       "1991    ffda5d7b3  [-0.01153564453125, -0.004058837890625, -0.003...\n",
       "\n",
       "[1992 rows x 2 columns]"
      ]
     },
     "execution_count": 7,
     "metadata": {},
     "output_type": "execute_result"
    }
   ],
   "source": [
    "test_df"
   ]
  },
  {
   "cell_type": "code",
   "execution_count": 8,
   "metadata": {},
   "outputs": [],
   "source": [
    "\n",
    "test_slice_df = pd.DataFrame()"
   ]
  },
  {
   "cell_type": "code",
   "execution_count": 9,
   "metadata": {},
   "outputs": [
    {
     "data": {
      "application/vnd.jupyter.widget-view+json": {
       "model_id": "713bdbfaea284fada14f01dba8ffa008",
       "version_major": 2,
       "version_minor": 0
      },
      "text/plain": [
       "HBox(children=(HTML(value=''), FloatProgress(value=0.0, max=1992.0), HTML(value='')))"
      ]
     },
     "metadata": {},
     "output_type": "display_data"
    },
    {
     "name": "stdout",
     "output_type": "stream",
     "text": [
      "\n"
     ]
    }
   ],
   "source": [
    "# x + 121781\n",
    "# x = [0 -> length- 121781]\n",
    "\n",
    "\n",
    "for i in tqdm(range(len(test_df))):\n",
    "    entry = test_df.iloc[i]\n",
    "    waveform = entry[\"waveform\"]\n",
    "    x = 0\n",
    "    c_length = 0\n",
    "    while len(entry['waveform']) - x - c_length > 0:\n",
    "#         print(\"true\")\n",
    "        c_length = (len(entry['waveform']) - x) if (len(entry['waveform']) - x) < 121781 else 121781\n",
    "        test_slice_df = test_slice_df.append({\"waveform\": waveform[x : x+c_length], \"recording_id\" : entry['recording_id']}, ignore_index=True)\n",
    "        \n",
    "        x = x+ c_length"
   ]
  },
  {
   "cell_type": "code",
   "execution_count": 26,
   "metadata": {},
   "outputs": [],
   "source": [
    "test_slice_df.to_pickle(\"sliced_testfiles.pkl\")"
   ]
  },
  {
   "cell_type": "code",
   "execution_count": 15,
   "metadata": {},
   "outputs": [],
   "source": [
    "def my_reset(*varnames):\n",
    "    \"\"\"\n",
    "    varnames are what you want to keep\n",
    "    \"\"\"\n",
    "    globals_ = globals()\n",
    "    to_save = {v: globals_[v] for v in varnames}\n",
    "    to_save['my_reset'] = my_reset  # lets keep this function by default\n",
    "    del globals_\n",
    "    get_ipython().magic(\"reset\")\n",
    "    globals().update(to_save)"
   ]
  },
  {
   "cell_type": "code",
   "execution_count": 25,
   "metadata": {},
   "outputs": [],
   "source": [
    "my_reset(TEST, ids)"
   ]
  },
  {
   "cell_type": "code",
   "execution_count": 14,
   "metadata": {
    "scrolled": true
   },
   "outputs": [
    {
     "data": {
      "application/vnd.jupyter.widget-view+json": {
       "model_id": "049f5f0521d24f40acb30d4f5ed33dac",
       "version_major": 2,
       "version_minor": 0
      },
      "text/plain": [
       "HBox(children=(HTML(value='!'), FloatProgress(value=0.0, max=45816.0), HTML(value='')))"
      ]
     },
     "metadata": {},
     "output_type": "display_data"
    },
    {
     "name": "stdout",
     "output_type": "stream",
     "text": [
      "\n"
     ]
    }
   ],
   "source": [
    "test_slice_df['fft_1d'] = test_slice_df.progress_apply(extract_features, axis=1)"
   ]
  },
  {
   "cell_type": "code",
   "execution_count": 21,
   "metadata": {},
   "outputs": [
    {
     "ename": "MemoryError",
     "evalue": "",
     "output_type": "error",
     "traceback": [
      "\u001b[1;31m---------------------------------------------------------------------------\u001b[0m",
      "\u001b[1;31mMemoryError\u001b[0m                               Traceback (most recent call last)",
      "\u001b[1;32m<ipython-input-21-70bb4b5b3b3f>\u001b[0m in \u001b[0;36m<module>\u001b[1;34m\u001b[0m\n\u001b[1;32m----> 1\u001b[1;33m \u001b[0mtest_slice_df\u001b[0m\u001b[1;33m.\u001b[0m\u001b[0mto_hdf\u001b[0m\u001b[1;33m(\u001b[0m\u001b[1;34m\"D:/test_slice.hd5\"\u001b[0m\u001b[1;33m,\u001b[0m \u001b[0mkey\u001b[0m\u001b[1;33m=\u001b[0m\u001b[1;34m'stage'\u001b[0m\u001b[1;33m,\u001b[0m \u001b[0mmode\u001b[0m\u001b[1;33m=\u001b[0m\u001b[1;34m'w'\u001b[0m\u001b[1;33m)\u001b[0m\u001b[1;33m\u001b[0m\u001b[1;33m\u001b[0m\u001b[0m\n\u001b[0m",
      "\u001b[1;32mc:\\users\\bhavi\\appdata\\local\\programs\\python\\python37\\lib\\site-packages\\pandas\\core\\generic.py\u001b[0m in \u001b[0;36mto_hdf\u001b[1;34m(self, path_or_buf, key, mode, complevel, complib, append, format, index, min_itemsize, nan_rep, dropna, data_columns, errors, encoding)\u001b[0m\n\u001b[0;32m   2447\u001b[0m             \u001b[0mdata_columns\u001b[0m\u001b[1;33m=\u001b[0m\u001b[0mdata_columns\u001b[0m\u001b[1;33m,\u001b[0m\u001b[1;33m\u001b[0m\u001b[1;33m\u001b[0m\u001b[0m\n\u001b[0;32m   2448\u001b[0m             \u001b[0merrors\u001b[0m\u001b[1;33m=\u001b[0m\u001b[0merrors\u001b[0m\u001b[1;33m,\u001b[0m\u001b[1;33m\u001b[0m\u001b[1;33m\u001b[0m\u001b[0m\n\u001b[1;32m-> 2449\u001b[1;33m             \u001b[0mencoding\u001b[0m\u001b[1;33m=\u001b[0m\u001b[0mencoding\u001b[0m\u001b[1;33m,\u001b[0m\u001b[1;33m\u001b[0m\u001b[1;33m\u001b[0m\u001b[0m\n\u001b[0m\u001b[0;32m   2450\u001b[0m         )\n\u001b[0;32m   2451\u001b[0m \u001b[1;33m\u001b[0m\u001b[0m\n",
      "\u001b[1;32mc:\\users\\bhavi\\appdata\\local\\programs\\python\\python37\\lib\\site-packages\\pandas\\io\\pytables.py\u001b[0m in \u001b[0;36mto_hdf\u001b[1;34m(path_or_buf, key, value, mode, complevel, complib, append, format, index, min_itemsize, nan_rep, dropna, data_columns, errors, encoding)\u001b[0m\n\u001b[0;32m    268\u001b[0m             \u001b[0mpath_or_buf\u001b[0m\u001b[1;33m,\u001b[0m \u001b[0mmode\u001b[0m\u001b[1;33m=\u001b[0m\u001b[0mmode\u001b[0m\u001b[1;33m,\u001b[0m \u001b[0mcomplevel\u001b[0m\u001b[1;33m=\u001b[0m\u001b[0mcomplevel\u001b[0m\u001b[1;33m,\u001b[0m \u001b[0mcomplib\u001b[0m\u001b[1;33m=\u001b[0m\u001b[0mcomplib\u001b[0m\u001b[1;33m\u001b[0m\u001b[1;33m\u001b[0m\u001b[0m\n\u001b[0;32m    269\u001b[0m         ) as store:\n\u001b[1;32m--> 270\u001b[1;33m             \u001b[0mf\u001b[0m\u001b[1;33m(\u001b[0m\u001b[0mstore\u001b[0m\u001b[1;33m)\u001b[0m\u001b[1;33m\u001b[0m\u001b[1;33m\u001b[0m\u001b[0m\n\u001b[0m\u001b[0;32m    271\u001b[0m     \u001b[1;32melse\u001b[0m\u001b[1;33m:\u001b[0m\u001b[1;33m\u001b[0m\u001b[1;33m\u001b[0m\u001b[0m\n\u001b[0;32m    272\u001b[0m         \u001b[0mf\u001b[0m\u001b[1;33m(\u001b[0m\u001b[0mpath_or_buf\u001b[0m\u001b[1;33m)\u001b[0m\u001b[1;33m\u001b[0m\u001b[1;33m\u001b[0m\u001b[0m\n",
      "\u001b[1;32mc:\\users\\bhavi\\appdata\\local\\programs\\python\\python37\\lib\\site-packages\\pandas\\io\\pytables.py\u001b[0m in \u001b[0;36m<lambda>\u001b[1;34m(store)\u001b[0m\n\u001b[0;32m    260\u001b[0m             \u001b[0mdata_columns\u001b[0m\u001b[1;33m=\u001b[0m\u001b[0mdata_columns\u001b[0m\u001b[1;33m,\u001b[0m\u001b[1;33m\u001b[0m\u001b[1;33m\u001b[0m\u001b[0m\n\u001b[0;32m    261\u001b[0m             \u001b[0merrors\u001b[0m\u001b[1;33m=\u001b[0m\u001b[0merrors\u001b[0m\u001b[1;33m,\u001b[0m\u001b[1;33m\u001b[0m\u001b[1;33m\u001b[0m\u001b[0m\n\u001b[1;32m--> 262\u001b[1;33m             \u001b[0mencoding\u001b[0m\u001b[1;33m=\u001b[0m\u001b[0mencoding\u001b[0m\u001b[1;33m,\u001b[0m\u001b[1;33m\u001b[0m\u001b[1;33m\u001b[0m\u001b[0m\n\u001b[0m\u001b[0;32m    263\u001b[0m         )\n\u001b[0;32m    264\u001b[0m \u001b[1;33m\u001b[0m\u001b[0m\n",
      "\u001b[1;32mc:\\users\\bhavi\\appdata\\local\\programs\\python\\python37\\lib\\site-packages\\pandas\\io\\pytables.py\u001b[0m in \u001b[0;36mput\u001b[1;34m(self, key, value, format, index, append, complib, complevel, min_itemsize, nan_rep, data_columns, encoding, errors, track_times)\u001b[0m\n\u001b[0;32m   1127\u001b[0m             \u001b[0mencoding\u001b[0m\u001b[1;33m=\u001b[0m\u001b[0mencoding\u001b[0m\u001b[1;33m,\u001b[0m\u001b[1;33m\u001b[0m\u001b[1;33m\u001b[0m\u001b[0m\n\u001b[0;32m   1128\u001b[0m             \u001b[0merrors\u001b[0m\u001b[1;33m=\u001b[0m\u001b[0merrors\u001b[0m\u001b[1;33m,\u001b[0m\u001b[1;33m\u001b[0m\u001b[1;33m\u001b[0m\u001b[0m\n\u001b[1;32m-> 1129\u001b[1;33m             \u001b[0mtrack_times\u001b[0m\u001b[1;33m=\u001b[0m\u001b[0mtrack_times\u001b[0m\u001b[1;33m,\u001b[0m\u001b[1;33m\u001b[0m\u001b[1;33m\u001b[0m\u001b[0m\n\u001b[0m\u001b[0;32m   1130\u001b[0m         )\n\u001b[0;32m   1131\u001b[0m \u001b[1;33m\u001b[0m\u001b[0m\n",
      "\u001b[1;32mc:\\users\\bhavi\\appdata\\local\\programs\\python\\python37\\lib\\site-packages\\pandas\\io\\pytables.py\u001b[0m in \u001b[0;36m_write_to_group\u001b[1;34m(self, key, value, format, axes, index, append, complib, complevel, fletcher32, min_itemsize, chunksize, expectedrows, dropna, nan_rep, data_columns, encoding, errors, track_times)\u001b[0m\n\u001b[0;32m   1799\u001b[0m             \u001b[0mnan_rep\u001b[0m\u001b[1;33m=\u001b[0m\u001b[0mnan_rep\u001b[0m\u001b[1;33m,\u001b[0m\u001b[1;33m\u001b[0m\u001b[1;33m\u001b[0m\u001b[0m\n\u001b[0;32m   1800\u001b[0m             \u001b[0mdata_columns\u001b[0m\u001b[1;33m=\u001b[0m\u001b[0mdata_columns\u001b[0m\u001b[1;33m,\u001b[0m\u001b[1;33m\u001b[0m\u001b[1;33m\u001b[0m\u001b[0m\n\u001b[1;32m-> 1801\u001b[1;33m             \u001b[0mtrack_times\u001b[0m\u001b[1;33m=\u001b[0m\u001b[0mtrack_times\u001b[0m\u001b[1;33m,\u001b[0m\u001b[1;33m\u001b[0m\u001b[1;33m\u001b[0m\u001b[0m\n\u001b[0m\u001b[0;32m   1802\u001b[0m         )\n\u001b[0;32m   1803\u001b[0m \u001b[1;33m\u001b[0m\u001b[0m\n",
      "\u001b[1;32mc:\\users\\bhavi\\appdata\\local\\programs\\python\\python37\\lib\\site-packages\\pandas\\io\\pytables.py\u001b[0m in \u001b[0;36mwrite\u001b[1;34m(self, obj, **kwargs)\u001b[0m\n\u001b[0;32m   3189\u001b[0m             \u001b[1;31m# I have no idea why, but writing values before items fixed #2299\u001b[0m\u001b[1;33m\u001b[0m\u001b[1;33m\u001b[0m\u001b[1;33m\u001b[0m\u001b[0m\n\u001b[0;32m   3190\u001b[0m             \u001b[0mblk_items\u001b[0m \u001b[1;33m=\u001b[0m \u001b[0mdata\u001b[0m\u001b[1;33m.\u001b[0m\u001b[0mitems\u001b[0m\u001b[1;33m.\u001b[0m\u001b[0mtake\u001b[0m\u001b[1;33m(\u001b[0m\u001b[0mblk\u001b[0m\u001b[1;33m.\u001b[0m\u001b[0mmgr_locs\u001b[0m\u001b[1;33m)\u001b[0m\u001b[1;33m\u001b[0m\u001b[1;33m\u001b[0m\u001b[0m\n\u001b[1;32m-> 3191\u001b[1;33m             \u001b[0mself\u001b[0m\u001b[1;33m.\u001b[0m\u001b[0mwrite_array\u001b[0m\u001b[1;33m(\u001b[0m\u001b[1;34mf\"block{i}_values\"\u001b[0m\u001b[1;33m,\u001b[0m \u001b[0mblk\u001b[0m\u001b[1;33m.\u001b[0m\u001b[0mvalues\u001b[0m\u001b[1;33m,\u001b[0m \u001b[0mitems\u001b[0m\u001b[1;33m=\u001b[0m\u001b[0mblk_items\u001b[0m\u001b[1;33m)\u001b[0m\u001b[1;33m\u001b[0m\u001b[1;33m\u001b[0m\u001b[0m\n\u001b[0m\u001b[0;32m   3192\u001b[0m             \u001b[0mself\u001b[0m\u001b[1;33m.\u001b[0m\u001b[0mwrite_index\u001b[0m\u001b[1;33m(\u001b[0m\u001b[1;34mf\"block{i}_items\"\u001b[0m\u001b[1;33m,\u001b[0m \u001b[0mblk_items\u001b[0m\u001b[1;33m)\u001b[0m\u001b[1;33m\u001b[0m\u001b[1;33m\u001b[0m\u001b[0m\n\u001b[0;32m   3193\u001b[0m \u001b[1;33m\u001b[0m\u001b[0m\n",
      "\u001b[1;32mc:\\users\\bhavi\\appdata\\local\\programs\\python\\python37\\lib\\site-packages\\pandas\\io\\pytables.py\u001b[0m in \u001b[0;36mwrite_array\u001b[1;34m(self, key, value, items)\u001b[0m\n\u001b[0;32m   3047\u001b[0m \u001b[1;33m\u001b[0m\u001b[0m\n\u001b[0;32m   3048\u001b[0m             \u001b[0mvlarr\u001b[0m \u001b[1;33m=\u001b[0m \u001b[0mself\u001b[0m\u001b[1;33m.\u001b[0m\u001b[0m_handle\u001b[0m\u001b[1;33m.\u001b[0m\u001b[0mcreate_vlarray\u001b[0m\u001b[1;33m(\u001b[0m\u001b[0mself\u001b[0m\u001b[1;33m.\u001b[0m\u001b[0mgroup\u001b[0m\u001b[1;33m,\u001b[0m \u001b[0mkey\u001b[0m\u001b[1;33m,\u001b[0m \u001b[0m_tables\u001b[0m\u001b[1;33m(\u001b[0m\u001b[1;33m)\u001b[0m\u001b[1;33m.\u001b[0m\u001b[0mObjectAtom\u001b[0m\u001b[1;33m(\u001b[0m\u001b[1;33m)\u001b[0m\u001b[1;33m)\u001b[0m\u001b[1;33m\u001b[0m\u001b[1;33m\u001b[0m\u001b[0m\n\u001b[1;32m-> 3049\u001b[1;33m             \u001b[0mvlarr\u001b[0m\u001b[1;33m.\u001b[0m\u001b[0mappend\u001b[0m\u001b[1;33m(\u001b[0m\u001b[0mvalue\u001b[0m\u001b[1;33m)\u001b[0m\u001b[1;33m\u001b[0m\u001b[1;33m\u001b[0m\u001b[0m\n\u001b[0m\u001b[0;32m   3050\u001b[0m \u001b[1;33m\u001b[0m\u001b[0m\n\u001b[0;32m   3051\u001b[0m         \u001b[1;32melif\u001b[0m \u001b[0mempty_array\u001b[0m\u001b[1;33m:\u001b[0m\u001b[1;33m\u001b[0m\u001b[1;33m\u001b[0m\u001b[0m\n",
      "\u001b[1;32mc:\\users\\bhavi\\appdata\\local\\programs\\python\\python37\\lib\\site-packages\\tables\\vlarray.py\u001b[0m in \u001b[0;36mappend\u001b[1;34m(self, sequence)\u001b[0m\n\u001b[0;32m    523\u001b[0m         \u001b[0matom\u001b[0m \u001b[1;33m=\u001b[0m \u001b[0mself\u001b[0m\u001b[1;33m.\u001b[0m\u001b[0matom\u001b[0m\u001b[1;33m\u001b[0m\u001b[1;33m\u001b[0m\u001b[0m\n\u001b[0;32m    524\u001b[0m         \u001b[1;32mif\u001b[0m \u001b[1;32mnot\u001b[0m \u001b[0mhasattr\u001b[0m\u001b[1;33m(\u001b[0m\u001b[0matom\u001b[0m\u001b[1;33m,\u001b[0m \u001b[1;34m'size'\u001b[0m\u001b[1;33m)\u001b[0m\u001b[1;33m:\u001b[0m  \u001b[1;31m# it is a pseudo-atom\u001b[0m\u001b[1;33m\u001b[0m\u001b[1;33m\u001b[0m\u001b[0m\n\u001b[1;32m--> 525\u001b[1;33m             \u001b[0msequence\u001b[0m \u001b[1;33m=\u001b[0m \u001b[0matom\u001b[0m\u001b[1;33m.\u001b[0m\u001b[0mtoarray\u001b[0m\u001b[1;33m(\u001b[0m\u001b[0msequence\u001b[0m\u001b[1;33m)\u001b[0m\u001b[1;33m\u001b[0m\u001b[1;33m\u001b[0m\u001b[0m\n\u001b[0m\u001b[0;32m    526\u001b[0m             \u001b[0mstatom\u001b[0m \u001b[1;33m=\u001b[0m \u001b[0matom\u001b[0m\u001b[1;33m.\u001b[0m\u001b[0mbase\u001b[0m\u001b[1;33m\u001b[0m\u001b[1;33m\u001b[0m\u001b[0m\n\u001b[0;32m    527\u001b[0m         \u001b[1;32melse\u001b[0m\u001b[1;33m:\u001b[0m\u001b[1;33m\u001b[0m\u001b[1;33m\u001b[0m\u001b[0m\n",
      "\u001b[1;32mc:\\users\\bhavi\\appdata\\local\\programs\\python\\python37\\lib\\site-packages\\tables\\atom.py\u001b[0m in \u001b[0;36mtoarray\u001b[1;34m(self, object_)\u001b[0m\n\u001b[0;32m   1081\u001b[0m \u001b[1;33m\u001b[0m\u001b[0m\n\u001b[0;32m   1082\u001b[0m     \u001b[1;32mdef\u001b[0m \u001b[0mtoarray\u001b[0m\u001b[1;33m(\u001b[0m\u001b[0mself\u001b[0m\u001b[1;33m,\u001b[0m \u001b[0mobject_\u001b[0m\u001b[1;33m)\u001b[0m\u001b[1;33m:\u001b[0m\u001b[1;33m\u001b[0m\u001b[1;33m\u001b[0m\u001b[0m\n\u001b[1;32m-> 1083\u001b[1;33m         \u001b[0mbuffer_\u001b[0m \u001b[1;33m=\u001b[0m \u001b[0mself\u001b[0m\u001b[1;33m.\u001b[0m\u001b[0m_tobuffer\u001b[0m\u001b[1;33m(\u001b[0m\u001b[0mobject_\u001b[0m\u001b[1;33m)\u001b[0m\u001b[1;33m\u001b[0m\u001b[1;33m\u001b[0m\u001b[0m\n\u001b[0m\u001b[0;32m   1084\u001b[0m         array = numpy.ndarray(buffer=buffer_, dtype=self.base.dtype,\n\u001b[0;32m   1085\u001b[0m                               shape=len(buffer_))\n",
      "\u001b[1;32mc:\\users\\bhavi\\appdata\\local\\programs\\python\\python37\\lib\\site-packages\\tables\\atom.py\u001b[0m in \u001b[0;36m_tobuffer\u001b[1;34m(self, object_)\u001b[0m\n\u001b[0;32m   1214\u001b[0m \u001b[1;33m\u001b[0m\u001b[0m\n\u001b[0;32m   1215\u001b[0m     \u001b[1;32mdef\u001b[0m \u001b[0m_tobuffer\u001b[0m\u001b[1;33m(\u001b[0m\u001b[0mself\u001b[0m\u001b[1;33m,\u001b[0m \u001b[0mobject_\u001b[0m\u001b[1;33m)\u001b[0m\u001b[1;33m:\u001b[0m\u001b[1;33m\u001b[0m\u001b[1;33m\u001b[0m\u001b[0m\n\u001b[1;32m-> 1216\u001b[1;33m         \u001b[1;32mreturn\u001b[0m \u001b[0mpickle\u001b[0m\u001b[1;33m.\u001b[0m\u001b[0mdumps\u001b[0m\u001b[1;33m(\u001b[0m\u001b[0mobject_\u001b[0m\u001b[1;33m,\u001b[0m \u001b[0mpickle\u001b[0m\u001b[1;33m.\u001b[0m\u001b[0mHIGHEST_PROTOCOL\u001b[0m\u001b[1;33m)\u001b[0m\u001b[1;33m\u001b[0m\u001b[1;33m\u001b[0m\u001b[0m\n\u001b[0m\u001b[0;32m   1217\u001b[0m \u001b[1;33m\u001b[0m\u001b[0m\n\u001b[0;32m   1218\u001b[0m     \u001b[1;32mdef\u001b[0m \u001b[0mfromarray\u001b[0m\u001b[1;33m(\u001b[0m\u001b[0mself\u001b[0m\u001b[1;33m,\u001b[0m \u001b[0marray\u001b[0m\u001b[1;33m)\u001b[0m\u001b[1;33m:\u001b[0m\u001b[1;33m\u001b[0m\u001b[1;33m\u001b[0m\u001b[0m\n",
      "\u001b[1;31mMemoryError\u001b[0m: "
     ]
    }
   ],
   "source": [
    "test_slice_df.to_hdf(\"D:/test_slice.hd5\", key='stage', mode='w')"
   ]
  },
  {
   "cell_type": "code",
   "execution_count": 22,
   "metadata": {},
   "outputs": [],
   "source": [
    "TEST = []\n",
    "ids = []\n",
    "for i in range(len(test_slice_df)):\n",
    "    entry = test_slice_df[\"fft_1d\"].iloc[i]\n",
    "    entry2 = test_slice_df[\"recording_id\"].iloc[i]\n",
    "    ids.append(entry2)\n",
    "    TEST.append(entry)\n"
   ]
  },
  {
   "cell_type": "code",
   "execution_count": 23,
   "metadata": {},
   "outputs": [
    {
     "data": {
      "text/plain": [
       "45816"
      ]
     },
     "execution_count": 23,
     "metadata": {},
     "output_type": "execute_result"
    }
   ],
   "source": [
    "len(ids)"
   ]
  },
  {
   "cell_type": "code",
   "execution_count": null,
   "metadata": {},
   "outputs": [],
   "source": []
  },
  {
   "cell_type": "code",
   "execution_count": 27,
   "metadata": {},
   "outputs": [
    {
     "data": {
      "text/html": [
       "<div>\n",
       "<style scoped>\n",
       "    .dataframe tbody tr th:only-of-type {\n",
       "        vertical-align: middle;\n",
       "    }\n",
       "\n",
       "    .dataframe tbody tr th {\n",
       "        vertical-align: top;\n",
       "    }\n",
       "\n",
       "    .dataframe thead th {\n",
       "        text-align: right;\n",
       "    }\n",
       "</style>\n",
       "<table border=\"1\" class=\"dataframe\">\n",
       "  <thead>\n",
       "    <tr style=\"text-align: right;\">\n",
       "      <th></th>\n",
       "      <th>s14</th>\n",
       "      <th>s23</th>\n",
       "      <th>s12</th>\n",
       "      <th>s17</th>\n",
       "      <th>s10</th>\n",
       "      <th>s8</th>\n",
       "      <th>s0</th>\n",
       "      <th>s18</th>\n",
       "      <th>s15</th>\n",
       "      <th>s1</th>\n",
       "      <th>...</th>\n",
       "      <th>s19</th>\n",
       "      <th>s3</th>\n",
       "      <th>s2</th>\n",
       "      <th>s4</th>\n",
       "      <th>s22</th>\n",
       "      <th>s9</th>\n",
       "      <th>s21</th>\n",
       "      <th>s20</th>\n",
       "      <th>s5</th>\n",
       "      <th>recording_id</th>\n",
       "    </tr>\n",
       "  </thead>\n",
       "  <tbody>\n",
       "    <tr>\n",
       "      <th>45811</th>\n",
       "      <td>0.000150</td>\n",
       "      <td>0.002069</td>\n",
       "      <td>0.539520</td>\n",
       "      <td>0.000384</td>\n",
       "      <td>0.003178</td>\n",
       "      <td>0.110665</td>\n",
       "      <td>0.000450</td>\n",
       "      <td>0.030998</td>\n",
       "      <td>0.000948</td>\n",
       "      <td>0.015237</td>\n",
       "      <td>...</td>\n",
       "      <td>0.001841</td>\n",
       "      <td>0.014402</td>\n",
       "      <td>0.003899</td>\n",
       "      <td>0.000086</td>\n",
       "      <td>0.003334</td>\n",
       "      <td>0.001575</td>\n",
       "      <td>0.000124</td>\n",
       "      <td>0.080442</td>\n",
       "      <td>0.001357</td>\n",
       "      <td>ffda5d7b3</td>\n",
       "    </tr>\n",
       "    <tr>\n",
       "      <th>45812</th>\n",
       "      <td>0.000726</td>\n",
       "      <td>0.000512</td>\n",
       "      <td>0.059974</td>\n",
       "      <td>0.000028</td>\n",
       "      <td>0.002408</td>\n",
       "      <td>0.002370</td>\n",
       "      <td>0.002753</td>\n",
       "      <td>0.000426</td>\n",
       "      <td>0.000110</td>\n",
       "      <td>0.002329</td>\n",
       "      <td>...</td>\n",
       "      <td>0.000474</td>\n",
       "      <td>0.006718</td>\n",
       "      <td>0.020542</td>\n",
       "      <td>0.000012</td>\n",
       "      <td>0.017479</td>\n",
       "      <td>0.000247</td>\n",
       "      <td>0.000129</td>\n",
       "      <td>0.486626</td>\n",
       "      <td>0.000067</td>\n",
       "      <td>ffda5d7b3</td>\n",
       "    </tr>\n",
       "    <tr>\n",
       "      <th>45813</th>\n",
       "      <td>0.000113</td>\n",
       "      <td>0.004178</td>\n",
       "      <td>0.021621</td>\n",
       "      <td>0.000015</td>\n",
       "      <td>0.012075</td>\n",
       "      <td>0.005216</td>\n",
       "      <td>0.000778</td>\n",
       "      <td>0.002895</td>\n",
       "      <td>0.000097</td>\n",
       "      <td>0.063635</td>\n",
       "      <td>...</td>\n",
       "      <td>0.047720</td>\n",
       "      <td>0.013224</td>\n",
       "      <td>0.125311</td>\n",
       "      <td>0.000069</td>\n",
       "      <td>0.016064</td>\n",
       "      <td>0.001106</td>\n",
       "      <td>0.000564</td>\n",
       "      <td>0.292765</td>\n",
       "      <td>0.000071</td>\n",
       "      <td>ffda5d7b3</td>\n",
       "    </tr>\n",
       "    <tr>\n",
       "      <th>45814</th>\n",
       "      <td>0.000058</td>\n",
       "      <td>0.001644</td>\n",
       "      <td>0.005724</td>\n",
       "      <td>0.000108</td>\n",
       "      <td>0.004375</td>\n",
       "      <td>0.000801</td>\n",
       "      <td>0.003874</td>\n",
       "      <td>0.008024</td>\n",
       "      <td>0.000079</td>\n",
       "      <td>0.002926</td>\n",
       "      <td>...</td>\n",
       "      <td>0.001363</td>\n",
       "      <td>0.024770</td>\n",
       "      <td>0.022506</td>\n",
       "      <td>0.000047</td>\n",
       "      <td>0.379647</td>\n",
       "      <td>0.007637</td>\n",
       "      <td>0.000113</td>\n",
       "      <td>0.015567</td>\n",
       "      <td>0.000092</td>\n",
       "      <td>ffda5d7b3</td>\n",
       "    </tr>\n",
       "    <tr>\n",
       "      <th>45815</th>\n",
       "      <td>0.000004</td>\n",
       "      <td>0.000043</td>\n",
       "      <td>0.000370</td>\n",
       "      <td>0.000003</td>\n",
       "      <td>0.001326</td>\n",
       "      <td>0.000065</td>\n",
       "      <td>0.000058</td>\n",
       "      <td>0.000189</td>\n",
       "      <td>0.000021</td>\n",
       "      <td>0.001461</td>\n",
       "      <td>...</td>\n",
       "      <td>0.002166</td>\n",
       "      <td>0.046410</td>\n",
       "      <td>0.006107</td>\n",
       "      <td>0.000002</td>\n",
       "      <td>0.001179</td>\n",
       "      <td>0.000151</td>\n",
       "      <td>0.000015</td>\n",
       "      <td>0.000182</td>\n",
       "      <td>0.000008</td>\n",
       "      <td>ffda5d7b3</td>\n",
       "    </tr>\n",
       "  </tbody>\n",
       "</table>\n",
       "<p>5 rows × 25 columns</p>\n",
       "</div>"
      ],
      "text/plain": [
       "            s14       s23       s12       s17       s10        s8        s0  \\\n",
       "45811  0.000150  0.002069  0.539520  0.000384  0.003178  0.110665  0.000450   \n",
       "45812  0.000726  0.000512  0.059974  0.000028  0.002408  0.002370  0.002753   \n",
       "45813  0.000113  0.004178  0.021621  0.000015  0.012075  0.005216  0.000778   \n",
       "45814  0.000058  0.001644  0.005724  0.000108  0.004375  0.000801  0.003874   \n",
       "45815  0.000004  0.000043  0.000370  0.000003  0.001326  0.000065  0.000058   \n",
       "\n",
       "            s18       s15        s1  ...       s19        s3        s2  \\\n",
       "45811  0.030998  0.000948  0.015237  ...  0.001841  0.014402  0.003899   \n",
       "45812  0.000426  0.000110  0.002329  ...  0.000474  0.006718  0.020542   \n",
       "45813  0.002895  0.000097  0.063635  ...  0.047720  0.013224  0.125311   \n",
       "45814  0.008024  0.000079  0.002926  ...  0.001363  0.024770  0.022506   \n",
       "45815  0.000189  0.000021  0.001461  ...  0.002166  0.046410  0.006107   \n",
       "\n",
       "             s4       s22        s9       s21       s20        s5  \\\n",
       "45811  0.000086  0.003334  0.001575  0.000124  0.080442  0.001357   \n",
       "45812  0.000012  0.017479  0.000247  0.000129  0.486626  0.000067   \n",
       "45813  0.000069  0.016064  0.001106  0.000564  0.292765  0.000071   \n",
       "45814  0.000047  0.379647  0.007637  0.000113  0.015567  0.000092   \n",
       "45815  0.000002  0.001179  0.000151  0.000015  0.000182  0.000008   \n",
       "\n",
       "       recording_id  \n",
       "45811     ffda5d7b3  \n",
       "45812     ffda5d7b3  \n",
       "45813     ffda5d7b3  \n",
       "45814     ffda5d7b3  \n",
       "45815     ffda5d7b3  \n",
       "\n",
       "[5 rows x 25 columns]"
      ]
     },
     "execution_count": 27,
     "metadata": {},
     "output_type": "execute_result"
    }
   ],
   "source": [
    "Y_pp = pd.DataFrame(logreg.predict_proba(TEST), \n",
    "             columns=['s14', 's23', 's12', 's17', 's10', 's8', 's0', 's18', 's15', 's1', 's6', 's7',\n",
    "       's11', 's13', 's16', 's19', 's3', 's2', 's4', 's22', 's9', 's21', 's20', 's5'])\n",
    "Y_pp['recording_id'] = ids\n",
    "Y_pp.tail()"
   ]
  },
  {
   "cell_type": "code",
   "execution_count": 28,
   "metadata": {},
   "outputs": [],
   "source": [
    "Y_pp.to_hdf(\"probs.hd5\", key =\"stage\", mode=\"w\")"
   ]
  },
  {
   "cell_type": "code",
   "execution_count": 4,
   "metadata": {},
   "outputs": [],
   "source": [
    "Y_pp = pd.read_hdf(\"probs.hd5\", key=\"stage\")"
   ]
  },
  {
   "cell_type": "code",
   "execution_count": 14,
   "metadata": {},
   "outputs": [],
   "source": [
    "cols = ['recording_id', 's0', 's1', 's2', 's3', 's4', 's5', 's6', 's7', 's8', 's9', 's10', 's11', 's12', 's13', 's14', 's15', 's16', 's17', 's18', 's19', 's20', 's21', 's22', 's23']\n",
    "Y_pp = Y_pp[cols]"
   ]
  },
  {
   "cell_type": "code",
   "execution_count": 15,
   "metadata": {},
   "outputs": [
    {
     "data": {
      "text/html": [
       "<div>\n",
       "<style scoped>\n",
       "    .dataframe tbody tr th:only-of-type {\n",
       "        vertical-align: middle;\n",
       "    }\n",
       "\n",
       "    .dataframe tbody tr th {\n",
       "        vertical-align: top;\n",
       "    }\n",
       "\n",
       "    .dataframe thead th {\n",
       "        text-align: right;\n",
       "    }\n",
       "</style>\n",
       "<table border=\"1\" class=\"dataframe\">\n",
       "  <thead>\n",
       "    <tr style=\"text-align: right;\">\n",
       "      <th></th>\n",
       "      <th>recording_id</th>\n",
       "      <th>s0</th>\n",
       "      <th>s1</th>\n",
       "      <th>s2</th>\n",
       "      <th>s3</th>\n",
       "      <th>s4</th>\n",
       "      <th>s5</th>\n",
       "      <th>s6</th>\n",
       "      <th>s7</th>\n",
       "      <th>s8</th>\n",
       "      <th>...</th>\n",
       "      <th>s14</th>\n",
       "      <th>s15</th>\n",
       "      <th>s16</th>\n",
       "      <th>s17</th>\n",
       "      <th>s18</th>\n",
       "      <th>s19</th>\n",
       "      <th>s20</th>\n",
       "      <th>s21</th>\n",
       "      <th>s22</th>\n",
       "      <th>s23</th>\n",
       "    </tr>\n",
       "  </thead>\n",
       "  <tbody>\n",
       "    <tr>\n",
       "      <th>0</th>\n",
       "      <td>000316da7</td>\n",
       "      <td>0.016123</td>\n",
       "      <td>3.473008e-01</td>\n",
       "      <td>4.010835e-03</td>\n",
       "      <td>2.960197e-05</td>\n",
       "      <td>2.223056e-07</td>\n",
       "      <td>3.227087e-05</td>\n",
       "      <td>2.805597e-03</td>\n",
       "      <td>1.331425e-07</td>\n",
       "      <td>3.994243e-01</td>\n",
       "      <td>...</td>\n",
       "      <td>2.696585e-06</td>\n",
       "      <td>3.733729e-05</td>\n",
       "      <td>2.797166e-05</td>\n",
       "      <td>7.508733e-10</td>\n",
       "      <td>2.640657e-03</td>\n",
       "      <td>3.373990e-03</td>\n",
       "      <td>9.590037e-05</td>\n",
       "      <td>1.988589e-06</td>\n",
       "      <td>4.181526e-04</td>\n",
       "      <td>9.606434e-06</td>\n",
       "    </tr>\n",
       "    <tr>\n",
       "      <th>1</th>\n",
       "      <td>000316da7</td>\n",
       "      <td>0.675009</td>\n",
       "      <td>7.423019e-03</td>\n",
       "      <td>3.575960e-05</td>\n",
       "      <td>1.152142e-08</td>\n",
       "      <td>2.502622e-06</td>\n",
       "      <td>1.762114e-06</td>\n",
       "      <td>2.710477e-07</td>\n",
       "      <td>4.469544e-11</td>\n",
       "      <td>6.145341e-02</td>\n",
       "      <td>...</td>\n",
       "      <td>4.912548e-05</td>\n",
       "      <td>1.869274e-03</td>\n",
       "      <td>7.092017e-03</td>\n",
       "      <td>4.946905e-09</td>\n",
       "      <td>5.904013e-05</td>\n",
       "      <td>1.309623e-02</td>\n",
       "      <td>6.388191e-07</td>\n",
       "      <td>7.321308e-03</td>\n",
       "      <td>1.198872e-09</td>\n",
       "      <td>6.421613e-08</td>\n",
       "    </tr>\n",
       "    <tr>\n",
       "      <th>2</th>\n",
       "      <td>000316da7</td>\n",
       "      <td>0.136891</td>\n",
       "      <td>2.698334e-01</td>\n",
       "      <td>1.545470e-03</td>\n",
       "      <td>8.623361e-04</td>\n",
       "      <td>8.103187e-08</td>\n",
       "      <td>2.363503e-05</td>\n",
       "      <td>1.531625e-03</td>\n",
       "      <td>3.463135e-06</td>\n",
       "      <td>2.593281e-01</td>\n",
       "      <td>...</td>\n",
       "      <td>3.100416e-06</td>\n",
       "      <td>1.752284e-04</td>\n",
       "      <td>8.362794e-04</td>\n",
       "      <td>1.861877e-06</td>\n",
       "      <td>1.300409e-01</td>\n",
       "      <td>3.045747e-02</td>\n",
       "      <td>1.463367e-03</td>\n",
       "      <td>2.353779e-04</td>\n",
       "      <td>6.969422e-04</td>\n",
       "      <td>9.000835e-06</td>\n",
       "    </tr>\n",
       "    <tr>\n",
       "      <th>3</th>\n",
       "      <td>000316da7</td>\n",
       "      <td>0.999751</td>\n",
       "      <td>3.224120e-07</td>\n",
       "      <td>9.102649e-15</td>\n",
       "      <td>7.906672e-15</td>\n",
       "      <td>1.029907e-11</td>\n",
       "      <td>2.371294e-09</td>\n",
       "      <td>4.260425e-14</td>\n",
       "      <td>3.616802e-18</td>\n",
       "      <td>3.839769e-09</td>\n",
       "      <td>...</td>\n",
       "      <td>2.135434e-08</td>\n",
       "      <td>3.644253e-07</td>\n",
       "      <td>2.938194e-05</td>\n",
       "      <td>2.570992e-15</td>\n",
       "      <td>1.552093e-09</td>\n",
       "      <td>4.864768e-09</td>\n",
       "      <td>1.541666e-13</td>\n",
       "      <td>4.402937e-06</td>\n",
       "      <td>3.112845e-16</td>\n",
       "      <td>1.375040e-14</td>\n",
       "    </tr>\n",
       "    <tr>\n",
       "      <th>4</th>\n",
       "      <td>000316da7</td>\n",
       "      <td>0.996567</td>\n",
       "      <td>4.874330e-04</td>\n",
       "      <td>4.469797e-05</td>\n",
       "      <td>6.343393e-09</td>\n",
       "      <td>3.271188e-06</td>\n",
       "      <td>1.780008e-07</td>\n",
       "      <td>5.897163e-08</td>\n",
       "      <td>6.257565e-13</td>\n",
       "      <td>1.439879e-03</td>\n",
       "      <td>...</td>\n",
       "      <td>4.725426e-06</td>\n",
       "      <td>1.456934e-04</td>\n",
       "      <td>2.618015e-07</td>\n",
       "      <td>6.500104e-15</td>\n",
       "      <td>3.319492e-06</td>\n",
       "      <td>1.826172e-07</td>\n",
       "      <td>4.391162e-08</td>\n",
       "      <td>3.923372e-08</td>\n",
       "      <td>1.082072e-05</td>\n",
       "      <td>7.935605e-09</td>\n",
       "    </tr>\n",
       "  </tbody>\n",
       "</table>\n",
       "<p>5 rows × 25 columns</p>\n",
       "</div>"
      ],
      "text/plain": [
       "  recording_id        s0            s1            s2            s3  \\\n",
       "0    000316da7  0.016123  3.473008e-01  4.010835e-03  2.960197e-05   \n",
       "1    000316da7  0.675009  7.423019e-03  3.575960e-05  1.152142e-08   \n",
       "2    000316da7  0.136891  2.698334e-01  1.545470e-03  8.623361e-04   \n",
       "3    000316da7  0.999751  3.224120e-07  9.102649e-15  7.906672e-15   \n",
       "4    000316da7  0.996567  4.874330e-04  4.469797e-05  6.343393e-09   \n",
       "\n",
       "             s4            s5            s6            s7            s8  ...  \\\n",
       "0  2.223056e-07  3.227087e-05  2.805597e-03  1.331425e-07  3.994243e-01  ...   \n",
       "1  2.502622e-06  1.762114e-06  2.710477e-07  4.469544e-11  6.145341e-02  ...   \n",
       "2  8.103187e-08  2.363503e-05  1.531625e-03  3.463135e-06  2.593281e-01  ...   \n",
       "3  1.029907e-11  2.371294e-09  4.260425e-14  3.616802e-18  3.839769e-09  ...   \n",
       "4  3.271188e-06  1.780008e-07  5.897163e-08  6.257565e-13  1.439879e-03  ...   \n",
       "\n",
       "            s14           s15           s16           s17           s18  \\\n",
       "0  2.696585e-06  3.733729e-05  2.797166e-05  7.508733e-10  2.640657e-03   \n",
       "1  4.912548e-05  1.869274e-03  7.092017e-03  4.946905e-09  5.904013e-05   \n",
       "2  3.100416e-06  1.752284e-04  8.362794e-04  1.861877e-06  1.300409e-01   \n",
       "3  2.135434e-08  3.644253e-07  2.938194e-05  2.570992e-15  1.552093e-09   \n",
       "4  4.725426e-06  1.456934e-04  2.618015e-07  6.500104e-15  3.319492e-06   \n",
       "\n",
       "            s19           s20           s21           s22           s23  \n",
       "0  3.373990e-03  9.590037e-05  1.988589e-06  4.181526e-04  9.606434e-06  \n",
       "1  1.309623e-02  6.388191e-07  7.321308e-03  1.198872e-09  6.421613e-08  \n",
       "2  3.045747e-02  1.463367e-03  2.353779e-04  6.969422e-04  9.000835e-06  \n",
       "3  4.864768e-09  1.541666e-13  4.402937e-06  3.112845e-16  1.375040e-14  \n",
       "4  1.826172e-07  4.391162e-08  3.923372e-08  1.082072e-05  7.935605e-09  \n",
       "\n",
       "[5 rows x 25 columns]"
      ]
     },
     "execution_count": 15,
     "metadata": {},
     "output_type": "execute_result"
    }
   ],
   "source": [
    "Y_pp.head()"
   ]
  },
  {
   "cell_type": "code",
   "execution_count": 20,
   "metadata": {},
   "outputs": [],
   "source": [
    "summed = Y_pp.groupby(\"recording_id\").sum() / 23"
   ]
  },
  {
   "cell_type": "code",
   "execution_count": 24,
   "metadata": {},
   "outputs": [],
   "source": [
    "summed.to_csv(\"submission_logreg-1.csv\")"
   ]
  },
  {
   "cell_type": "code",
   "execution_count": 11,
   "metadata": {},
   "outputs": [
    {
     "data": {
      "text/plain": [
       "recording_id\n",
       "000316da7    23\n",
       "003bc2cb2    23\n",
       "0061c037e    23\n",
       "010eb14d3    23\n",
       "011318064    23\n",
       "             ..\n",
       "ff68f3ac3    23\n",
       "ff973e852    23\n",
       "ffa5cf6d6    23\n",
       "ffa88cbb8    23\n",
       "ffda5d7b3    23\n",
       "Length: 1992, dtype: int64"
      ]
     },
     "execution_count": 11,
     "metadata": {},
     "output_type": "execute_result"
    }
   ],
   "source": [
    ".size()"
   ]
  },
  {
   "cell_type": "code",
   "execution_count": 30,
   "metadata": {},
   "outputs": [
    {
     "ename": "TypeError",
     "evalue": "reduction operation 'argmax' not allowed for this dtype",
     "output_type": "error",
     "traceback": [
      "\u001b[1;31m---------------------------------------------------------------------------\u001b[0m",
      "\u001b[1;31mTypeError\u001b[0m                                 Traceback (most recent call last)",
      "\u001b[1;32m<ipython-input-30-ee364f7293b4>\u001b[0m in \u001b[0;36m<module>\u001b[1;34m\u001b[0m\n\u001b[1;32m----> 1\u001b[1;33m \u001b[0msoftmax\u001b[0m \u001b[1;33m=\u001b[0m \u001b[0mY_pp\u001b[0m\u001b[1;33m.\u001b[0m\u001b[0midxmax\u001b[0m\u001b[1;33m(\u001b[0m\u001b[0maxis\u001b[0m\u001b[1;33m=\u001b[0m\u001b[1;36m1\u001b[0m\u001b[1;33m)\u001b[0m\u001b[1;33m\u001b[0m\u001b[1;33m\u001b[0m\u001b[0m\n\u001b[0m",
      "\u001b[1;32mc:\\users\\bhavi\\appdata\\local\\programs\\python\\python37\\lib\\site-packages\\pandas\\core\\frame.py\u001b[0m in \u001b[0;36midxmax\u001b[1;34m(self, axis, skipna)\u001b[0m\n\u001b[0;32m   8870\u001b[0m         \"\"\"\n\u001b[0;32m   8871\u001b[0m         \u001b[0maxis\u001b[0m \u001b[1;33m=\u001b[0m \u001b[0mself\u001b[0m\u001b[1;33m.\u001b[0m\u001b[0m_get_axis_number\u001b[0m\u001b[1;33m(\u001b[0m\u001b[0maxis\u001b[0m\u001b[1;33m)\u001b[0m\u001b[1;33m\u001b[0m\u001b[1;33m\u001b[0m\u001b[0m\n\u001b[1;32m-> 8872\u001b[1;33m         \u001b[0mindices\u001b[0m \u001b[1;33m=\u001b[0m \u001b[0mnanops\u001b[0m\u001b[1;33m.\u001b[0m\u001b[0mnanargmax\u001b[0m\u001b[1;33m(\u001b[0m\u001b[0mself\u001b[0m\u001b[1;33m.\u001b[0m\u001b[0mvalues\u001b[0m\u001b[1;33m,\u001b[0m \u001b[0maxis\u001b[0m\u001b[1;33m=\u001b[0m\u001b[0maxis\u001b[0m\u001b[1;33m,\u001b[0m \u001b[0mskipna\u001b[0m\u001b[1;33m=\u001b[0m\u001b[0mskipna\u001b[0m\u001b[1;33m)\u001b[0m\u001b[1;33m\u001b[0m\u001b[1;33m\u001b[0m\u001b[0m\n\u001b[0m\u001b[0;32m   8873\u001b[0m \u001b[1;33m\u001b[0m\u001b[0m\n\u001b[0;32m   8874\u001b[0m         \u001b[1;31m# indices will always be np.ndarray since axis is not None and\u001b[0m\u001b[1;33m\u001b[0m\u001b[1;33m\u001b[0m\u001b[1;33m\u001b[0m\u001b[0m\n",
      "\u001b[1;32mc:\\users\\bhavi\\appdata\\local\\programs\\python\\python37\\lib\\site-packages\\pandas\\core\\nanops.py\u001b[0m in \u001b[0;36m_f\u001b[1;34m(*args, **kwargs)\u001b[0m\n\u001b[0;32m     65\u001b[0m                 \u001b[0mf_name\u001b[0m \u001b[1;33m=\u001b[0m \u001b[0mf\u001b[0m\u001b[1;33m.\u001b[0m\u001b[0m__name__\u001b[0m\u001b[1;33m.\u001b[0m\u001b[0mreplace\u001b[0m\u001b[1;33m(\u001b[0m\u001b[1;34m\"nan\"\u001b[0m\u001b[1;33m,\u001b[0m \u001b[1;34m\"\"\u001b[0m\u001b[1;33m)\u001b[0m\u001b[1;33m\u001b[0m\u001b[1;33m\u001b[0m\u001b[0m\n\u001b[0;32m     66\u001b[0m                 raise TypeError(\n\u001b[1;32m---> 67\u001b[1;33m                     \u001b[1;34mf\"reduction operation '{f_name}' not allowed for this dtype\"\u001b[0m\u001b[1;33m\u001b[0m\u001b[1;33m\u001b[0m\u001b[0m\n\u001b[0m\u001b[0;32m     68\u001b[0m                 )\n\u001b[0;32m     69\u001b[0m             \u001b[1;32mtry\u001b[0m\u001b[1;33m:\u001b[0m\u001b[1;33m\u001b[0m\u001b[1;33m\u001b[0m\u001b[0m\n",
      "\u001b[1;31mTypeError\u001b[0m: reduction operation 'argmax' not allowed for this dtype"
     ]
    }
   ],
   "source": [
    "softmax = Y_pp.idxmax(axis=1)"
   ]
  },
  {
   "cell_type": "code",
   "execution_count": 32,
   "metadata": {},
   "outputs": [
    {
     "data": {
      "text/plain": [
       "0        s8\n",
       "1        s8\n",
       "2        s8\n",
       "3       s16\n",
       "4        s8\n",
       "       ... \n",
       "7631     s8\n",
       "7632     s8\n",
       "7633     s8\n",
       "7634    s16\n",
       "7635     s8\n",
       "Length: 7636, dtype: object"
      ]
     },
     "execution_count": 32,
     "metadata": {},
     "output_type": "execute_result"
    }
   ],
   "source": [
    "softmax"
   ]
  },
  {
   "cell_type": "code",
   "execution_count": null,
   "metadata": {},
   "outputs": [],
   "source": []
  }
 ],
 "metadata": {
  "kernelspec": {
   "display_name": "Python 3",
   "language": "python",
   "name": "python3"
  },
  "language_info": {
   "codemirror_mode": {
    "name": "ipython",
    "version": 3
   },
   "file_extension": ".py",
   "mimetype": "text/x-python",
   "name": "python",
   "nbconvert_exporter": "python",
   "pygments_lexer": "ipython3",
   "version": "3.7.3"
  }
 },
 "nbformat": 4,
 "nbformat_minor": 4
}
