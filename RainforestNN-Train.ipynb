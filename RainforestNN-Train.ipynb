{
 "cells": [
  {
   "cell_type": "code",
   "execution_count": 1,
   "metadata": {},
   "outputs": [],
   "source": [
    "import warnings\n",
    "warnings.filterwarnings('ignore')\n",
    "\n",
    "import torch\n",
    "import torch.nn as nn\n",
    "import torch.optim as optim\n",
    "import torch.nn.functional as F\n",
    "from torch.utils.data import Dataset, DataLoader\n",
    "import torchaudio\n",
    "import torchaudio.models as models\n",
    "import torchaudio.transforms as transforms\n",
    "import matplotlib.pyplot as plt\n",
    "import pandas as pd\n",
    "import numpy as np\n",
    "from tqdm.notebook import tqdm\n",
    "import glob\n",
    "import librosa\n",
    "import librosa.display\n",
    "import soundfile as sf\n",
    "from scipy.interpolate import interp1d\n",
    "import IPython.display as ipd\n",
    "import ast\n",
    "import time\n",
    "import sys\n",
    "from nnutils import reshape_mel_spec, RainforestNet"
   ]
  },
  {
   "cell_type": "code",
   "execution_count": 2,
   "metadata": {},
   "outputs": [],
   "source": [
    "# Load meta.csv to save metadata for training session\n",
    "try:\n",
    "    meta = pd.read_csv('models/meta.csv')\n",
    "except:\n",
    "    meta = pd.DataFrame()\n"
   ]
  },
  {
   "cell_type": "code",
   "execution_count": 11,
   "metadata": {},
   "outputs": [],
   "source": [
    "# Hyper parameters\n",
    "class Params():\n",
    "    EPOCHS = 10\n",
    "    TRAIN_BATCH_SIZE = 4\n",
    "    N_MELS = 256\n",
    "    MEL_SPEC_MAXLEN = 800\n",
    "    LR = 0.0001\n",
    "    def __to_dict__(self):\n",
    "        return {key:value for key, value in Params.__dict__.items() if not key.startswith('__') and not callable(key)}\n",
    "                      \n",
    "params = Params()"
   ]
  },
  {
   "cell_type": "code",
   "execution_count": 4,
   "metadata": {},
   "outputs": [
    {
     "name": "stdout",
     "output_type": "stream",
     "text": [
      "cuda:  True\n"
     ]
    }
   ],
   "source": [
    "# CUDA\n",
    "is_cuda = True and torch.cuda.is_available()\n",
    "cpu = torch.device('cpu')\n",
    "gpu = torch.device('cuda')\n",
    "device = gpu if is_cuda else cpu\n",
    "\n",
    "print ('cuda: ', is_cuda)\n",
    "\n",
    "torch.cuda.empty_cache()"
   ]
  },
  {
   "cell_type": "code",
   "execution_count": 5,
   "metadata": {},
   "outputs": [],
   "source": [
    "class MelSpecDataset(Dataset):\n",
    "    def __init__(self, source_file):\n",
    "        self.source = pd.read_csv(source_file)\n",
    "        \n",
    "        mel_specs = []\n",
    "        wvs = []\n",
    "        sample_rate = int(self.source.iloc[0].sample_rate)\n",
    "        mel_trans = transforms.MelSpectrogram(sample_rate=sample_rate, n_mels=params.N_MELS).to(device)\n",
    "        \n",
    "        for idx in tqdm(range(len(self.source))):\n",
    "            ex = self.source.iloc[idx]\n",
    "            waveform = ex.waveform\n",
    "\n",
    "            if isinstance(waveform, str): \n",
    "                wv = ','.join(ex.waveform.replace('[ ', '[').split())\n",
    "                wv = np.array(ast.literal_eval(wv))\n",
    "                waveform = torch.from_numpy(wv).view(1, -1).to(dtype=torch.float32)\n",
    "\n",
    "                wvs.append(waveform)\n",
    "\n",
    "            sample_rate = int(ex.sample_rate)\n",
    "            \n",
    "            waveform = waveform.to(device).view(1, 1, -1)\n",
    "            \n",
    "            mel_spec = mel_trans(waveform)\n",
    "            mel_spec = reshape_mel_spec(mel_spec[0], params.MEL_SPEC_MAXLEN).to(cpu)\n",
    "                        \n",
    "            mel_specs.append(mel_spec)\n",
    "\n",
    "        if 'mel_spec' in self.source:\n",
    "            self.source = self.source.assign(mel_spec=mel_specs)\n",
    "        else:\n",
    "            self.source.insert(4, \"mel_spec\", mel_specs, True)\n",
    "            \n",
    "        # drop waveform data for now to save memory\n",
    "        self.source = self.source.drop(columns=['waveform'])\n",
    "        \n",
    "        # uncomment to visualize waveform\n",
    "        #if len(wvs) > 0:\n",
    "        #    self.source = self.source.assign(waveform=wvs)\n",
    "    def get_waveform(self, idx):\n",
    "        ex = self.source.iloc[idx]\n",
    "        return (ex.waveform, ex.sample_rate)\n",
    "    def __getitem__(self, idx):\n",
    "        ex = self.source.iloc[idx]\n",
    "        return (ex.mel_spec, int(ex.species_id))\n",
    "    def __len__(self):\n",
    "        return len(self.source)"
   ]
  },
  {
   "cell_type": "code",
   "execution_count": 6,
   "metadata": {},
   "outputs": [
    {
     "data": {
      "application/vnd.jupyter.widget-view+json": {
       "model_id": "74ea179af4ed44a1896249b249beb5f1",
       "version_major": 2,
       "version_minor": 0
      },
      "text/plain": [
       "HBox(children=(HTML(value=''), FloatProgress(value=0.0, max=1216.0), HTML(value='')))"
      ]
     },
     "metadata": {},
     "output_type": "display_data"
    },
    {
     "name": "stdout",
     "output_type": "stream",
     "text": [
      "\n"
     ]
    }
   ],
   "source": [
    "trainset = MelSpecDataset('train_classified-all.csv')\n",
    "trainloader = torch.utils.data.DataLoader(trainset, batch_size=params.TRAIN_BATCH_SIZE,shuffle=True)"
   ]
  },
  {
   "cell_type": "code",
   "execution_count": 7,
   "metadata": {},
   "outputs": [],
   "source": [
    "model = RainforestNet().to(device)\n",
    "criterion = nn.CrossEntropyLoss()\n",
    "optimizer = optim.Adam(model.parameters(), lr=params.LR)"
   ]
  },
  {
   "cell_type": "code",
   "execution_count": 8,
   "metadata": {},
   "outputs": [
    {
     "name": "stdout",
     "output_type": "stream",
     "text": [
      "1216\n"
     ]
    }
   ],
   "source": [
    "print (len(trainset))"
   ]
  },
  {
   "cell_type": "code",
   "execution_count": 12,
   "metadata": {},
   "outputs": [
    {
     "data": {
      "application/vnd.jupyter.widget-view+json": {
       "model_id": "397ba5963aaf4787a284fe200fdea7e7",
       "version_major": 2,
       "version_minor": 0
      },
      "text/plain": [
       "HBox(children=(HTML(value='epoch 1/10, running loss: 0.0'), FloatProgress(value=0.0, max=304.0), HTML(value=''…"
      ]
     },
     "metadata": {},
     "output_type": "display_data"
    },
    {
     "name": "stdout",
     "output_type": "stream",
     "text": [
      "\n"
     ]
    },
    {
     "data": {
      "application/vnd.jupyter.widget-view+json": {
       "model_id": "70cb7766c3af452197b83b55121ebe42",
       "version_major": 2,
       "version_minor": 0
      },
      "text/plain": [
       "HBox(children=(HTML(value='epoch 2/10, running loss: 0.0'), FloatProgress(value=0.0, max=304.0), HTML(value=''…"
      ]
     },
     "metadata": {},
     "output_type": "display_data"
    },
    {
     "name": "stdout",
     "output_type": "stream",
     "text": [
      "\n"
     ]
    },
    {
     "data": {
      "application/vnd.jupyter.widget-view+json": {
       "model_id": "87595853874f48f79576ecf44f95c1d6",
       "version_major": 2,
       "version_minor": 0
      },
      "text/plain": [
       "HBox(children=(HTML(value='epoch 3/10, running loss: 0.0'), FloatProgress(value=0.0, max=304.0), HTML(value=''…"
      ]
     },
     "metadata": {},
     "output_type": "display_data"
    },
    {
     "name": "stdout",
     "output_type": "stream",
     "text": [
      "\n"
     ]
    },
    {
     "data": {
      "application/vnd.jupyter.widget-view+json": {
       "model_id": "b368646ef3844a5f9b8da032f7f7e3ae",
       "version_major": 2,
       "version_minor": 0
      },
      "text/plain": [
       "HBox(children=(HTML(value='epoch 4/10, running loss: 0.0'), FloatProgress(value=0.0, max=304.0), HTML(value=''…"
      ]
     },
     "metadata": {},
     "output_type": "display_data"
    },
    {
     "name": "stdout",
     "output_type": "stream",
     "text": [
      "\n"
     ]
    },
    {
     "data": {
      "application/vnd.jupyter.widget-view+json": {
       "model_id": "1daa03fdf53341798c56aa7988836f91",
       "version_major": 2,
       "version_minor": 0
      },
      "text/plain": [
       "HBox(children=(HTML(value='epoch 5/10, running loss: 0.0'), FloatProgress(value=0.0, max=304.0), HTML(value=''…"
      ]
     },
     "metadata": {},
     "output_type": "display_data"
    },
    {
     "name": "stdout",
     "output_type": "stream",
     "text": [
      "\n"
     ]
    },
    {
     "data": {
      "application/vnd.jupyter.widget-view+json": {
       "model_id": "3e96757c8a1641d68f06c8877460d4ea",
       "version_major": 2,
       "version_minor": 0
      },
      "text/plain": [
       "HBox(children=(HTML(value='epoch 6/10, running loss: 0.0'), FloatProgress(value=0.0, max=304.0), HTML(value=''…"
      ]
     },
     "metadata": {},
     "output_type": "display_data"
    },
    {
     "name": "stdout",
     "output_type": "stream",
     "text": [
      "\n"
     ]
    },
    {
     "data": {
      "application/vnd.jupyter.widget-view+json": {
       "model_id": "97570fbbabeb4a90bb584d9df75574d6",
       "version_major": 2,
       "version_minor": 0
      },
      "text/plain": [
       "HBox(children=(HTML(value='epoch 7/10, running loss: 0.0'), FloatProgress(value=0.0, max=304.0), HTML(value=''…"
      ]
     },
     "metadata": {},
     "output_type": "display_data"
    },
    {
     "name": "stdout",
     "output_type": "stream",
     "text": [
      "\n"
     ]
    },
    {
     "data": {
      "application/vnd.jupyter.widget-view+json": {
       "model_id": "b6034084f2894686863cb81f3b0dcfc7",
       "version_major": 2,
       "version_minor": 0
      },
      "text/plain": [
       "HBox(children=(HTML(value='epoch 8/10, running loss: 0.0'), FloatProgress(value=0.0, max=304.0), HTML(value=''…"
      ]
     },
     "metadata": {},
     "output_type": "display_data"
    },
    {
     "name": "stdout",
     "output_type": "stream",
     "text": [
      "\n"
     ]
    },
    {
     "data": {
      "application/vnd.jupyter.widget-view+json": {
       "model_id": "6cb89f4a5047406bb5f9acafd039c86b",
       "version_major": 2,
       "version_minor": 0
      },
      "text/plain": [
       "HBox(children=(HTML(value='epoch 9/10, running loss: 0.0'), FloatProgress(value=0.0, max=304.0), HTML(value=''…"
      ]
     },
     "metadata": {},
     "output_type": "display_data"
    },
    {
     "name": "stdout",
     "output_type": "stream",
     "text": [
      "\n"
     ]
    },
    {
     "data": {
      "application/vnd.jupyter.widget-view+json": {
       "model_id": "61b68f27894c4492b431948c7e9b0315",
       "version_major": 2,
       "version_minor": 0
      },
      "text/plain": [
       "HBox(children=(HTML(value='epoch 10/10, running loss: 0.0'), FloatProgress(value=0.0, max=304.0), HTML(value='…"
      ]
     },
     "metadata": {},
     "output_type": "display_data"
    },
    {
     "name": "stdout",
     "output_type": "stream",
     "text": [
      "\n",
      "\n",
      "-------- DONE --------\n",
      "start time: 1608610039.2968016\n",
      "end time: 1608610558.9047544\n",
      "\n",
      "training duration: 519.6079528331757\n"
     ]
    }
   ],
   "source": [
    "start_time = time.time()\n",
    "losses = []\n",
    "losses_detail = []\n",
    "\n",
    "for epoch in range(params.EPOCHS):\n",
    "    running_loss = 0.0\n",
    "    t = tqdm(trainloader, desc=\"epoch {}/{}, running loss: {}\".format(epoch+1, params.EPOCHS, 0.0))\n",
    "    for i, data in enumerate(t):\n",
    "        inputs, labels = data\n",
    "        inputs, labels = inputs.to(device), labels.to(device)\n",
    "                        \n",
    "        optimizer.zero_grad()\n",
    "                \n",
    "        output = model(inputs)\n",
    "        loss = criterion(output, labels)\n",
    "        \n",
    "        loss.backward()\n",
    "        optimizer.step()\n",
    "        \n",
    "        running_loss += loss.item()\n",
    "        losses_detail.append(loss.item())\n",
    "        if i % 50 == 49:    # print every 50 mini-batches\n",
    "            #print('[%d %5d] loss: %.3f' % (epoch+1, i+1, running_loss / 50))\n",
    "            \n",
    "            losses.append(running_loss/50)\n",
    "            t.set_description(\"epoch {}/{}, running_loss: {:.2f}\".format(epoch+1, params.EPOCHS, running_loss/50))\n",
    "            t.refresh()\n",
    "            \n",
    "            running_loss = 0.0\n",
    "            \n",
    "end_time = time.time()\n",
    "print ('\\n-------- DONE --------')\n",
    "print ('start time: {}'.format(start_time))\n",
    "print ('end time: {}\\n'.format(end_time))\n",
    "\n",
    "duration = end_time-start_time\n",
    "print ('training duration: {}'.format(duration))\n",
    "\n",
    "model_path = 'models/rainforest{}.pt'.format(end_time)\n",
    "torch.save(model.state_dict(), model_path)\n",
    "\n",
    "mdata = params.__to_dict__()\n",
    "mdata.update({\n",
    "    'start_time': start_time,\n",
    "    'end_time': end_time,\n",
    "    'train_duration': duration,\n",
    "    'model_path': model_path,\n",
    "})\n",
    "meta = meta.append(mdata, ignore_index=True)\n",
    "meta.to_csv(\"models/meta.csv\", index=False, float_format='%.5f')"
   ]
  },
  {
   "cell_type": "code",
   "execution_count": 13,
   "metadata": {},
   "outputs": [
    {
     "data": {
      "text/plain": [
       "[<matplotlib.lines.Line2D at 0x1bcde07a880>]"
      ]
     },
     "execution_count": 13,
     "metadata": {},
     "output_type": "execute_result"
    },
    {
     "data": {
      "image/png": "[encoded data removed]",
      "text/plain": [
       "<Figure size 432x288 with 1 Axes>"
      ]
     },
     "metadata": {
      "needs_background": "light"
     },
     "output_type": "display_data"
    }
   ],
   "source": [
    "fig, ax = plt.subplots()\n",
    "ax.plot(losses)"
   ]
  }
 ],
 "metadata": {
  "kernelspec": {
   "display_name": "rainforest_proj",
   "language": "python",
   "name": "rainforest_proj"
  },
  "language_info": {
   "codemirror_mode": {
    "name": "ipython",
    "version": 3
   },
   "file_extension": ".py",
   "mimetype": "text/x-python",
   "name": "python",
   "nbconvert_exporter": "python",
   "pygments_lexer": "ipython3",
   "version": "3.8.6"
  }
 },
 "nbformat": 4,
 "nbformat_minor": 4
}
