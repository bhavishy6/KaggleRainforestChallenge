{
 "cells": [
  {
   "cell_type": "code",
   "execution_count": 1,
   "metadata": {},
   "outputs": [],
   "source": [
    "import warnings\n",
    "warnings.filterwarnings('ignore')\n",
    "\n",
    "import torch\n",
    "import torch.nn as nn\n",
    "import torch.optim as optim\n",
    "import torch.nn.functional as F\n",
    "from torch.utils.data import Dataset, DataLoader\n",
    "import torchaudio\n",
    "import torchvision.models as vmodels\n",
    "import torchaudio.models as models\n",
    "import torchaudio.transforms as transforms\n",
    "import matplotlib.pyplot as plt\n",
    "import pandas as pd\n",
    "import numpy as np\n",
    "from tqdm.notebook import tqdm\n",
    "import glob\n",
    "import librosa\n",
    "import librosa.display\n",
    "import soundfile as sf\n",
    "from scipy.interpolate import interp1d\n",
    "import IPython.display as ipd\n",
    "import ast\n",
    "import time\n",
    "import sys\n",
    "from nnutils import reshape_mel_spec, RainforestNetV2\n",
    "from scipy import stats"
   ]
  },
  {
   "cell_type": "code",
   "execution_count": 2,
   "metadata": {},
   "outputs": [],
   "source": [
    "# Load meta.csv to save metadata for training session\n",
    "try:\n",
    "    meta = pd.read_csv('models/meta.csv')\n",
    "except:\n",
    "    meta = pd.DataFrame()\n"
   ]
  },
  {
   "cell_type": "code",
   "execution_count": 3,
   "metadata": {},
   "outputs": [],
   "source": [
    "# Hyper parameters\n",
    "class Params():\n",
    "    EPOCHS = 20\n",
    "    TRAIN_BATCH_SIZE = 4\n",
    "    N_MELS = 224\n",
    "    MEL_SPEC_MAXLEN = 800\n",
    "    LR = 0.0001\n",
    "    \n",
    "    # make both 0 for no noise\n",
    "    RAND_NOISE_UPPER = 0.1\n",
    "    RAND_NOISE_LOWER = 0.05\n",
    "    \n",
    "    def __to_dict__(self):\n",
    "        return {key:value for key, value in Params.__dict__.items() if not key.startswith('__') and not callable(key)}\n",
    "                      \n",
    "params = Params()\n",
    "\n",
    "train_full = True"
   ]
  },
  {
   "cell_type": "code",
   "execution_count": 4,
   "metadata": {},
   "outputs": [
    {
     "name": "stdout",
     "output_type": "stream",
     "text": [
      "cuda:  True\n"
     ]
    }
   ],
   "source": [
    "# CUDA\n",
    "is_cuda = True and torch.cuda.is_available()\n",
    "cpu = torch.device('cpu')\n",
    "gpu = torch.device('cuda')\n",
    "device = gpu if is_cuda else cpu\n",
    "\n",
    "print ('cuda: ', is_cuda)\n",
    "\n",
    "torch.cuda.empty_cache()"
   ]
  },
  {
   "cell_type": "code",
   "execution_count": 5,
   "metadata": {},
   "outputs": [],
   "source": [
    "# class MelSpecDataset(Dataset):\n",
    "#     def __init__(self, source_file):\n",
    "#         self.source = pd.read_csv(source_file)\n",
    "        \n",
    "#         mel_specs = []\n",
    "#         wvs = []\n",
    "#         sample_rate = int(self.source.iloc[0].sample_rate)\n",
    "#         mel_trans = transforms.MelSpectrogram(sample_rate=sample_rate, n_mels=params.N_MELS).to(device)\n",
    "        \n",
    "#         for idx in tqdm(range(len(self.source))):\n",
    "#             ex = self.source.iloc[idx]\n",
    "#             waveform = ex.waveform\n",
    "\n",
    "#             if isinstance(waveform, str): \n",
    "#                 wv = ','.join(ex.waveform.replace('[ ', '[').split())\n",
    "#                 wv = np.array(ast.literal_eval(wv))\n",
    "#                 waveform = torch.from_numpy(wv).view(1, -1).to(dtype=torch.float32)\n",
    "\n",
    "#                 wvs.append(waveform)\n",
    "\n",
    "#             sample_rate = int(ex.sample_rate)\n",
    "            \n",
    "#             waveform = waveform.to(device).view(1, 1, -1)\n",
    "            \n",
    "#             mel_spec = mel_trans(waveform)\n",
    "#             mel_spec = reshape_mel_spec(mel_spec[0], params.MEL_SPEC_MAXLEN).to(cpu)\n",
    "                        \n",
    "#             mel_specs.append(mel_spec)\n",
    "\n",
    "#         if 'mel_spec' in self.source:\n",
    "#             self.source = self.source.assign(mel_spec=mel_specs)\n",
    "#         else:\n",
    "#             self.source.insert(4, \"mel_spec\", mel_specs, True)\n",
    "            \n",
    "#         # drop waveform data for now to save memory\n",
    "#         self.source = self.source.drop(columns=['waveform'])\n",
    "        \n",
    "#         # uncomment to visualize waveform\n",
    "#         #if len(wvs) > 0:\n",
    "#         #    self.source = self.source.assign(waveform=wvs)\n",
    "#     def get_waveform(self, idx):\n",
    "#         ex = self.source.iloc[idx]\n",
    "#         return (ex.waveform, ex.sample_rate)\n",
    "#     def __getitem__(self, idx):\n",
    "#         ex = self.source.iloc[idx]\n",
    "#         return (ex.mel_spec, int(ex.species_id))\n",
    "#     def __len__(self):\n",
    "#         return len(self.source)"
   ]
  },
  {
   "cell_type": "code",
   "execution_count": 6,
   "metadata": {},
   "outputs": [],
   "source": [
    "class MelSpecDatasetV2(Dataset):\n",
    "    def __init__(self):\n",
    "        self.traint = pd.read_csv( 'data/train_tp.csv' )\n",
    "        self.trainf = pd.read_csv( 'data/train_fp.csv' )\n",
    "        self.files = glob.glob( 'data/train/*.flac' )\n",
    "        self.ids = self.traint.recording_id.unique()\n",
    "        self.mel_specs = []\n",
    "        self.labels = []\n",
    "        \n",
    "        self.traint[\"val\"] = 1\n",
    "        self.trainf[\"val\"] = 0\n",
    "        \n",
    "        self.train = pd.concat([self.traint, self.trainf])\n",
    "        \n",
    "        del self.traint\n",
    "        del self.trainf\n",
    "                \n",
    "        mel_trans = transforms.MelSpectrogram(sample_rate=48000, n_mels=224, n_fft=5000, f_min=90.0, f_max=14000.0).to(device)\n",
    "        \n",
    "        f_maxs = []\n",
    "        f_mins = []\n",
    "        \n",
    "        i=0\n",
    "        for rec_id in tqdm(self.ids):\n",
    "            path = \"data/train/{}.flac\".format(rec_id)\n",
    "            waveform, sample_rate = torchaudio.load(path)\n",
    "            waveform = waveform.to(device)\n",
    "            mel_spec = mel_trans(waveform).repeat(3, 1, 1).to(cpu)\n",
    "            \n",
    "            del waveform\n",
    "            torch.cuda.empty_cache()\n",
    "                        \n",
    "            self.mel_specs.append(mel_spec)\n",
    "            \n",
    "            subset = self.train[self.train['recording_id'] == rec_id]\n",
    "            label = (RAND_NOISE_UPPER - RAND_NOISE_LOWER) * torch.rand(24) + RAND_NOISE_LOWER\n",
    "            \n",
    "            for idx in range(len(subset)):\n",
    "                ex = subset.iloc[idx]\n",
    "                \n",
    "                f_maxs.append(ex.f_max)\n",
    "                f_mins.append(ex.f_min)\n",
    "                \n",
    "                species_id = ex.species_id\n",
    "                label[species_id] = ex.val\n",
    "            self.labels.append(label)\n",
    "            \n",
    "            #if i > 9:\n",
    "            i+=1\n",
    "            \n",
    "        #print (stats.describe(f_maxs))\n",
    "        #print (stats.describe(f_mins))\n",
    "        \n",
    "        del mel_trans\n",
    "        torch.cuda.empty_cache()\n",
    "        \n",
    "    def __getitem__(self, idx):\n",
    "        return (self.mel_specs[idx], self.labels[idx])\n",
    "    def __len__(self):\n",
    "        return len(self.mel_specs)"
   ]
  },
  {
   "cell_type": "code",
   "execution_count": 7,
   "metadata": {},
   "outputs": [
    {
     "name": "stdout",
     "output_type": "stream",
     "text": [
      "1132\n"
     ]
    },
    {
     "data": {
      "application/vnd.jupyter.widget-view+json": {
       "model_id": "70fcad1528ca438b84dbc269a80ffe76",
       "version_major": 2,
       "version_minor": 0
      },
      "text/plain": [
       "HBox(children=(HTML(value=''), FloatProgress(value=0.0, max=1132.0), HTML(value='')))"
      ]
     },
     "metadata": {},
     "output_type": "display_data"
    },
    {
     "name": "stdout",
     "output_type": "stream",
     "text": [
      "\n"
     ]
    }
   ],
   "source": [
    "trainset = MelSpecDatasetV2()"
   ]
  },
  {
   "cell_type": "code",
   "execution_count": 8,
   "metadata": {},
   "outputs": [
    {
     "name": "stderr",
     "output_type": "stream",
     "text": [
      "Clipping input data to the valid range for imshow with RGB data ([0..1] for floats or [0..255] for integers).\n"
     ]
    },
    {
     "name": "stdout",
     "output_type": "stream",
     "text": [
      "tensor([0.0974, 0.0982, 0.0827, 0.0926, 0.0771, 0.0967, 0.0724, 0.0857, 0.0939,\n",
      "        0.0772, 0.0533, 0.0784, 0.0603, 0.0500, 1.0000, 0.0502, 0.0819, 0.0798,\n",
      "        0.0851, 0.0712, 0.0708, 0.0863, 0.0936, 0.0626])\n"
     ]
    },
    {
     "data": {
      "image/png": "[encoded data removed]",
      "text/plain": [
       "<Figure size 432x288 with 1 Axes>"
      ]
     },
     "metadata": {
      "needs_background": "light"
     },
     "output_type": "display_data"
    }
   ],
   "source": [
    "def imshow(img):\n",
    "    npimg = img.numpy()\n",
    "    plt.imshow(np.transpose(npimg, (1, 2, 0)))\n",
    "    plt.show()\n",
    "\n",
    "ms, l = trainset[0]\n",
    "print (l)\n",
    "imshow(ms)"
   ]
  },
  {
   "cell_type": "code",
   "execution_count": 9,
   "metadata": {},
   "outputs": [],
   "source": [
    "trainloader = torch.utils.data.DataLoader(trainset, batch_size=params.TRAIN_BATCH_SIZE,shuffle=True)"
   ]
  },
  {
   "cell_type": "code",
   "execution_count": 10,
   "metadata": {},
   "outputs": [],
   "source": [
    "model = RainforestNetV2().to(device)\n",
    "model.train()\n",
    "criterion = nn.BCELoss()\n",
    "optimizer = optim.Adam(model.parameters(), lr=params.LR)"
   ]
  },
  {
   "cell_type": "code",
   "execution_count": 11,
   "metadata": {},
   "outputs": [
    {
     "name": "stdout",
     "output_type": "stream",
     "text": [
      "1132\n"
     ]
    }
   ],
   "source": [
    "print (len(trainset))"
   ]
  },
  {
   "cell_type": "code",
   "execution_count": 12,
   "metadata": {},
   "outputs": [
    {
     "data": {
      "application/vnd.jupyter.widget-view+json": {
       "model_id": "c28c18c0dce2422997027c9567803875",
       "version_major": 2,
       "version_minor": 0
      },
      "text/plain": [
       "HBox(children=(HTML(value='epoch 1/20, running loss: 0.0'), FloatProgress(value=0.0, max=283.0), HTML(value=''…"
      ]
     },
     "metadata": {},
     "output_type": "display_data"
    },
    {
     "name": "stdout",
     "output_type": "stream",
     "text": [
      "\n"
     ]
    },
    {
     "data": {
      "application/vnd.jupyter.widget-view+json": {
       "model_id": "501fd684b80644f88ed0852fa9a876ec",
       "version_major": 2,
       "version_minor": 0
      },
      "text/plain": [
       "HBox(children=(HTML(value='epoch 2/20, running loss: 0.0'), FloatProgress(value=0.0, max=283.0), HTML(value=''…"
      ]
     },
     "metadata": {},
     "output_type": "display_data"
    },
    {
     "name": "stdout",
     "output_type": "stream",
     "text": [
      "\n"
     ]
    },
    {
     "data": {
      "application/vnd.jupyter.widget-view+json": {
       "model_id": "2276e659bfff45b2a39f286843ae7df1",
       "version_major": 2,
       "version_minor": 0
      },
      "text/plain": [
       "HBox(children=(HTML(value='epoch 3/20, running loss: 0.0'), FloatProgress(value=0.0, max=283.0), HTML(value=''…"
      ]
     },
     "metadata": {},
     "output_type": "display_data"
    },
    {
     "name": "stdout",
     "output_type": "stream",
     "text": [
      "\n"
     ]
    },
    {
     "data": {
      "application/vnd.jupyter.widget-view+json": {
       "model_id": "1f95a4136afd4f09b723ffd660958094",
       "version_major": 2,
       "version_minor": 0
      },
      "text/plain": [
       "HBox(children=(HTML(value='epoch 4/20, running loss: 0.0'), FloatProgress(value=0.0, max=283.0), HTML(value=''…"
      ]
     },
     "metadata": {},
     "output_type": "display_data"
    },
    {
     "name": "stdout",
     "output_type": "stream",
     "text": [
      "\n"
     ]
    },
    {
     "data": {
      "application/vnd.jupyter.widget-view+json": {
       "model_id": "4d4442d2c16f43f89daa362d46551ab8",
       "version_major": 2,
       "version_minor": 0
      },
      "text/plain": [
       "HBox(children=(HTML(value='epoch 5/20, running loss: 0.0'), FloatProgress(value=0.0, max=283.0), HTML(value=''…"
      ]
     },
     "metadata": {},
     "output_type": "display_data"
    },
    {
     "name": "stdout",
     "output_type": "stream",
     "text": [
      "\n"
     ]
    },
    {
     "data": {
      "application/vnd.jupyter.widget-view+json": {
       "model_id": "513c60238a5e490581c6a807a1f61718",
       "version_major": 2,
       "version_minor": 0
      },
      "text/plain": [
       "HBox(children=(HTML(value='epoch 6/20, running loss: 0.0'), FloatProgress(value=0.0, max=283.0), HTML(value=''…"
      ]
     },
     "metadata": {},
     "output_type": "display_data"
    },
    {
     "name": "stdout",
     "output_type": "stream",
     "text": [
      "\n"
     ]
    },
    {
     "data": {
      "application/vnd.jupyter.widget-view+json": {
       "model_id": "6abddec30bc14367af25021fc41175f0",
       "version_major": 2,
       "version_minor": 0
      },
      "text/plain": [
       "HBox(children=(HTML(value='epoch 7/20, running loss: 0.0'), FloatProgress(value=0.0, max=283.0), HTML(value=''…"
      ]
     },
     "metadata": {},
     "output_type": "display_data"
    },
    {
     "name": "stdout",
     "output_type": "stream",
     "text": [
      "\n"
     ]
    },
    {
     "data": {
      "application/vnd.jupyter.widget-view+json": {
       "model_id": "6dfa55821cce43db91c4c825713ad99b",
       "version_major": 2,
       "version_minor": 0
      },
      "text/plain": [
       "HBox(children=(HTML(value='epoch 8/20, running loss: 0.0'), FloatProgress(value=0.0, max=283.0), HTML(value=''…"
      ]
     },
     "metadata": {},
     "output_type": "display_data"
    },
    {
     "name": "stdout",
     "output_type": "stream",
     "text": [
      "\n"
     ]
    },
    {
     "data": {
      "application/vnd.jupyter.widget-view+json": {
       "model_id": "0cb212dd8cab4fbb9375ec6b0d63044d",
       "version_major": 2,
       "version_minor": 0
      },
      "text/plain": [
       "HBox(children=(HTML(value='epoch 9/20, running loss: 0.0'), FloatProgress(value=0.0, max=283.0), HTML(value=''…"
      ]
     },
     "metadata": {},
     "output_type": "display_data"
    },
    {
     "name": "stdout",
     "output_type": "stream",
     "text": [
      "\n"
     ]
    },
    {
     "data": {
      "application/vnd.jupyter.widget-view+json": {
       "model_id": "311d6a1f5ae64c3aa095d0f5af4db0fa",
       "version_major": 2,
       "version_minor": 0
      },
      "text/plain": [
       "HBox(children=(HTML(value='epoch 10/20, running loss: 0.0'), FloatProgress(value=0.0, max=283.0), HTML(value='…"
      ]
     },
     "metadata": {},
     "output_type": "display_data"
    },
    {
     "name": "stdout",
     "output_type": "stream",
     "text": [
      "\n"
     ]
    },
    {
     "data": {
      "application/vnd.jupyter.widget-view+json": {
       "model_id": "754d870bc78145519af6d83b37ce5938",
       "version_major": 2,
       "version_minor": 0
      },
      "text/plain": [
       "HBox(children=(HTML(value='epoch 11/20, running loss: 0.0'), FloatProgress(value=0.0, max=283.0), HTML(value='…"
      ]
     },
     "metadata": {},
     "output_type": "display_data"
    },
    {
     "name": "stdout",
     "output_type": "stream",
     "text": [
      "\n"
     ]
    },
    {
     "data": {
      "application/vnd.jupyter.widget-view+json": {
       "model_id": "cdf566ff3a9d4bdb961e106f7c23280d",
       "version_major": 2,
       "version_minor": 0
      },
      "text/plain": [
       "HBox(children=(HTML(value='epoch 12/20, running loss: 0.0'), FloatProgress(value=0.0, max=283.0), HTML(value='…"
      ]
     },
     "metadata": {},
     "output_type": "display_data"
    },
    {
     "name": "stdout",
     "output_type": "stream",
     "text": [
      "\n"
     ]
    },
    {
     "data": {
      "application/vnd.jupyter.widget-view+json": {
       "model_id": "993866d7e332402e9e4d5f6924dfe4bc",
       "version_major": 2,
       "version_minor": 0
      },
      "text/plain": [
       "HBox(children=(HTML(value='epoch 13/20, running loss: 0.0'), FloatProgress(value=0.0, max=283.0), HTML(value='…"
      ]
     },
     "metadata": {},
     "output_type": "display_data"
    },
    {
     "name": "stdout",
     "output_type": "stream",
     "text": [
      "\n"
     ]
    },
    {
     "data": {
      "application/vnd.jupyter.widget-view+json": {
       "model_id": "6feea576907641ebb35b03e2f9788f96",
       "version_major": 2,
       "version_minor": 0
      },
      "text/plain": [
       "HBox(children=(HTML(value='epoch 14/20, running loss: 0.0'), FloatProgress(value=0.0, max=283.0), HTML(value='…"
      ]
     },
     "metadata": {},
     "output_type": "display_data"
    },
    {
     "name": "stdout",
     "output_type": "stream",
     "text": [
      "\n"
     ]
    },
    {
     "data": {
      "application/vnd.jupyter.widget-view+json": {
       "model_id": "82f2f414e67343698712c1e1d6b4182d",
       "version_major": 2,
       "version_minor": 0
      },
      "text/plain": [
       "HBox(children=(HTML(value='epoch 15/20, running loss: 0.0'), FloatProgress(value=0.0, max=283.0), HTML(value='…"
      ]
     },
     "metadata": {},
     "output_type": "display_data"
    },
    {
     "name": "stdout",
     "output_type": "stream",
     "text": [
      "\n"
     ]
    },
    {
     "data": {
      "application/vnd.jupyter.widget-view+json": {
       "model_id": "eb2403ce2f224c1a87c1ac81fddc984f",
       "version_major": 2,
       "version_minor": 0
      },
      "text/plain": [
       "HBox(children=(HTML(value='epoch 16/20, running loss: 0.0'), FloatProgress(value=0.0, max=283.0), HTML(value='…"
      ]
     },
     "metadata": {},
     "output_type": "display_data"
    },
    {
     "name": "stdout",
     "output_type": "stream",
     "text": [
      "\n"
     ]
    },
    {
     "data": {
      "application/vnd.jupyter.widget-view+json": {
       "model_id": "9515c451a746487aa9adb26392c047ca",
       "version_major": 2,
       "version_minor": 0
      },
      "text/plain": [
       "HBox(children=(HTML(value='epoch 17/20, running loss: 0.0'), FloatProgress(value=0.0, max=283.0), HTML(value='…"
      ]
     },
     "metadata": {},
     "output_type": "display_data"
    },
    {
     "name": "stdout",
     "output_type": "stream",
     "text": [
      "\n"
     ]
    },
    {
     "data": {
      "application/vnd.jupyter.widget-view+json": {
       "model_id": "3f54c8ca25434bfca3569f5244d96c5b",
       "version_major": 2,
       "version_minor": 0
      },
      "text/plain": [
       "HBox(children=(HTML(value='epoch 18/20, running loss: 0.0'), FloatProgress(value=0.0, max=283.0), HTML(value='…"
      ]
     },
     "metadata": {},
     "output_type": "display_data"
    },
    {
     "name": "stdout",
     "output_type": "stream",
     "text": [
      "\n"
     ]
    },
    {
     "data": {
      "application/vnd.jupyter.widget-view+json": {
       "model_id": "7fb4542b7e2449e096a266b3cd43d71d",
       "version_major": 2,
       "version_minor": 0
      },
      "text/plain": [
       "HBox(children=(HTML(value='epoch 19/20, running loss: 0.0'), FloatProgress(value=0.0, max=283.0), HTML(value='…"
      ]
     },
     "metadata": {},
     "output_type": "display_data"
    },
    {
     "name": "stdout",
     "output_type": "stream",
     "text": [
      "\n"
     ]
    },
    {
     "data": {
      "application/vnd.jupyter.widget-view+json": {
       "model_id": "65cd8d2000824e6589ce7bd428c13b5f",
       "version_major": 2,
       "version_minor": 0
      },
      "text/plain": [
       "HBox(children=(HTML(value='epoch 20/20, running loss: 0.0'), FloatProgress(value=0.0, max=283.0), HTML(value='…"
      ]
     },
     "metadata": {},
     "output_type": "display_data"
    },
    {
     "name": "stdout",
     "output_type": "stream",
     "text": [
      "\n",
      "\n",
      "-------- DONE --------\n",
      "start time: 1608768229.3875253\n",
      "end time: 1608769852.3191528\n",
      "\n",
      "training duration: 1622.9316275119781\n"
     ]
    }
   ],
   "source": [
    "start_time = time.time()\n",
    "losses = []\n",
    "losses_detail = []\n",
    "\n",
    "for epoch in range(params.EPOCHS):\n",
    "    running_loss = 0.0\n",
    "    t = tqdm(trainloader, desc=\"epoch {}/{}, running loss: {}\".format(epoch+1, params.EPOCHS, 0.0))\n",
    "    for i, data in enumerate(t):\n",
    "        inputs, labels = data\n",
    "        inputs, labels = inputs.to(device), labels.to(device)\n",
    "                        \n",
    "        optimizer.zero_grad()\n",
    "                \n",
    "        output = model(inputs)\n",
    "        loss = criterion(output, labels)\n",
    "        \n",
    "        loss.backward()\n",
    "        optimizer.step()\n",
    "        \n",
    "        del inputs\n",
    "        del labels\n",
    "        \n",
    "        torch.cuda.empty_cache()\n",
    "        \n",
    "        running_loss += loss.item()\n",
    "        losses_detail.append(loss.item())\n",
    "        if i % 50 == 49:    # print every 50 mini-batches\n",
    "            #print('[%d %5d] loss: %.3f' % (epoch+1, i+1, running_loss / 50))\n",
    "            \n",
    "            losses.append(running_loss/50)\n",
    "            t.set_description(\"epoch {}/{}, running_loss: {:.2f}\".format(epoch+1, params.EPOCHS, running_loss/50))\n",
    "            t.refresh()\n",
    "            \n",
    "            running_loss = 0.0\n",
    "            \n",
    "end_time = time.time()\n",
    "print ('\\n-------- DONE --------')\n",
    "print ('start time: {}'.format(start_time))\n",
    "print ('end time: {}\\n'.format(end_time))\n",
    "\n",
    "duration = end_time-start_time\n",
    "print ('training duration: {}'.format(duration))\n",
    "\n",
    "model_path = 'models/rainforest{}.pt'.format(end_time)\n",
    "torch.save(model.state_dict(), model_path)\n",
    "\n",
    "mdata = params.__to_dict__()\n",
    "mdata.update({\n",
    "    'start_time': start_time,\n",
    "    'end_time': end_time,\n",
    "    'train_duration': duration,\n",
    "    'model_path': model_path,\n",
    "})\n",
    "meta = meta.append(mdata, ignore_index=True)\n",
    "meta.to_csv(\"models/meta.csv\", index=False, float_format='%.5f')"
   ]
  },
  {
   "cell_type": "code",
   "execution_count": 13,
   "metadata": {},
   "outputs": [
    {
     "data": {
      "text/plain": [
       "[<matplotlib.lines.Line2D at 0x1129ce2ca60>]"
      ]
     },
     "execution_count": 13,
     "metadata": {},
     "output_type": "execute_result"
    },
    {
     "data": {
      "image/png": "[encoded data removed]",
      "text/plain": [
       "<Figure size 432x288 with 1 Axes>"
      ]
     },
     "metadata": {
      "needs_background": "light"
     },
     "output_type": "display_data"
    }
   ],
   "source": [
    "fig, ax = plt.subplots()\n",
    "ax.plot(losses)"
   ]
  },
  {
   "cell_type": "code",
   "execution_count": null,
   "metadata": {},
   "outputs": [],
   "source": []
  }
 ],
 "metadata": {
  "kernelspec": {
   "display_name": "rainforest_proj",
   "language": "python",
   "name": "rainforest_proj"
  },
  "language_info": {
   "codemirror_mode": {
    "name": "ipython",
    "version": 3
   },
   "file_extension": ".py",
   "mimetype": "text/x-python",
   "name": "python",
   "nbconvert_exporter": "python",
   "pygments_lexer": "ipython3",
   "version": "3.8.6"
  }
 },
 "nbformat": 4,
 "nbformat_minor": 4
}
