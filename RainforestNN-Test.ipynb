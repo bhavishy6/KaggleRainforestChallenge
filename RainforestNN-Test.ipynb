{
 "cells": [
  {
   "cell_type": "code",
   "execution_count": 1,
   "metadata": {},
   "outputs": [],
   "source": [
    "import warnings\n",
    "warnings.filterwarnings('ignore')\n",
    "\n",
    "import torch\n",
    "import torch.nn as nn\n",
    "import torch.optim as optim\n",
    "import torch.nn.functional as F\n",
    "from torch.utils.data import Dataset, DataLoader\n",
    "import torchvision.models as vmodels\n",
    "import torchaudio.transforms as transforms\n",
    "import matplotlib.pyplot as plt\n",
    "import pandas as pd\n",
    "import numpy as np\n",
    "from tqdm.notebook import tqdm\n",
    "import glob\n",
    "import soundfile as sf\n",
    "from scipy.interpolate import interp1d\n",
    "import IPython.display as ipd\n",
    "import sys"
   ]
  },
  {
   "cell_type": "code",
   "execution_count": 2,
   "metadata": {},
   "outputs": [],
   "source": [
    "# Hyper parameters\n",
    "EPOCHS = 10\n",
    "TRAIN_BATCH_SIZE = 4\n",
    "N_MELS = 256\n",
    "MAXLEN = 800"
   ]
  },
  {
   "cell_type": "code",
   "execution_count": 4,
   "metadata": {},
   "outputs": [],
   "source": [
    "def reshape_mel_spec(mel_spec):\n",
    "        diff = MAXLEN - mel_spec.shape[2]\n",
    "        if diff > 0:\n",
    "            # pad\n",
    "            s = int(diff/2) \n",
    "            e = diff - s\n",
    "            mel_spec = F.pad(input=mel_spec, pad=(s, e, 0, 0, 0, 0), mode='constant', value=0)\n",
    "        else:\n",
    "            # trim\n",
    "            mel_spec = mel_spec.narrow(2, diff*-1, MAXLEN)\n",
    "\n",
    "        mel_spec = mel_spec.repeat(3, 1, 1)\n",
    "        return mel_spec"
   ]
  },
  {
   "cell_type": "code",
   "execution_count": 5,
   "metadata": {},
   "outputs": [],
   "source": [
    "class RainforestNet(nn.Module):\n",
    "    def __init__(self):\n",
    "        super(RainforestNet, self).__init__()\n",
    "        self.resnet = vmodels.resnet50(pretrained=True)\n",
    "        self.fc1 = nn.Linear(1000, 500)\n",
    "        self.fc2 = nn.Linear(500, 225)\n",
    "        self.fc3 = nn.Linear(225, 24)\n",
    "\n",
    "    def forward(self, x):\n",
    "        x = self.resnet(x)\n",
    "        x = F.relu(self.fc1(x))\n",
    "        x = F.relu(self.fc2(x))\n",
    "        #x = self.fc2(x)\n",
    "        x = self.fc3(x)\n",
    "\n",
    "        return x\n",
    "\n",
    "    def num_flat_features(self, x):\n",
    "        size = x.size()[1:]  # all dimensions except the batch dimension\n",
    "        num_features = 1\n",
    "        for s in size:\n",
    "            num_features *= s\n",
    "        return num_features"
   ]
  },
  {
   "cell_type": "code",
   "execution_count": 8,
   "metadata": {},
   "outputs": [
    {
     "name": "stdout",
     "output_type": "stream",
     "text": [
      "cuda:  True\n"
     ]
    }
   ],
   "source": [
    "# CUDA\n",
    "is_cuda = True and torch.cuda.is_available()\n",
    "device = torch.device('cuda') if is_cuda else torch.device('cpu')\n",
    "\n",
    "print ('cuda: ', is_cuda)\n",
    "\n",
    "torch.cuda.empty_cache()"
   ]
  },
  {
   "cell_type": "code",
   "execution_count": 6,
   "metadata": {},
   "outputs": [],
   "source": [
    "test_files = glob.glob( 'data/test/*.flac' )"
   ]
  },
  {
   "cell_type": "code",
   "execution_count": 9,
   "metadata": {},
   "outputs": [],
   "source": [
    "test_res = model = RainforestNet()\n",
    "model.load_state_dict(torch.load('models/rainforest1608410308.1312122.pt'))\n",
    "test_res = test_res.to(device)"
   ]
  },
  {
   "cell_type": "code",
   "execution_count": 10,
   "metadata": {},
   "outputs": [],
   "source": [
    "#test_files.head()"
   ]
  },
  {
   "cell_type": "code",
   "execution_count": 11,
   "metadata": {},
   "outputs": [],
   "source": [
    "torch.set_printoptions(sci_mode=False)\n",
    "np.set_printoptions(suppress=True)"
   ]
  },
  {
   "cell_type": "code",
   "execution_count": 14,
   "metadata": {},
   "outputs": [
    {
     "name": "stdout",
     "output_type": "stream",
     "text": [
      "cuda\n"
     ]
    },
    {
     "data": {
      "application/vnd.jupyter.widget-view+json": {
       "model_id": "a2a6c8137c4c4560891453a9ed9fb160",
       "version_major": 2,
       "version_minor": 0
      },
      "text/plain": [
       "HBox(children=(HTML(value=''), FloatProgress(value=0.0, max=1992.0), HTML(value='')))"
      ]
     },
     "metadata": {},
     "output_type": "display_data"
    },
    {
     "name": "stdout",
     "output_type": "stream",
     "text": [
      "\n"
     ]
    }
   ],
   "source": [
    "results = pd.DataFrame()\n",
    "print (device)\n",
    "\n",
    "for f in tqdm(range(len(test_files))):\n",
    "    #ex = test_files.iloc[idx]\n",
    "    path = test_files[f]\n",
    "    seconds = 3\n",
    "    waveform, sample_rate = torchaudio.load(path)\n",
    "    \n",
    "    clips = waveform.split(sample_rate*seconds, dim=1)\n",
    "    tot = torch.zeros(24).to(device)\n",
    "    with torch.no_grad():\n",
    "        for clip in clips:\n",
    "            mel_spec = transforms.MelSpectrogram(sample_rate=sample_rate, n_mels=N_MELS)(clip)\n",
    "            mel_spec = reshape_mel_spec(mel_spec)\n",
    "            mel_spec = mel_spec.unsqueeze(0)\n",
    "            mel_spec = mel_spec.to(device)\n",
    "            \n",
    "            output = test_res(mel_spec)\n",
    "            #print (F.relu(output))\n",
    "            \n",
    "            tot = tot+output[0]\n",
    "    \n",
    "    tot = F.sigmoid(tot)\n",
    "    \n",
    "    tot = tot.to(torch.device('cpu')).numpy()    \n",
    "    results = results.append({ 'result': tot }, ignore_index=True)"
   ]
  },
  {
   "cell_type": "code",
   "execution_count": 15,
   "metadata": {},
   "outputs": [
    {
     "data": {
      "text/html": [
       "<div>\n",
       "<style scoped>\n",
       "    .dataframe tbody tr th:only-of-type {\n",
       "        vertical-align: middle;\n",
       "    }\n",
       "\n",
       "    .dataframe tbody tr th {\n",
       "        vertical-align: top;\n",
       "    }\n",
       "\n",
       "    .dataframe thead th {\n",
       "        text-align: right;\n",
       "    }\n",
       "</style>\n",
       "<table border=\"1\" class=\"dataframe\">\n",
       "  <thead>\n",
       "    <tr style=\"text-align: right;\">\n",
       "      <th></th>\n",
       "      <th>result</th>\n",
       "    </tr>\n",
       "  </thead>\n",
       "  <tbody>\n",
       "    <tr>\n",
       "      <th>0</th>\n",
       "      <td>[1.01427814e-19, 3.2249494e-38, 8.613344e-15, ...</td>\n",
       "    </tr>\n",
       "    <tr>\n",
       "      <th>1</th>\n",
       "      <td>[9.080033e-22, 2.0659597e-35, 9.0906026e-11, 4...</td>\n",
       "    </tr>\n",
       "    <tr>\n",
       "      <th>2</th>\n",
       "      <td>[6.5323896e-17, 2.259268e-37, 6.102157e-17, 1....</td>\n",
       "    </tr>\n",
       "    <tr>\n",
       "      <th>3</th>\n",
       "      <td>[8.0229635e-11, 1.1282021e-36, 1.8402546e-10, ...</td>\n",
       "    </tr>\n",
       "    <tr>\n",
       "      <th>4</th>\n",
       "      <td>[5.678724e-19, 9.963914e-36, 1.1447108e-09, 2....</td>\n",
       "    </tr>\n",
       "  </tbody>\n",
       "</table>\n",
       "</div>"
      ],
      "text/plain": [
       "                                              result\n",
       "0  [1.01427814e-19, 3.2249494e-38, 8.613344e-15, ...\n",
       "1  [9.080033e-22, 2.0659597e-35, 9.0906026e-11, 4...\n",
       "2  [6.5323896e-17, 2.259268e-37, 6.102157e-17, 1....\n",
       "3  [8.0229635e-11, 1.1282021e-36, 1.8402546e-10, ...\n",
       "4  [5.678724e-19, 9.963914e-36, 1.1447108e-09, 2...."
      ]
     },
     "execution_count": 15,
     "metadata": {},
     "output_type": "execute_result"
    }
   ],
   "source": [
    "np.set_printoptions(suppress=True, threshold=sys.maxsize)\n",
    "results.head()"
   ]
  },
  {
   "cell_type": "code",
   "execution_count": 16,
   "metadata": {},
   "outputs": [],
   "source": [
    "submission = pd.DataFrame()\n",
    "\n",
    "for idx in range(len(results)):\n",
    "    ex = results.iloc[idx]\n",
    "    recording_id = test_files[idx].replace('.flac', '').replace('data/test\\\\', '')\n",
    "    result = ex.result\n",
    "    \n",
    "    species = 0\n",
    "    o = {}\n",
    "    for r in result:\n",
    "        s = 's{}'.format(species)\n",
    "        o[s] = r\n",
    "        species += 1 \n",
    "    o[\"recording_id\"] = recording_id\n",
    "    submission = submission.append(o, ignore_index=True)"
   ]
  },
  {
   "cell_type": "code",
   "execution_count": 17,
   "metadata": {},
   "outputs": [],
   "source": [
    "cols = ['recording_id', 's0', 's1', 's2', 's3', 's4', 's5', 's6', 's7', 's8', 's9', 's10', 's11', 's12', 's13', 's14', 's15', 's16', 's17', 's18', 's19', 's20', 's21', 's22', 's23']\n",
    "submission = submission[cols]"
   ]
  },
  {
   "cell_type": "code",
   "execution_count": 18,
   "metadata": {},
   "outputs": [
    {
     "data": {
      "text/html": [
       "<div>\n",
       "<style scoped>\n",
       "    .dataframe tbody tr th:only-of-type {\n",
       "        vertical-align: middle;\n",
       "    }\n",
       "\n",
       "    .dataframe tbody tr th {\n",
       "        vertical-align: top;\n",
       "    }\n",
       "\n",
       "    .dataframe thead th {\n",
       "        text-align: right;\n",
       "    }\n",
       "</style>\n",
       "<table border=\"1\" class=\"dataframe\">\n",
       "  <thead>\n",
       "    <tr style=\"text-align: right;\">\n",
       "      <th></th>\n",
       "      <th>recording_id</th>\n",
       "      <th>s0</th>\n",
       "      <th>s1</th>\n",
       "      <th>s2</th>\n",
       "      <th>s3</th>\n",
       "      <th>s4</th>\n",
       "      <th>s5</th>\n",
       "      <th>s6</th>\n",
       "      <th>s7</th>\n",
       "      <th>s8</th>\n",
       "      <th>...</th>\n",
       "      <th>s14</th>\n",
       "      <th>s15</th>\n",
       "      <th>s16</th>\n",
       "      <th>s17</th>\n",
       "      <th>s18</th>\n",
       "      <th>s19</th>\n",
       "      <th>s20</th>\n",
       "      <th>s21</th>\n",
       "      <th>s22</th>\n",
       "      <th>s23</th>\n",
       "    </tr>\n",
       "  </thead>\n",
       "  <tbody>\n",
       "    <tr>\n",
       "      <th>0</th>\n",
       "      <td>000316da7</td>\n",
       "      <td>1.014278e-19</td>\n",
       "      <td>3.224949e-38</td>\n",
       "      <td>8.613344e-15</td>\n",
       "      <td>3.781055e-35</td>\n",
       "      <td>1.246760e-08</td>\n",
       "      <td>0.999988</td>\n",
       "      <td>0.801565</td>\n",
       "      <td>0.124384</td>\n",
       "      <td>1.310925e-01</td>\n",
       "      <td>...</td>\n",
       "      <td>8.686459e-39</td>\n",
       "      <td>0.117909</td>\n",
       "      <td>2.254558e-11</td>\n",
       "      <td>1.000000</td>\n",
       "      <td>0.0</td>\n",
       "      <td>9.783792e-23</td>\n",
       "      <td>2.632190e-01</td>\n",
       "      <td>8.683351e-30</td>\n",
       "      <td>1.845194e-12</td>\n",
       "      <td>0.999999</td>\n",
       "    </tr>\n",
       "    <tr>\n",
       "      <th>1</th>\n",
       "      <td>003bc2cb2</td>\n",
       "      <td>9.080033e-22</td>\n",
       "      <td>2.065960e-35</td>\n",
       "      <td>9.090603e-11</td>\n",
       "      <td>4.637990e-33</td>\n",
       "      <td>6.013069e-06</td>\n",
       "      <td>0.999567</td>\n",
       "      <td>0.786004</td>\n",
       "      <td>0.414118</td>\n",
       "      <td>1.835082e-01</td>\n",
       "      <td>...</td>\n",
       "      <td>4.223685e-38</td>\n",
       "      <td>0.987164</td>\n",
       "      <td>9.730175e-06</td>\n",
       "      <td>1.000000</td>\n",
       "      <td>0.0</td>\n",
       "      <td>2.652655e-19</td>\n",
       "      <td>4.357989e-03</td>\n",
       "      <td>4.687677e-30</td>\n",
       "      <td>1.808737e-14</td>\n",
       "      <td>0.994527</td>\n",
       "    </tr>\n",
       "    <tr>\n",
       "      <th>2</th>\n",
       "      <td>0061c037e</td>\n",
       "      <td>6.532390e-17</td>\n",
       "      <td>2.259268e-37</td>\n",
       "      <td>6.102157e-17</td>\n",
       "      <td>1.540208e-33</td>\n",
       "      <td>4.574869e-12</td>\n",
       "      <td>1.000000</td>\n",
       "      <td>0.999994</td>\n",
       "      <td>0.172047</td>\n",
       "      <td>1.907333e-08</td>\n",
       "      <td>...</td>\n",
       "      <td>0.000000e+00</td>\n",
       "      <td>0.000301</td>\n",
       "      <td>4.262995e-08</td>\n",
       "      <td>1.000000</td>\n",
       "      <td>0.0</td>\n",
       "      <td>1.098226e-16</td>\n",
       "      <td>2.791064e-01</td>\n",
       "      <td>2.120831e-30</td>\n",
       "      <td>2.069824e-07</td>\n",
       "      <td>0.999970</td>\n",
       "    </tr>\n",
       "    <tr>\n",
       "      <th>3</th>\n",
       "      <td>010eb14d3</td>\n",
       "      <td>8.022964e-11</td>\n",
       "      <td>1.128202e-36</td>\n",
       "      <td>1.840255e-10</td>\n",
       "      <td>8.747042e-39</td>\n",
       "      <td>9.999738e-01</td>\n",
       "      <td>1.000000</td>\n",
       "      <td>0.032535</td>\n",
       "      <td>0.015878</td>\n",
       "      <td>9.994629e-01</td>\n",
       "      <td>...</td>\n",
       "      <td>1.881186e-34</td>\n",
       "      <td>0.000134</td>\n",
       "      <td>1.320253e-10</td>\n",
       "      <td>0.005571</td>\n",
       "      <td>0.0</td>\n",
       "      <td>2.997318e-21</td>\n",
       "      <td>3.825161e-11</td>\n",
       "      <td>9.440732e-22</td>\n",
       "      <td>3.857265e-07</td>\n",
       "      <td>0.999775</td>\n",
       "    </tr>\n",
       "    <tr>\n",
       "      <th>4</th>\n",
       "      <td>011318064</td>\n",
       "      <td>5.678724e-19</td>\n",
       "      <td>9.963914e-36</td>\n",
       "      <td>1.144711e-09</td>\n",
       "      <td>2.521035e-33</td>\n",
       "      <td>2.161447e-04</td>\n",
       "      <td>0.999624</td>\n",
       "      <td>0.992177</td>\n",
       "      <td>0.130415</td>\n",
       "      <td>8.888700e-03</td>\n",
       "      <td>...</td>\n",
       "      <td>9.074977e-37</td>\n",
       "      <td>0.480112</td>\n",
       "      <td>3.838839e-07</td>\n",
       "      <td>1.000000</td>\n",
       "      <td>0.0</td>\n",
       "      <td>7.164003e-18</td>\n",
       "      <td>1.084353e-03</td>\n",
       "      <td>6.133769e-28</td>\n",
       "      <td>6.729225e-11</td>\n",
       "      <td>0.995812</td>\n",
       "    </tr>\n",
       "  </tbody>\n",
       "</table>\n",
       "<p>5 rows × 25 columns</p>\n",
       "</div>"
      ],
      "text/plain": [
       "  recording_id            s0            s1            s2            s3  \\\n",
       "0    000316da7  1.014278e-19  3.224949e-38  8.613344e-15  3.781055e-35   \n",
       "1    003bc2cb2  9.080033e-22  2.065960e-35  9.090603e-11  4.637990e-33   \n",
       "2    0061c037e  6.532390e-17  2.259268e-37  6.102157e-17  1.540208e-33   \n",
       "3    010eb14d3  8.022964e-11  1.128202e-36  1.840255e-10  8.747042e-39   \n",
       "4    011318064  5.678724e-19  9.963914e-36  1.144711e-09  2.521035e-33   \n",
       "\n",
       "             s4        s5        s6        s7            s8  ...  \\\n",
       "0  1.246760e-08  0.999988  0.801565  0.124384  1.310925e-01  ...   \n",
       "1  6.013069e-06  0.999567  0.786004  0.414118  1.835082e-01  ...   \n",
       "2  4.574869e-12  1.000000  0.999994  0.172047  1.907333e-08  ...   \n",
       "3  9.999738e-01  1.000000  0.032535  0.015878  9.994629e-01  ...   \n",
       "4  2.161447e-04  0.999624  0.992177  0.130415  8.888700e-03  ...   \n",
       "\n",
       "            s14       s15           s16       s17  s18           s19  \\\n",
       "0  8.686459e-39  0.117909  2.254558e-11  1.000000  0.0  9.783792e-23   \n",
       "1  4.223685e-38  0.987164  9.730175e-06  1.000000  0.0  2.652655e-19   \n",
       "2  0.000000e+00  0.000301  4.262995e-08  1.000000  0.0  1.098226e-16   \n",
       "3  1.881186e-34  0.000134  1.320253e-10  0.005571  0.0  2.997318e-21   \n",
       "4  9.074977e-37  0.480112  3.838839e-07  1.000000  0.0  7.164003e-18   \n",
       "\n",
       "            s20           s21           s22       s23  \n",
       "0  2.632190e-01  8.683351e-30  1.845194e-12  0.999999  \n",
       "1  4.357989e-03  4.687677e-30  1.808737e-14  0.994527  \n",
       "2  2.791064e-01  2.120831e-30  2.069824e-07  0.999970  \n",
       "3  3.825161e-11  9.440732e-22  3.857265e-07  0.999775  \n",
       "4  1.084353e-03  6.133769e-28  6.729225e-11  0.995812  \n",
       "\n",
       "[5 rows x 25 columns]"
      ]
     },
     "execution_count": 18,
     "metadata": {},
     "output_type": "execute_result"
    }
   ],
   "source": [
    "submission.head()"
   ]
  },
  {
   "cell_type": "code",
   "execution_count": 19,
   "metadata": {},
   "outputs": [],
   "source": [
    "np.set_printoptions(suppress=True, threshold=sys.maxsize)\n",
    "submission.to_csv(\"submissions/submission-resnet-3.csv\", index=False, float_format='%.5f')"
   ]
  }
 ],
 "metadata": {
  "kernelspec": {
   "display_name": "rainforest_proj",
   "language": "python",
   "name": "rainforest_proj"
  },
  "language_info": {
   "codemirror_mode": {
    "name": "ipython",
    "version": 3
   },
   "file_extension": ".py",
   "mimetype": "text/x-python",
   "name": "python",
   "nbconvert_exporter": "python",
   "pygments_lexer": "ipython3",
   "version": "3.8.6"
  }
 },
 "nbformat": 4,
 "nbformat_minor": 4
}
