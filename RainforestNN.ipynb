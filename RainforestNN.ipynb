{
 "cells": [
  {
   "cell_type": "code",
   "execution_count": 14,
   "metadata": {},
   "outputs": [],
   "source": [
    "import warnings\n",
    "warnings.filterwarnings('ignore')\n",
    "\n",
    "import torch\n",
    "import torch.nn as nn\n",
    "import torch.optim as optim\n",
    "import torch.nn.functional as F\n",
    "from torch.utils.data import Dataset, DataLoader\n",
    "import torchaudio\n",
    "import torchaudio.models as models\n",
    "import torchvision.models as vmodels\n",
    "import torchaudio.transforms as transforms\n",
    "import matplotlib.pyplot as plt\n",
    "import pandas as pd\n",
    "import numpy as np\n",
    "from tqdm.notebook import tqdm\n",
    "import glob\n",
    "import librosa\n",
    "import librosa.display\n",
    "import soundfile as sf\n",
    "from scipy.interpolate import interp1d\n",
    "import IPython.display as ipd\n",
    "import ast\n",
    "import time"
   ]
  },
  {
   "cell_type": "code",
   "execution_count": 18,
   "metadata": {},
   "outputs": [],
   "source": [
    "# Hyper parameters\n",
    "EPOCHS = 10\n",
    "TRAIN_BATCH_SIZE = 4\n",
    "N_MELS = 256\n",
    "MAXLEN = 800"
   ]
  },
  {
   "cell_type": "code",
   "execution_count": 3,
   "metadata": {},
   "outputs": [],
   "source": [
    "## need to work on padding tensors to have consistent shape\n",
    "\n",
    "class MelSpecDataset(Dataset):\n",
    "    def __init__(self, source_file):\n",
    "        self.source = pd.read_csv(source_file)\n",
    "        \n",
    "        mel_specs = []\n",
    "        wvs = []\n",
    "        for idx in range(len(self.source)):\n",
    "            ex = self.source.iloc[idx]\n",
    "            waveform = ex.waveform\n",
    "\n",
    "            if isinstance(waveform, str): \n",
    "                wv = ','.join(ex.waveform.replace('[ ', '[').split())\n",
    "                wv = np.array(ast.literal_eval(wv))\n",
    "                waveform = torch.from_numpy(wv).view(1, -1).to(dtype=torch.float32)\n",
    "\n",
    "                wvs.append(waveform)\n",
    "\n",
    "            sample_rate = int(ex.sample_rate)\n",
    "            \n",
    "            waveform = waveform.view(1, 1, -1)\n",
    "            \n",
    "            mel_spec = transforms.MelSpectrogram(sample_rate=sample_rate, n_mels=N_MELS)(waveform)\n",
    "            mel_spec = self.__reshape(mel_spec[0])\n",
    "                        \n",
    "            #mfcc = librosa.feature.mfcc(y=wv, sr=ex.sample_rate)\n",
    "\n",
    "            mel_specs.append(mel_spec)\n",
    "\n",
    "        if 'mel_spec' in self.source:\n",
    "            self.source = self.source.assign(mel_spec=mel_specs)\n",
    "        else:\n",
    "            self.source.insert(4, \"mel_spec\", mel_specs, True)\n",
    "            \n",
    "        # drop waveform data for now to save memory\n",
    "        self.source = self.source.drop(columns=['waveform'])\n",
    "        \n",
    "        # uncomment to visualize waveform\n",
    "        #if len(wvs) > 0:\n",
    "        #    self.source = self.source.assign(waveform=wvs)\n",
    "    def __reshape(self, mel_spec):\n",
    "        diff = MAXLEN - mel_spec.shape[2]\n",
    "        if diff > 0:\n",
    "            # pad\n",
    "            s = int(diff/2) \n",
    "            e = diff - s\n",
    "            mel_spec = F.pad(input=mel_spec, pad=(s, e, 0, 0, 0, 0), mode='constant', value=0)\n",
    "        else:\n",
    "            # trim\n",
    "            mel_spec = mel_spec.narrow(2, diff*-1, MAXLEN)\n",
    "\n",
    "        mel_spec = mel_spec.repeat(3, 1, 1)\n",
    "        return mel_spec\n",
    "    def get_waveform(self, idx):\n",
    "        ex = self.source.iloc[idx]\n",
    "        return (ex.waveform, ex.sample_rate)\n",
    "    def __getitem__(self, idx):\n",
    "        ex = self.source.iloc[idx]\n",
    "        return (ex.mel_spec, int(ex.species_id))\n",
    "    def __len__(self):\n",
    "        return len(self.source)"
   ]
  },
  {
   "cell_type": "code",
   "execution_count": 9,
   "metadata": {},
   "outputs": [],
   "source": [
    "class RainforestNet(nn.Module):\n",
    "    def __init__(self):\n",
    "        super(RainforestNet, self).__init__()\n",
    "        self.resnet = vmodels.resnet50(pretrained=True)\n",
    "        self.fc1 = nn.Linear(1000, 500)\n",
    "        self.fc2 = nn.Linear(500, 225)\n",
    "        self.fc3 = nn.Linear(225, 24)\n",
    "\n",
    "    def forward(self, x):\n",
    "        x = self.resnet(x)\n",
    "        x = F.relu(self.fc1(x))\n",
    "        x = F.relu(self.fc2(x))\n",
    "        #x = self.fc2(x)\n",
    "        x = self.fc3(x)\n",
    "\n",
    "        return x\n",
    "\n",
    "    def num_flat_features(self, x):\n",
    "        size = x.size()[1:]  # all dimensions except the batch dimension\n",
    "        num_features = 1\n",
    "        for s in size:\n",
    "            num_features *= s\n",
    "        return num_features"
   ]
  },
  {
   "cell_type": "code",
   "execution_count": 4,
   "metadata": {},
   "outputs": [],
   "source": [
    "trainset = MelSpecDataset('train_classified-all.csv')\n",
    "trainloader = torch.utils.data.DataLoader(trainset, batch_size=TRAIN_BATCH_SIZE,shuffle=True)"
   ]
  },
  {
   "cell_type": "code",
   "execution_count": 10,
   "metadata": {},
   "outputs": [
    {
     "name": "stdout",
     "output_type": "stream",
     "text": [
      "cuda:  True\n"
     ]
    }
   ],
   "source": [
    "# CUDA\n",
    "is_cuda = True and torch.cuda.is_available()\n",
    "device = torch.device('cuda') if is_cuda else torch.device('cpu')\n",
    "\n",
    "print ('cuda: ', is_cuda)\n",
    "\n",
    "torch.cuda.empty_cache()"
   ]
  },
  {
   "cell_type": "code",
   "execution_count": 11,
   "metadata": {},
   "outputs": [],
   "source": [
    "#resnet = vmodels.resnet50(pretrained=True).to(device)\n",
    "model = RainforestNet().to(device)\n",
    "criterion = nn.CrossEntropyLoss()\n",
    "optimizer = optim.Adam(model.parameters(), lr=0.0001)"
   ]
  },
  {
   "cell_type": "code",
   "execution_count": 16,
   "metadata": {},
   "outputs": [
    {
     "name": "stdout",
     "output_type": "stream",
     "text": [
      "1216\n"
     ]
    }
   ],
   "source": [
    "print (len(trainset))"
   ]
  },
  {
   "cell_type": "code",
   "execution_count": 20,
   "metadata": {},
   "outputs": [
    {
     "name": "stdout",
     "output_type": "stream",
     "text": [
      "[1    50] loss: 3.135\n",
      "[1   100] loss: 2.913\n",
      "[1   150] loss: 2.777\n",
      "[1   200] loss: 2.640\n",
      "[1   250] loss: 2.338\n",
      "[1   300] loss: 2.369\n",
      "[2    50] loss: 2.129\n",
      "[2   100] loss: 2.197\n",
      "[2   150] loss: 2.029\n",
      "[2   200] loss: 1.865\n",
      "[2   250] loss: 1.821\n",
      "[2   300] loss: 1.785\n",
      "[3    50] loss: 1.678\n",
      "[3   100] loss: 1.559\n",
      "[3   150] loss: 1.488\n",
      "[3   200] loss: 1.336\n",
      "[3   250] loss: 1.224\n",
      "[3   300] loss: 1.217\n",
      "[4    50] loss: 1.253\n",
      "[4   100] loss: 1.053\n",
      "[4   150] loss: 0.956\n",
      "[4   200] loss: 0.981\n",
      "[4   250] loss: 0.919\n",
      "[4   300] loss: 0.804\n",
      "[5    50] loss: 0.754\n",
      "[5   100] loss: 0.786\n",
      "[5   150] loss: 0.828\n",
      "[5   200] loss: 0.583\n",
      "[5   250] loss: 0.611\n",
      "[5   300] loss: 0.720\n",
      "[6    50] loss: 0.500\n",
      "[6   100] loss: 0.624\n",
      "[6   150] loss: 0.569\n",
      "[6   200] loss: 0.524\n",
      "[6   250] loss: 0.523\n",
      "[6   300] loss: 0.549\n",
      "[7    50] loss: 0.488\n",
      "[7   100] loss: 0.516\n",
      "[7   150] loss: 0.439\n",
      "[7   200] loss: 0.373\n",
      "[7   250] loss: 0.464\n",
      "[7   300] loss: 0.371\n",
      "[8    50] loss: 0.384\n",
      "[8   100] loss: 0.455\n",
      "[8   150] loss: 0.269\n",
      "[8   200] loss: 0.209\n",
      "[8   250] loss: 0.304\n",
      "[8   300] loss: 0.286\n",
      "[9    50] loss: 0.249\n",
      "[9   100] loss: 0.336\n",
      "[9   150] loss: 0.298\n",
      "[9   200] loss: 0.235\n",
      "[9   250] loss: 0.283\n",
      "[9   300] loss: 0.293\n",
      "[10    50] loss: 0.350\n",
      "[10   100] loss: 0.352\n",
      "[10   150] loss: 0.312\n",
      "[10   200] loss: 0.200\n",
      "[10   250] loss: 0.208\n",
      "[10   300] loss: 0.268\n",
      "\n",
      "-------- DONE --------\n",
      "start time: 1608409803.5815954\n",
      "end time: 1608410308.1312122\n",
      "\n",
      "training duration: 504.54961681365967\n"
     ]
    }
   ],
   "source": [
    "# when tensors are of the same shape from the dataset, will use trainloader instead of trainset directly\n",
    "\n",
    "start_time = time.time()\n",
    "\n",
    "for epoch in range(EPOCHS):\n",
    "    running_loss = 0.0\n",
    "    for i, data in enumerate(trainloader):\n",
    "        inputs, labels = data\n",
    "        inputs, labels = inputs.to(device), labels.to(device)\n",
    "        \n",
    "        #print (inputs.shape)\n",
    "        #print (labels)\n",
    "                        \n",
    "        optimizer.zero_grad()\n",
    "                \n",
    "        output = model(inputs)\n",
    "        loss = criterion(output, labels)\n",
    "        \n",
    "        loss.backward()\n",
    "        optimizer.step()\n",
    "        \n",
    "        running_loss += loss.item()\n",
    "        if i % 50 == 49:    # print every 50 mini-batches\n",
    "            print('[%d %5d] loss: %.3f' %\n",
    "                    (epoch+1, i+1, running_loss / 50))\n",
    "            running_loss = 0.0\n",
    "            \n",
    "end_time = time.time()\n",
    "print ('\\n-------- DONE --------')\n",
    "print ('start time: {}'.format(start_time))\n",
    "print ('end time: {}\\n'.format(end_time))\n",
    "\n",
    "duration = end_time-start_time\n",
    "print ('training duration: {}'.format(duration))\n",
    "\n",
    "torch.save(model.state_dict(), 'models/rainforest{}.pt'.format(end_time))"
   ]
  },
  {
   "cell_type": "code",
   "execution_count": 7,
   "metadata": {},
   "outputs": [],
   "source": [
    "# visualize\n",
    "\n",
    "# for idx in range(len(train_classified)):\n",
    "#     ex = train_classified.iloc[idx]\n",
    "#     mfcc = ex.mfcc\n",
    "#     fig, ax = plt.subplots()\n",
    "#     img = librosa.display.specshow(mfcc, x_axis='time', ax=ax)\n",
    "#     fig.colorbar(img, ax=ax)\n",
    "#     ax.set(title='MFCC')"
   ]
  },
  {
   "cell_type": "code",
   "execution_count": 44,
   "metadata": {},
   "outputs": [],
   "source": [
    "import wave\n",
    "import struct\n",
    "\n",
    "def signal_to_wav(signal, fname, Fs):\n",
    "    \"\"\"Convert a numpy array into a wav file.\n",
    "\n",
    "     Args\n",
    "     ----\n",
    "     signal : 1-D numpy array\n",
    "         An array containing the audio signal.\n",
    "     fname : str\n",
    "         Name of the audio file where the signal will be saved.\n",
    "     Fs: int\n",
    "        Sampling rate of the signal.\n",
    "\n",
    "    \"\"\"\n",
    "    data = struct.pack('>' + ('d'*len(signal)), *signal)\n",
    "    wav_file = wave.open(fname, 'wb')\n",
    "    wav_file.setnchannels(1)\n",
    "    wav_file.setsampwidth(2)\n",
    "    wav_file.setframerate(Fs)\n",
    "    wav_file.writeframes(data)\n",
    "    wav_file.close()"
   ]
  },
  {
   "cell_type": "code",
   "execution_count": 51,
   "metadata": {},
   "outputs": [
    {
     "data": {
      "image/png": "[encoded data removed]",
      "text/plain": [
       "<Figure size 432x288 with 1 Axes>"
      ]
     },
     "metadata": {
      "needs_background": "light"
     },
     "output_type": "display_data"
    }
   ],
   "source": [
    "# this will currently not work since the waveforms are being dropped in the dataframe\n",
    "# \n",
    "\n",
    "import matplotlib.pyplot as plt\n",
    "wv, sample_rate = trainset.get_waveform(6)\n",
    "wv = wv.view(-1).numpy()\n",
    "\n",
    "plt.plot(wv);\n",
    "plt.title('Signal');\n",
    "plt.xlabel('Time (samples)');\n",
    "plt.ylabel('Amplitude');"
   ]
  }
 ],
 "metadata": {
  "kernelspec": {
   "display_name": "rainforest_proj",
   "language": "python",
   "name": "rainforest_proj"
  },
  "language_info": {
   "codemirror_mode": {
    "name": "ipython",
    "version": 3
   },
   "file_extension": ".py",
   "mimetype": "text/x-python",
   "name": "python",
   "nbconvert_exporter": "python",
   "pygments_lexer": "ipython3",
   "version": "3.8.6"
  }
 },
 "nbformat": 4,
 "nbformat_minor": 4
}
